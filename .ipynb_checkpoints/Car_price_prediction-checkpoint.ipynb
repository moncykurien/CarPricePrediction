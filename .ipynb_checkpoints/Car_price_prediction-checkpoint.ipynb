{
 "cells": [
  {
   "cell_type": "code",
   "execution_count": 1,
   "id": "aabbb016",
   "metadata": {},
   "outputs": [],
   "source": [
    "import pandas as pd\n",
    "import numpy as np\n",
    "import glob\n",
    "import re\n",
    "from sklearn.impute import SimpleImputer\n",
    "import matplotlib.pyplot as plt\n",
    "import seaborn as sns"
   ]
  },
  {
   "cell_type": "code",
   "execution_count": 2,
   "id": "9da3e5a6",
   "metadata": {},
   "outputs": [],
   "source": [
    "path = \"./data\" # use your path\n",
    "\n",
    "all_files = glob.glob(path + \"/*.csv\")\n",
    "\n",
    "li = []\n",
    "\n",
    "for filename in all_files:\n",
    "\n",
    "    df = pd.read_csv(filename, index_col=None, header=0)\n",
    "\n",
    "    li.append(df)\n",
    "\n",
    "frame = pd.concat(li, axis=0, ignore_index=True)"
   ]
  },
  {
   "cell_type": "code",
   "execution_count": 3,
   "id": "0fd08693",
   "metadata": {},
   "outputs": [
    {
     "data": {
      "text/html": [
       "<div>\n",
       "<style scoped>\n",
       "    .dataframe tbody tr th:only-of-type {\n",
       "        vertical-align: middle;\n",
       "    }\n",
       "\n",
       "    .dataframe tbody tr th {\n",
       "        vertical-align: top;\n",
       "    }\n",
       "\n",
       "    .dataframe thead th {\n",
       "        text-align: right;\n",
       "    }\n",
       "</style>\n",
       "<table border=\"1\" class=\"dataframe\">\n",
       "  <thead>\n",
       "    <tr style=\"text-align: right;\">\n",
       "      <th></th>\n",
       "      <th>brand</th>\n",
       "      <th>model</th>\n",
       "      <th>variant</th>\n",
       "      <th>manufactured_year</th>\n",
       "      <th>kilometers_driven</th>\n",
       "      <th>fuel_type</th>\n",
       "      <th>owners</th>\n",
       "      <th>location</th>\n",
       "      <th>price</th>\n",
       "    </tr>\n",
       "  </thead>\n",
       "  <tbody>\n",
       "    <tr>\n",
       "      <th>0</th>\n",
       "      <td>Maruti</td>\n",
       "      <td>Eeco</td>\n",
       "      <td>5 Seater AC BSIV</td>\n",
       "      <td>2016</td>\n",
       "      <td>45,347 Kms</td>\n",
       "      <td>Petrol</td>\n",
       "      <td>1st Owner</td>\n",
       "      <td>Ahmedabad</td>\n",
       "      <td>3,74,500</td>\n",
       "    </tr>\n",
       "    <tr>\n",
       "      <th>1</th>\n",
       "      <td>Maruti</td>\n",
       "      <td>Eeco</td>\n",
       "      <td>5 Seater AC</td>\n",
       "      <td>2020</td>\n",
       "      <td>17,116 Kms</td>\n",
       "      <td>Petrol</td>\n",
       "      <td>1st Owner</td>\n",
       "      <td>Ahmedabad</td>\n",
       "      <td>4,74,500</td>\n",
       "    </tr>\n",
       "    <tr>\n",
       "      <th>2</th>\n",
       "      <td>Maruti</td>\n",
       "      <td>Swift Dzire</td>\n",
       "      <td>VXI 1.2</td>\n",
       "      <td>2019</td>\n",
       "      <td>11,935 Kms</td>\n",
       "      <td>Petrol</td>\n",
       "      <td>1st Owner</td>\n",
       "      <td>Ahmedabad</td>\n",
       "      <td>6,91,000</td>\n",
       "    </tr>\n",
       "    <tr>\n",
       "      <th>3</th>\n",
       "      <td>Maruti</td>\n",
       "      <td>Wagon R</td>\n",
       "      <td>VXI</td>\n",
       "      <td>2014</td>\n",
       "      <td>131,125 Kms</td>\n",
       "      <td>Petrol</td>\n",
       "      <td>1st Owner</td>\n",
       "      <td>Ahmedabad</td>\n",
       "      <td>3,09,500</td>\n",
       "    </tr>\n",
       "    <tr>\n",
       "      <th>4</th>\n",
       "      <td>Maruti</td>\n",
       "      <td>Wagon R</td>\n",
       "      <td>VXI</td>\n",
       "      <td>2014</td>\n",
       "      <td>42,381 Kms</td>\n",
       "      <td>Petrol</td>\n",
       "      <td>1st Owner</td>\n",
       "      <td>Ahmedabad</td>\n",
       "      <td>3,61,000</td>\n",
       "    </tr>\n",
       "    <tr>\n",
       "      <th>...</th>\n",
       "      <td>...</td>\n",
       "      <td>...</td>\n",
       "      <td>...</td>\n",
       "      <td>...</td>\n",
       "      <td>...</td>\n",
       "      <td>...</td>\n",
       "      <td>...</td>\n",
       "      <td>...</td>\n",
       "      <td>...</td>\n",
       "    </tr>\n",
       "    <tr>\n",
       "      <th>5474</th>\n",
       "      <td>Honda</td>\n",
       "      <td>City</td>\n",
       "      <td>i-VTEC S</td>\n",
       "      <td>2011</td>\n",
       "      <td>77,500 km</td>\n",
       "      <td>Petrol</td>\n",
       "      <td>1st</td>\n",
       "      <td>Chandigarh</td>\n",
       "      <td>₹ 3,35,000</td>\n",
       "    </tr>\n",
       "    <tr>\n",
       "      <th>5475</th>\n",
       "      <td>Honda</td>\n",
       "      <td>WR-V</td>\n",
       "      <td>Honda WR-V Edge Edition i-DTEC S</td>\n",
       "      <td>2019</td>\n",
       "      <td>29,856 km</td>\n",
       "      <td>Petrol</td>\n",
       "      <td>1st</td>\n",
       "      <td>Chandigarh</td>\n",
       "      <td>₹ 7,25,000</td>\n",
       "    </tr>\n",
       "    <tr>\n",
       "      <th>5476</th>\n",
       "      <td>Honda</td>\n",
       "      <td>Brio</td>\n",
       "      <td>1.2 S MT</td>\n",
       "      <td>2013</td>\n",
       "      <td>20,600 km</td>\n",
       "      <td>Petrol</td>\n",
       "      <td>1st</td>\n",
       "      <td>Chandigarh</td>\n",
       "      <td>₹ 3,20,000</td>\n",
       "    </tr>\n",
       "    <tr>\n",
       "      <th>5477</th>\n",
       "      <td>Honda</td>\n",
       "      <td>City</td>\n",
       "      <td>2008-2011 1.5 V MT</td>\n",
       "      <td>2011</td>\n",
       "      <td>58,000 km</td>\n",
       "      <td>Petrol</td>\n",
       "      <td>1st</td>\n",
       "      <td>Chandigarh</td>\n",
       "      <td>₹ 3,35,000</td>\n",
       "    </tr>\n",
       "    <tr>\n",
       "      <th>5478</th>\n",
       "      <td>Honda</td>\n",
       "      <td>City ZX</td>\n",
       "      <td>GXi</td>\n",
       "      <td>2008</td>\n",
       "      <td>15 km</td>\n",
       "      <td>Petrol</td>\n",
       "      <td>2nd</td>\n",
       "      <td>Chandigarh</td>\n",
       "      <td>₹ 1,55,000</td>\n",
       "    </tr>\n",
       "  </tbody>\n",
       "</table>\n",
       "<p>5479 rows × 9 columns</p>\n",
       "</div>"
      ],
      "text/plain": [
       "       brand        model                           variant manufactured_year  \\\n",
       "0     Maruti         Eeco                  5 Seater AC BSIV              2016   \n",
       "1     Maruti         Eeco                       5 Seater AC              2020   \n",
       "2     Maruti  Swift Dzire                           VXI 1.2              2019   \n",
       "3     Maruti      Wagon R                               VXI              2014   \n",
       "4     Maruti      Wagon R                               VXI              2014   \n",
       "...      ...          ...                               ...               ...   \n",
       "5474   Honda         City                          i-VTEC S              2011   \n",
       "5475   Honda         WR-V  Honda WR-V Edge Edition i-DTEC S              2019   \n",
       "5476   Honda         Brio                          1.2 S MT              2013   \n",
       "5477   Honda         City                2008-2011 1.5 V MT              2011   \n",
       "5478   Honda      City ZX                               GXi              2008   \n",
       "\n",
       "     kilometers_driven fuel_type     owners    location       price  \n",
       "0           45,347 Kms    Petrol  1st Owner   Ahmedabad    3,74,500  \n",
       "1           17,116 Kms    Petrol  1st Owner   Ahmedabad    4,74,500  \n",
       "2           11,935 Kms    Petrol  1st Owner   Ahmedabad    6,91,000  \n",
       "3          131,125 Kms    Petrol  1st Owner   Ahmedabad    3,09,500  \n",
       "4           42,381 Kms    Petrol  1st Owner   Ahmedabad    3,61,000  \n",
       "...                ...       ...        ...         ...         ...  \n",
       "5474         77,500 km    Petrol        1st  Chandigarh  ₹ 3,35,000  \n",
       "5475         29,856 km    Petrol        1st  Chandigarh  ₹ 7,25,000  \n",
       "5476         20,600 km    Petrol        1st  Chandigarh  ₹ 3,20,000  \n",
       "5477         58,000 km    Petrol        1st  Chandigarh  ₹ 3,35,000  \n",
       "5478             15 km    Petrol        2nd  Chandigarh  ₹ 1,55,000  \n",
       "\n",
       "[5479 rows x 9 columns]"
      ]
     },
     "execution_count": 3,
     "metadata": {},
     "output_type": "execute_result"
    }
   ],
   "source": [
    "frame = frame.drop(['Unnamed: 0'], axis=1)\n",
    "frame"
   ]
  },
  {
   "cell_type": "code",
   "execution_count": 4,
   "id": "06859a4b",
   "metadata": {},
   "outputs": [
    {
     "data": {
      "text/plain": [
       "(5479, 9)"
      ]
     },
     "execution_count": 4,
     "metadata": {},
     "output_type": "execute_result"
    }
   ],
   "source": [
    "frame.shape"
   ]
  },
  {
   "cell_type": "code",
   "execution_count": 5,
   "id": "f9843475",
   "metadata": {},
   "outputs": [
    {
     "name": "stdout",
     "output_type": "stream",
     "text": [
      "<class 'pandas.core.frame.DataFrame'>\n",
      "RangeIndex: 5479 entries, 0 to 5478\n",
      "Data columns (total 9 columns):\n",
      " #   Column             Non-Null Count  Dtype \n",
      "---  ------             --------------  ----- \n",
      " 0   brand              5479 non-null   object\n",
      " 1   model              5479 non-null   object\n",
      " 2   variant            5479 non-null   object\n",
      " 3   manufactured_year  5479 non-null   object\n",
      " 4   kilometers_driven  5454 non-null   object\n",
      " 5   fuel_type          5473 non-null   object\n",
      " 6   owners             5479 non-null   object\n",
      " 7   location           5479 non-null   object\n",
      " 8   price              5479 non-null   object\n",
      "dtypes: object(9)\n",
      "memory usage: 385.4+ KB\n"
     ]
    }
   ],
   "source": [
    "frame.info()"
   ]
  },
  {
   "cell_type": "code",
   "execution_count": 6,
   "id": "eb438dc4",
   "metadata": {},
   "outputs": [
    {
     "data": {
      "text/html": [
       "<div>\n",
       "<style scoped>\n",
       "    .dataframe tbody tr th:only-of-type {\n",
       "        vertical-align: middle;\n",
       "    }\n",
       "\n",
       "    .dataframe tbody tr th {\n",
       "        vertical-align: top;\n",
       "    }\n",
       "\n",
       "    .dataframe thead th {\n",
       "        text-align: right;\n",
       "    }\n",
       "</style>\n",
       "<table border=\"1\" class=\"dataframe\">\n",
       "  <thead>\n",
       "    <tr style=\"text-align: right;\">\n",
       "      <th></th>\n",
       "      <th>brand</th>\n",
       "      <th>model</th>\n",
       "      <th>variant</th>\n",
       "      <th>manufactured_year</th>\n",
       "      <th>kilometers_driven</th>\n",
       "      <th>fuel_type</th>\n",
       "      <th>owners</th>\n",
       "      <th>location</th>\n",
       "      <th>price</th>\n",
       "    </tr>\n",
       "  </thead>\n",
       "  <tbody>\n",
       "    <tr>\n",
       "      <th>count</th>\n",
       "      <td>5479</td>\n",
       "      <td>5479</td>\n",
       "      <td>5479</td>\n",
       "      <td>5479</td>\n",
       "      <td>5454</td>\n",
       "      <td>5473</td>\n",
       "      <td>5479</td>\n",
       "      <td>5479</td>\n",
       "      <td>5479</td>\n",
       "    </tr>\n",
       "    <tr>\n",
       "      <th>unique</th>\n",
       "      <td>54</td>\n",
       "      <td>291</td>\n",
       "      <td>1728</td>\n",
       "      <td>90</td>\n",
       "      <td>1804</td>\n",
       "      <td>11</td>\n",
       "      <td>17</td>\n",
       "      <td>19</td>\n",
       "      <td>1375</td>\n",
       "    </tr>\n",
       "    <tr>\n",
       "      <th>top</th>\n",
       "      <td>Hyundai</td>\n",
       "      <td>--</td>\n",
       "      <td>Others</td>\n",
       "      <td>2017</td>\n",
       "      <td>70,000 kms</td>\n",
       "      <td>Diesel</td>\n",
       "      <td>First Owner</td>\n",
       "      <td>Mumbai</td>\n",
       "      <td>3.25 Lakh*</td>\n",
       "    </tr>\n",
       "    <tr>\n",
       "      <th>freq</th>\n",
       "      <td>434</td>\n",
       "      <td>141</td>\n",
       "      <td>108</td>\n",
       "      <td>619</td>\n",
       "      <td>86</td>\n",
       "      <td>3098</td>\n",
       "      <td>2749</td>\n",
       "      <td>757</td>\n",
       "      <td>53</td>\n",
       "    </tr>\n",
       "  </tbody>\n",
       "</table>\n",
       "</div>"
      ],
      "text/plain": [
       "          brand model variant manufactured_year kilometers_driven fuel_type  \\\n",
       "count      5479  5479    5479              5479              5454      5473   \n",
       "unique       54   291    1728                90              1804        11   \n",
       "top     Hyundai    --  Others              2017        70,000 kms    Diesel   \n",
       "freq        434   141     108               619                86      3098   \n",
       "\n",
       "             owners location       price  \n",
       "count          5479     5479        5479  \n",
       "unique           17       19        1375  \n",
       "top     First Owner   Mumbai  3.25 Lakh*  \n",
       "freq           2749      757          53  "
      ]
     },
     "execution_count": 6,
     "metadata": {},
     "output_type": "execute_result"
    }
   ],
   "source": [
    "frame.describe()"
   ]
  },
  {
   "cell_type": "code",
   "execution_count": 7,
   "id": "b01d4cc0",
   "metadata": {},
   "outputs": [
    {
     "data": {
      "text/plain": [
       "brand                 0\n",
       "model                 0\n",
       "variant               0\n",
       "manufactured_year     0\n",
       "kilometers_driven    25\n",
       "fuel_type             6\n",
       "owners                0\n",
       "location              0\n",
       "price                 0\n",
       "dtype: int64"
      ]
     },
     "execution_count": 7,
     "metadata": {},
     "output_type": "execute_result"
    }
   ],
   "source": [
    "frame.isnull().sum()"
   ]
  },
  {
   "cell_type": "markdown",
   "id": "16acc211",
   "metadata": {},
   "source": [
    "Observations:\n",
    "1. There are missing values in Kilometers_driven and fuel_type features."
   ]
  },
  {
   "cell_type": "code",
   "execution_count": 8,
   "id": "50a6d698",
   "metadata": {},
   "outputs": [
    {
     "data": {
      "text/html": [
       "<div>\n",
       "<style scoped>\n",
       "    .dataframe tbody tr th:only-of-type {\n",
       "        vertical-align: middle;\n",
       "    }\n",
       "\n",
       "    .dataframe tbody tr th {\n",
       "        vertical-align: top;\n",
       "    }\n",
       "\n",
       "    .dataframe thead th {\n",
       "        text-align: right;\n",
       "    }\n",
       "</style>\n",
       "<table border=\"1\" class=\"dataframe\">\n",
       "  <thead>\n",
       "    <tr style=\"text-align: right;\">\n",
       "      <th></th>\n",
       "      <th>brand</th>\n",
       "      <th>model</th>\n",
       "      <th>variant</th>\n",
       "      <th>manufactured_year</th>\n",
       "      <th>kilometers_driven</th>\n",
       "      <th>fuel_type</th>\n",
       "      <th>owners</th>\n",
       "      <th>location</th>\n",
       "      <th>price</th>\n",
       "    </tr>\n",
       "  </thead>\n",
       "  <tbody>\n",
       "    <tr>\n",
       "      <th>357</th>\n",
       "      <td>Land-Rover</td>\n",
       "      <td>--</td>\n",
       "      <td>2.0 TD4 HSE Dynamic</td>\n",
       "      <td>2016 Land Rover Range Rover Evoque</td>\n",
       "      <td>NaN</td>\n",
       "      <td>Diesel</td>\n",
       "      <td>Owner</td>\n",
       "      <td>Bangalore</td>\n",
       "      <td>--</td>\n",
       "    </tr>\n",
       "    <tr>\n",
       "      <th>358</th>\n",
       "      <td>Land-Rover</td>\n",
       "      <td>--</td>\n",
       "      <td>3.0 Vogue</td>\n",
       "      <td>2013 Land Rover Range Rover</td>\n",
       "      <td>NaN</td>\n",
       "      <td>Diesel</td>\n",
       "      <td>Owner</td>\n",
       "      <td>Bangalore</td>\n",
       "      <td>--</td>\n",
       "    </tr>\n",
       "    <tr>\n",
       "      <th>359</th>\n",
       "      <td>Land-Rover</td>\n",
       "      <td>--</td>\n",
       "      <td>3.6 TDV8 Vogue SE Diesel</td>\n",
       "      <td>2011 Land Rover Range Rover</td>\n",
       "      <td>NaN</td>\n",
       "      <td>Diesel</td>\n",
       "      <td>Owner</td>\n",
       "      <td>Bangalore</td>\n",
       "      <td>--</td>\n",
       "    </tr>\n",
       "    <tr>\n",
       "      <th>1011</th>\n",
       "      <td>Maruti</td>\n",
       "      <td>Swift Dzire</td>\n",
       "      <td>VDI</td>\n",
       "      <td>2019</td>\n",
       "      <td>NaN</td>\n",
       "      <td>--</td>\n",
       "      <td>--</td>\n",
       "      <td>Jaipur</td>\n",
       "      <td>--</td>\n",
       "    </tr>\n",
       "    <tr>\n",
       "      <th>1012</th>\n",
       "      <td>Maruti</td>\n",
       "      <td>Swift Dzire</td>\n",
       "      <td>VDI</td>\n",
       "      <td>2019</td>\n",
       "      <td>NaN</td>\n",
       "      <td>--</td>\n",
       "      <td>--</td>\n",
       "      <td>Jaipur</td>\n",
       "      <td>--</td>\n",
       "    </tr>\n",
       "    <tr>\n",
       "      <th>1352</th>\n",
       "      <td>Maruti</td>\n",
       "      <td>Vitara Brezza</td>\n",
       "      <td>ZDi Plus</td>\n",
       "      <td>2016</td>\n",
       "      <td>NaN</td>\n",
       "      <td>--</td>\n",
       "      <td>--</td>\n",
       "      <td>Mumbai</td>\n",
       "      <td>--</td>\n",
       "    </tr>\n",
       "    <tr>\n",
       "      <th>1353</th>\n",
       "      <td>Maruti</td>\n",
       "      <td>Swift</td>\n",
       "      <td>VXI Optional</td>\n",
       "      <td>2016</td>\n",
       "      <td>NaN</td>\n",
       "      <td>--</td>\n",
       "      <td>--</td>\n",
       "      <td>Mumbai</td>\n",
       "      <td>--</td>\n",
       "    </tr>\n",
       "    <tr>\n",
       "      <th>1354</th>\n",
       "      <td>Maruti</td>\n",
       "      <td>Vitara Brezza</td>\n",
       "      <td>ZDi Plus</td>\n",
       "      <td>2016</td>\n",
       "      <td>NaN</td>\n",
       "      <td>--</td>\n",
       "      <td>--</td>\n",
       "      <td>Mumbai</td>\n",
       "      <td>--</td>\n",
       "    </tr>\n",
       "    <tr>\n",
       "      <th>1355</th>\n",
       "      <td>Maruti</td>\n",
       "      <td>Wagon R</td>\n",
       "      <td>VXI BS IV</td>\n",
       "      <td>2014</td>\n",
       "      <td>NaN</td>\n",
       "      <td>--</td>\n",
       "      <td>--</td>\n",
       "      <td>Mumbai</td>\n",
       "      <td>--</td>\n",
       "    </tr>\n",
       "    <tr>\n",
       "      <th>1356</th>\n",
       "      <td>Maruti</td>\n",
       "      <td>Wagon R</td>\n",
       "      <td>VXI</td>\n",
       "      <td>2017</td>\n",
       "      <td>NaN</td>\n",
       "      <td>--</td>\n",
       "      <td>--</td>\n",
       "      <td>Mumbai</td>\n",
       "      <td>--</td>\n",
       "    </tr>\n",
       "    <tr>\n",
       "      <th>1357</th>\n",
       "      <td>Maruti</td>\n",
       "      <td>Wagon R</td>\n",
       "      <td>LXI CNG</td>\n",
       "      <td>2014</td>\n",
       "      <td>NaN</td>\n",
       "      <td>--</td>\n",
       "      <td>--</td>\n",
       "      <td>Mumbai</td>\n",
       "      <td>--</td>\n",
       "    </tr>\n",
       "    <tr>\n",
       "      <th>1512</th>\n",
       "      <td>Land-Rover</td>\n",
       "      <td>--</td>\n",
       "      <td>SD4 HSE Luxury 7S</td>\n",
       "      <td>2017 Land Rover Discovery Sport</td>\n",
       "      <td>NaN</td>\n",
       "      <td>Diesel</td>\n",
       "      <td>Owner</td>\n",
       "      <td>Mumbai</td>\n",
       "      <td>--</td>\n",
       "    </tr>\n",
       "    <tr>\n",
       "      <th>1513</th>\n",
       "      <td>Land-Rover</td>\n",
       "      <td>--</td>\n",
       "      <td>LWB 4.4 SDV8 Vogue SE</td>\n",
       "      <td>2012 Land Rover Range Rover</td>\n",
       "      <td>NaN</td>\n",
       "      <td>Diesel</td>\n",
       "      <td>Owner</td>\n",
       "      <td>Mumbai</td>\n",
       "      <td>--</td>\n",
       "    </tr>\n",
       "    <tr>\n",
       "      <th>1514</th>\n",
       "      <td>Land-Rover</td>\n",
       "      <td>--</td>\n",
       "      <td>TD4 HSE Luxury</td>\n",
       "      <td>2017 Land Rover Discovery Sport</td>\n",
       "      <td>NaN</td>\n",
       "      <td>Diesel</td>\n",
       "      <td>Owner</td>\n",
       "      <td>Mumbai</td>\n",
       "      <td>--</td>\n",
       "    </tr>\n",
       "    <tr>\n",
       "      <th>1733</th>\n",
       "      <td>Maruti</td>\n",
       "      <td>Wagon R</td>\n",
       "      <td>VXI BS IV</td>\n",
       "      <td>2014</td>\n",
       "      <td>NaN</td>\n",
       "      <td>--</td>\n",
       "      <td>--</td>\n",
       "      <td>Pune</td>\n",
       "      <td>--</td>\n",
       "    </tr>\n",
       "    <tr>\n",
       "      <th>1738</th>\n",
       "      <td>Maruti</td>\n",
       "      <td>Swift Dzire</td>\n",
       "      <td>ZXI</td>\n",
       "      <td>2014</td>\n",
       "      <td>NaN</td>\n",
       "      <td>--</td>\n",
       "      <td>--</td>\n",
       "      <td>Pune</td>\n",
       "      <td>--</td>\n",
       "    </tr>\n",
       "    <tr>\n",
       "      <th>1743</th>\n",
       "      <td>Hyundai</td>\n",
       "      <td>i20</td>\n",
       "      <td>Petrol Spotz</td>\n",
       "      <td>2018</td>\n",
       "      <td>NaN</td>\n",
       "      <td>--</td>\n",
       "      <td>--</td>\n",
       "      <td>Pune</td>\n",
       "      <td>--</td>\n",
       "    </tr>\n",
       "    <tr>\n",
       "      <th>1744</th>\n",
       "      <td>Hyundai</td>\n",
       "      <td>Grand i10</td>\n",
       "      <td>Asta</td>\n",
       "      <td>2015</td>\n",
       "      <td>NaN</td>\n",
       "      <td>--</td>\n",
       "      <td>--</td>\n",
       "      <td>Pune</td>\n",
       "      <td>--</td>\n",
       "    </tr>\n",
       "    <tr>\n",
       "      <th>2333</th>\n",
       "      <td>Renault</td>\n",
       "      <td>Duster</td>\n",
       "      <td>85PS Diesel RxL</td>\n",
       "      <td>2014</td>\n",
       "      <td>NaN</td>\n",
       "      <td>--</td>\n",
       "      <td>--</td>\n",
       "      <td>Bangalore</td>\n",
       "      <td>--</td>\n",
       "    </tr>\n",
       "    <tr>\n",
       "      <th>2440</th>\n",
       "      <td>Land-Rover</td>\n",
       "      <td>--</td>\n",
       "      <td>TD4 HSE 7S</td>\n",
       "      <td>2015 Land Rover Discovery Sport</td>\n",
       "      <td>NaN</td>\n",
       "      <td>Diesel</td>\n",
       "      <td>Owner</td>\n",
       "      <td>Bangalore</td>\n",
       "      <td>--</td>\n",
       "    </tr>\n",
       "    <tr>\n",
       "      <th>2441</th>\n",
       "      <td>Land-Rover</td>\n",
       "      <td>--</td>\n",
       "      <td>2.0 TD4 HSE Dynamic</td>\n",
       "      <td>2016 Land Rover Range Rover Evoque</td>\n",
       "      <td>NaN</td>\n",
       "      <td>Diesel</td>\n",
       "      <td>Owner</td>\n",
       "      <td>Bangalore</td>\n",
       "      <td>--</td>\n",
       "    </tr>\n",
       "    <tr>\n",
       "      <th>2442</th>\n",
       "      <td>Land-Rover</td>\n",
       "      <td>--</td>\n",
       "      <td>3.0 Vogue</td>\n",
       "      <td>2013 Land Rover Range Rover</td>\n",
       "      <td>NaN</td>\n",
       "      <td>Diesel</td>\n",
       "      <td>Owner</td>\n",
       "      <td>Bangalore</td>\n",
       "      <td>--</td>\n",
       "    </tr>\n",
       "    <tr>\n",
       "      <th>4009</th>\n",
       "      <td>Land-Rover</td>\n",
       "      <td>--</td>\n",
       "      <td>LWB 4.4 SDV8 Vogue SE</td>\n",
       "      <td>2012 Land Rover Range Rover</td>\n",
       "      <td>NaN</td>\n",
       "      <td>Diesel</td>\n",
       "      <td>Owner</td>\n",
       "      <td>Mumbai</td>\n",
       "      <td>--</td>\n",
       "    </tr>\n",
       "    <tr>\n",
       "      <th>4010</th>\n",
       "      <td>Land-Rover</td>\n",
       "      <td>--</td>\n",
       "      <td>HSE 3.0 TD6</td>\n",
       "      <td>2020 Land Rover Discovery</td>\n",
       "      <td>NaN</td>\n",
       "      <td>Diesel</td>\n",
       "      <td>Owner</td>\n",
       "      <td>Mumbai</td>\n",
       "      <td>--</td>\n",
       "    </tr>\n",
       "    <tr>\n",
       "      <th>4011</th>\n",
       "      <td>Land-Rover</td>\n",
       "      <td>--</td>\n",
       "      <td>3.0 D SE</td>\n",
       "      <td>2015 Land Rover Range Rover Sport</td>\n",
       "      <td>NaN</td>\n",
       "      <td>Diesel</td>\n",
       "      <td>Owner</td>\n",
       "      <td>Mumbai</td>\n",
       "      <td>--</td>\n",
       "    </tr>\n",
       "  </tbody>\n",
       "</table>\n",
       "</div>"
      ],
      "text/plain": [
       "           brand          model                   variant  \\\n",
       "357   Land-Rover             --       2.0 TD4 HSE Dynamic   \n",
       "358   Land-Rover             --                 3.0 Vogue   \n",
       "359   Land-Rover             --  3.6 TDV8 Vogue SE Diesel   \n",
       "1011      Maruti    Swift Dzire                       VDI   \n",
       "1012      Maruti    Swift Dzire                       VDI   \n",
       "1352      Maruti  Vitara Brezza                  ZDi Plus   \n",
       "1353      Maruti          Swift              VXI Optional   \n",
       "1354      Maruti  Vitara Brezza                  ZDi Plus   \n",
       "1355      Maruti        Wagon R                 VXI BS IV   \n",
       "1356      Maruti        Wagon R                       VXI   \n",
       "1357      Maruti        Wagon R                   LXI CNG   \n",
       "1512  Land-Rover             --         SD4 HSE Luxury 7S   \n",
       "1513  Land-Rover             --     LWB 4.4 SDV8 Vogue SE   \n",
       "1514  Land-Rover             --            TD4 HSE Luxury   \n",
       "1733      Maruti        Wagon R                 VXI BS IV   \n",
       "1738      Maruti    Swift Dzire                       ZXI   \n",
       "1743     Hyundai            i20              Petrol Spotz   \n",
       "1744     Hyundai      Grand i10                      Asta   \n",
       "2333     Renault         Duster           85PS Diesel RxL   \n",
       "2440  Land-Rover             --                TD4 HSE 7S   \n",
       "2441  Land-Rover             --       2.0 TD4 HSE Dynamic   \n",
       "2442  Land-Rover             --                 3.0 Vogue   \n",
       "4009  Land-Rover             --     LWB 4.4 SDV8 Vogue SE   \n",
       "4010  Land-Rover             --               HSE 3.0 TD6   \n",
       "4011  Land-Rover             --                  3.0 D SE   \n",
       "\n",
       "                       manufactured_year kilometers_driven fuel_type owners  \\\n",
       "357   2016 Land Rover Range Rover Evoque               NaN    Diesel  Owner   \n",
       "358          2013 Land Rover Range Rover               NaN    Diesel  Owner   \n",
       "359          2011 Land Rover Range Rover               NaN    Diesel  Owner   \n",
       "1011                                2019               NaN        --     --   \n",
       "1012                                2019               NaN        --     --   \n",
       "1352                                2016               NaN        --     --   \n",
       "1353                                2016               NaN        --     --   \n",
       "1354                                2016               NaN        --     --   \n",
       "1355                                2014               NaN        --     --   \n",
       "1356                                2017               NaN        --     --   \n",
       "1357                                2014               NaN        --     --   \n",
       "1512     2017 Land Rover Discovery Sport               NaN    Diesel  Owner   \n",
       "1513         2012 Land Rover Range Rover               NaN    Diesel  Owner   \n",
       "1514     2017 Land Rover Discovery Sport               NaN    Diesel  Owner   \n",
       "1733                                2014               NaN        --     --   \n",
       "1738                                2014               NaN        --     --   \n",
       "1743                                2018               NaN        --     --   \n",
       "1744                                2015               NaN        --     --   \n",
       "2333                                2014               NaN        --     --   \n",
       "2440     2015 Land Rover Discovery Sport               NaN    Diesel  Owner   \n",
       "2441  2016 Land Rover Range Rover Evoque               NaN    Diesel  Owner   \n",
       "2442         2013 Land Rover Range Rover               NaN    Diesel  Owner   \n",
       "4009         2012 Land Rover Range Rover               NaN    Diesel  Owner   \n",
       "4010           2020 Land Rover Discovery               NaN    Diesel  Owner   \n",
       "4011   2015 Land Rover Range Rover Sport               NaN    Diesel  Owner   \n",
       "\n",
       "       location price  \n",
       "357   Bangalore    --  \n",
       "358   Bangalore    --  \n",
       "359   Bangalore    --  \n",
       "1011     Jaipur    --  \n",
       "1012     Jaipur    --  \n",
       "1352     Mumbai    --  \n",
       "1353     Mumbai    --  \n",
       "1354     Mumbai    --  \n",
       "1355     Mumbai    --  \n",
       "1356     Mumbai    --  \n",
       "1357     Mumbai    --  \n",
       "1512     Mumbai    --  \n",
       "1513     Mumbai    --  \n",
       "1514     Mumbai    --  \n",
       "1733       Pune    --  \n",
       "1738       Pune    --  \n",
       "1743       Pune    --  \n",
       "1744       Pune    --  \n",
       "2333  Bangalore    --  \n",
       "2440  Bangalore    --  \n",
       "2441  Bangalore    --  \n",
       "2442  Bangalore    --  \n",
       "4009     Mumbai    --  \n",
       "4010     Mumbai    --  \n",
       "4011     Mumbai    --  "
      ]
     },
     "execution_count": 8,
     "metadata": {},
     "output_type": "execute_result"
    }
   ],
   "source": [
    "frame[frame['kilometers_driven'].isnull()]"
   ]
  },
  {
   "cell_type": "code",
   "execution_count": 9,
   "id": "8c726c04",
   "metadata": {},
   "outputs": [
    {
     "data": {
      "text/plain": [
       "array(['Maruti', 'Hyundai', 'Honda', 'Toyota', 'Mahindra', 'Ford',\n",
       "       'Volkswagen', 'Tata', 'Renault', 'Mercedes-Benz', 'BMW',\n",
       "       'Chevrolet', 'Audi', 'Nissan', 'Skoda', 'Datsun', 'Fiat', 'Volvo',\n",
       "       'Jeep', 'Kia', 'Land-Rover', 'Mahindra-Ssangyong', 'MG',\n",
       "       'Mitsubishi', 'Porsche', 'Mini', 'Mahindra-Renault', 'Jaguar',\n",
       "       'Lexus', 'Premier', 'Hindustan-Motors', 'Isuzu', 'Opel', 'Bentley',\n",
       "       'Force', 'Maserati', 'Maruti Suzuki', 'Honda\\n/', 'Bolero',\n",
       "       'Marazzo', 'Others', 'Etios Liva', 'Tavera', 'KWID',\n",
       "       'Other Brands', 'Zen Estilo', 'Indigo CS', 'Indica Vista',\n",
       "       'Scorpio', 'Scorpio Getaway', 'City ZX', 'Jazz', 'Chevrolet\\n/',\n",
       "       'Renault\\n/'], dtype=object)"
      ]
     },
     "execution_count": 9,
     "metadata": {},
     "output_type": "execute_result"
    }
   ],
   "source": [
    "frame['brand'].unique()"
   ]
  },
  {
   "cell_type": "code",
   "execution_count": 10,
   "id": "8081c43f",
   "metadata": {},
   "outputs": [
    {
     "data": {
      "text/html": [
       "<div>\n",
       "<style scoped>\n",
       "    .dataframe tbody tr th:only-of-type {\n",
       "        vertical-align: middle;\n",
       "    }\n",
       "\n",
       "    .dataframe tbody tr th {\n",
       "        vertical-align: top;\n",
       "    }\n",
       "\n",
       "    .dataframe thead th {\n",
       "        text-align: right;\n",
       "    }\n",
       "</style>\n",
       "<table border=\"1\" class=\"dataframe\">\n",
       "  <thead>\n",
       "    <tr style=\"text-align: right;\">\n",
       "      <th></th>\n",
       "      <th>brand</th>\n",
       "      <th>model</th>\n",
       "      <th>variant</th>\n",
       "      <th>manufactured_year</th>\n",
       "      <th>kilometers_driven</th>\n",
       "      <th>fuel_type</th>\n",
       "      <th>owners</th>\n",
       "      <th>location</th>\n",
       "      <th>price</th>\n",
       "    </tr>\n",
       "  </thead>\n",
       "  <tbody>\n",
       "    <tr>\n",
       "      <th>185</th>\n",
       "      <td>Land-Rover</td>\n",
       "      <td>--</td>\n",
       "      <td>TD4 SE</td>\n",
       "      <td>2011 Land Rover Freelander 2</td>\n",
       "      <td>1,11,000 kms</td>\n",
       "      <td>Diesel</td>\n",
       "      <td>Second Owner</td>\n",
       "      <td>Ahmedabad</td>\n",
       "      <td>12.5 Lakh*</td>\n",
       "    </tr>\n",
       "    <tr>\n",
       "      <th>186</th>\n",
       "      <td>Land-Rover</td>\n",
       "      <td>--</td>\n",
       "      <td>2.0 TD4 SE</td>\n",
       "      <td>2018 Land Rover Range Rover Evoque</td>\n",
       "      <td>55,000 kms</td>\n",
       "      <td>Diesel</td>\n",
       "      <td>First Owner</td>\n",
       "      <td>Ahmedabad</td>\n",
       "      <td>42 Lakh*</td>\n",
       "    </tr>\n",
       "    <tr>\n",
       "      <th>187</th>\n",
       "      <td>Land-Rover</td>\n",
       "      <td>--</td>\n",
       "      <td>TD4 SE</td>\n",
       "      <td>2011 Land Rover Freelander 2</td>\n",
       "      <td>1,11,000 kms</td>\n",
       "      <td>Diesel</td>\n",
       "      <td>Second Owner</td>\n",
       "      <td>Ahmedabad</td>\n",
       "      <td>12.5 Lakh*</td>\n",
       "    </tr>\n",
       "    <tr>\n",
       "      <th>188</th>\n",
       "      <td>Land-Rover</td>\n",
       "      <td>--</td>\n",
       "      <td>TD4 SE</td>\n",
       "      <td>2012 Land Rover Freelander 2</td>\n",
       "      <td>1,16,000 kms</td>\n",
       "      <td>Diesel</td>\n",
       "      <td>First Owner</td>\n",
       "      <td>Ahmedabad</td>\n",
       "      <td>11.85 Lakh*</td>\n",
       "    </tr>\n",
       "    <tr>\n",
       "      <th>189</th>\n",
       "      <td>Mahindra-Ssangyong</td>\n",
       "      <td>--</td>\n",
       "      <td>RX7</td>\n",
       "      <td>2016 Mahindra Ssangyong Rexton</td>\n",
       "      <td>43,000 kms</td>\n",
       "      <td>Diesel</td>\n",
       "      <td>First Owner</td>\n",
       "      <td>Ahmedabad</td>\n",
       "      <td>9.75 Lakh*</td>\n",
       "    </tr>\n",
       "    <tr>\n",
       "      <th>...</th>\n",
       "      <td>...</td>\n",
       "      <td>...</td>\n",
       "      <td>...</td>\n",
       "      <td>...</td>\n",
       "      <td>...</td>\n",
       "      <td>...</td>\n",
       "      <td>...</td>\n",
       "      <td>...</td>\n",
       "      <td>...</td>\n",
       "    </tr>\n",
       "    <tr>\n",
       "      <th>4122</th>\n",
       "      <td>Mahindra-Renault</td>\n",
       "      <td>--</td>\n",
       "      <td>1.4 GL Petrol</td>\n",
       "      <td>2008 Mahindra Renault Logan</td>\n",
       "      <td>40,000 kms</td>\n",
       "      <td>Petrol</td>\n",
       "      <td>Second Owner</td>\n",
       "      <td>Mumbai</td>\n",
       "      <td>1.35 Lakh*</td>\n",
       "    </tr>\n",
       "    <tr>\n",
       "      <th>4125</th>\n",
       "      <td>Hindustan-Motors</td>\n",
       "      <td>--</td>\n",
       "      <td>Grand 2000 DSZ</td>\n",
       "      <td>2000 Ambassador</td>\n",
       "      <td>48,000 kms</td>\n",
       "      <td>Diesel</td>\n",
       "      <td>Second Owner</td>\n",
       "      <td>Mumbai</td>\n",
       "      <td>2.25 Lakh*</td>\n",
       "    </tr>\n",
       "    <tr>\n",
       "      <th>4126</th>\n",
       "      <td>Hindustan-Motors</td>\n",
       "      <td>--</td>\n",
       "      <td>Grand 1800 ISZ MPFI</td>\n",
       "      <td>2008 Ambassador</td>\n",
       "      <td>13,650 kms</td>\n",
       "      <td>Petrol</td>\n",
       "      <td>First Owner</td>\n",
       "      <td>Mumbai</td>\n",
       "      <td>5.88 Lakh*</td>\n",
       "    </tr>\n",
       "    <tr>\n",
       "      <th>4132</th>\n",
       "      <td>Mahindra-Ssangyong</td>\n",
       "      <td>--</td>\n",
       "      <td>RX7</td>\n",
       "      <td>2013 Mahindra Ssangyong Rexton</td>\n",
       "      <td>89,000 kms</td>\n",
       "      <td>Diesel</td>\n",
       "      <td>First Owner</td>\n",
       "      <td>Mumbai</td>\n",
       "      <td>6.5 Lakh*</td>\n",
       "    </tr>\n",
       "    <tr>\n",
       "      <th>4209</th>\n",
       "      <td>Mahindra-Ssangyong</td>\n",
       "      <td>--</td>\n",
       "      <td>RX7</td>\n",
       "      <td>2013 Mahindra Ssangyong Rexton</td>\n",
       "      <td>75,000 kms</td>\n",
       "      <td>Diesel</td>\n",
       "      <td>Second Owner</td>\n",
       "      <td>Noida</td>\n",
       "      <td>6.25 Lakh*</td>\n",
       "    </tr>\n",
       "  </tbody>\n",
       "</table>\n",
       "<p>141 rows × 9 columns</p>\n",
       "</div>"
      ],
      "text/plain": [
       "                   brand model              variant  \\\n",
       "185           Land-Rover    --               TD4 SE   \n",
       "186           Land-Rover    --           2.0 TD4 SE   \n",
       "187           Land-Rover    --               TD4 SE   \n",
       "188           Land-Rover    --               TD4 SE   \n",
       "189   Mahindra-Ssangyong    --                  RX7   \n",
       "...                  ...   ...                  ...   \n",
       "4122    Mahindra-Renault    --        1.4 GL Petrol   \n",
       "4125    Hindustan-Motors    --       Grand 2000 DSZ   \n",
       "4126    Hindustan-Motors    --  Grand 1800 ISZ MPFI   \n",
       "4132  Mahindra-Ssangyong    --                  RX7   \n",
       "4209  Mahindra-Ssangyong    --                  RX7   \n",
       "\n",
       "                       manufactured_year kilometers_driven fuel_type  \\\n",
       "185         2011 Land Rover Freelander 2      1,11,000 kms    Diesel   \n",
       "186   2018 Land Rover Range Rover Evoque        55,000 kms    Diesel   \n",
       "187         2011 Land Rover Freelander 2      1,11,000 kms    Diesel   \n",
       "188         2012 Land Rover Freelander 2      1,16,000 kms    Diesel   \n",
       "189       2016 Mahindra Ssangyong Rexton        43,000 kms    Diesel   \n",
       "...                                  ...               ...       ...   \n",
       "4122         2008 Mahindra Renault Logan        40,000 kms    Petrol   \n",
       "4125                     2000 Ambassador        48,000 kms    Diesel   \n",
       "4126                     2008 Ambassador        13,650 kms    Petrol   \n",
       "4132      2013 Mahindra Ssangyong Rexton        89,000 kms    Diesel   \n",
       "4209      2013 Mahindra Ssangyong Rexton        75,000 kms    Diesel   \n",
       "\n",
       "            owners   location        price  \n",
       "185   Second Owner  Ahmedabad   12.5 Lakh*  \n",
       "186    First Owner  Ahmedabad     42 Lakh*  \n",
       "187   Second Owner  Ahmedabad   12.5 Lakh*  \n",
       "188    First Owner  Ahmedabad  11.85 Lakh*  \n",
       "189    First Owner  Ahmedabad   9.75 Lakh*  \n",
       "...            ...        ...          ...  \n",
       "4122  Second Owner     Mumbai   1.35 Lakh*  \n",
       "4125  Second Owner     Mumbai   2.25 Lakh*  \n",
       "4126   First Owner     Mumbai   5.88 Lakh*  \n",
       "4132   First Owner     Mumbai    6.5 Lakh*  \n",
       "4209  Second Owner      Noida   6.25 Lakh*  \n",
       "\n",
       "[141 rows x 9 columns]"
      ]
     },
     "execution_count": 10,
     "metadata": {},
     "output_type": "execute_result"
    }
   ],
   "source": [
    "frame[frame['model'] == '--']"
   ]
  },
  {
   "cell_type": "markdown",
   "id": "bc496a67",
   "metadata": {},
   "source": [
    "# Data Preprocessing"
   ]
  },
  {
   "cell_type": "code",
   "execution_count": 11,
   "id": "c72e39c9",
   "metadata": {},
   "outputs": [],
   "source": [
    "def get_model(x):\n",
    "    if x[1] == '--':\n",
    "        return x[3].split(x[0].replace('-',' '))[-1]\n",
    "    else:\n",
    "        return x[1]\n"
   ]
  },
  {
   "cell_type": "code",
   "execution_count": 12,
   "id": "80010d76",
   "metadata": {},
   "outputs": [],
   "source": [
    "frame['model']=frame.apply(get_model,axis=1)"
   ]
  },
  {
   "cell_type": "code",
   "execution_count": 13,
   "id": "b377ce17",
   "metadata": {},
   "outputs": [
    {
     "data": {
      "text/html": [
       "<div>\n",
       "<style scoped>\n",
       "    .dataframe tbody tr th:only-of-type {\n",
       "        vertical-align: middle;\n",
       "    }\n",
       "\n",
       "    .dataframe tbody tr th {\n",
       "        vertical-align: top;\n",
       "    }\n",
       "\n",
       "    .dataframe thead th {\n",
       "        text-align: right;\n",
       "    }\n",
       "</style>\n",
       "<table border=\"1\" class=\"dataframe\">\n",
       "  <thead>\n",
       "    <tr style=\"text-align: right;\">\n",
       "      <th></th>\n",
       "      <th>brand</th>\n",
       "      <th>model</th>\n",
       "      <th>variant</th>\n",
       "      <th>manufactured_year</th>\n",
       "      <th>kilometers_driven</th>\n",
       "      <th>fuel_type</th>\n",
       "      <th>owners</th>\n",
       "      <th>location</th>\n",
       "      <th>price</th>\n",
       "    </tr>\n",
       "  </thead>\n",
       "  <tbody>\n",
       "    <tr>\n",
       "      <th>0</th>\n",
       "      <td>Maruti</td>\n",
       "      <td>Eeco</td>\n",
       "      <td>5 Seater AC BSIV</td>\n",
       "      <td>2016</td>\n",
       "      <td>45,347 Kms</td>\n",
       "      <td>Petrol</td>\n",
       "      <td>1st Owner</td>\n",
       "      <td>Ahmedabad</td>\n",
       "      <td>3,74,500</td>\n",
       "    </tr>\n",
       "    <tr>\n",
       "      <th>1</th>\n",
       "      <td>Maruti</td>\n",
       "      <td>Eeco</td>\n",
       "      <td>5 Seater AC</td>\n",
       "      <td>2020</td>\n",
       "      <td>17,116 Kms</td>\n",
       "      <td>Petrol</td>\n",
       "      <td>1st Owner</td>\n",
       "      <td>Ahmedabad</td>\n",
       "      <td>4,74,500</td>\n",
       "    </tr>\n",
       "    <tr>\n",
       "      <th>2</th>\n",
       "      <td>Maruti</td>\n",
       "      <td>Swift Dzire</td>\n",
       "      <td>VXI 1.2</td>\n",
       "      <td>2019</td>\n",
       "      <td>11,935 Kms</td>\n",
       "      <td>Petrol</td>\n",
       "      <td>1st Owner</td>\n",
       "      <td>Ahmedabad</td>\n",
       "      <td>6,91,000</td>\n",
       "    </tr>\n",
       "    <tr>\n",
       "      <th>3</th>\n",
       "      <td>Maruti</td>\n",
       "      <td>Wagon R</td>\n",
       "      <td>VXI</td>\n",
       "      <td>2014</td>\n",
       "      <td>131,125 Kms</td>\n",
       "      <td>Petrol</td>\n",
       "      <td>1st Owner</td>\n",
       "      <td>Ahmedabad</td>\n",
       "      <td>3,09,500</td>\n",
       "    </tr>\n",
       "    <tr>\n",
       "      <th>4</th>\n",
       "      <td>Maruti</td>\n",
       "      <td>Wagon R</td>\n",
       "      <td>VXI</td>\n",
       "      <td>2014</td>\n",
       "      <td>42,381 Kms</td>\n",
       "      <td>Petrol</td>\n",
       "      <td>1st Owner</td>\n",
       "      <td>Ahmedabad</td>\n",
       "      <td>3,61,000</td>\n",
       "    </tr>\n",
       "    <tr>\n",
       "      <th>...</th>\n",
       "      <td>...</td>\n",
       "      <td>...</td>\n",
       "      <td>...</td>\n",
       "      <td>...</td>\n",
       "      <td>...</td>\n",
       "      <td>...</td>\n",
       "      <td>...</td>\n",
       "      <td>...</td>\n",
       "      <td>...</td>\n",
       "    </tr>\n",
       "    <tr>\n",
       "      <th>5474</th>\n",
       "      <td>Honda</td>\n",
       "      <td>City</td>\n",
       "      <td>i-VTEC S</td>\n",
       "      <td>2011</td>\n",
       "      <td>77,500 km</td>\n",
       "      <td>Petrol</td>\n",
       "      <td>1st</td>\n",
       "      <td>Chandigarh</td>\n",
       "      <td>₹ 3,35,000</td>\n",
       "    </tr>\n",
       "    <tr>\n",
       "      <th>5475</th>\n",
       "      <td>Honda</td>\n",
       "      <td>WR-V</td>\n",
       "      <td>Honda WR-V Edge Edition i-DTEC S</td>\n",
       "      <td>2019</td>\n",
       "      <td>29,856 km</td>\n",
       "      <td>Petrol</td>\n",
       "      <td>1st</td>\n",
       "      <td>Chandigarh</td>\n",
       "      <td>₹ 7,25,000</td>\n",
       "    </tr>\n",
       "    <tr>\n",
       "      <th>5476</th>\n",
       "      <td>Honda</td>\n",
       "      <td>Brio</td>\n",
       "      <td>1.2 S MT</td>\n",
       "      <td>2013</td>\n",
       "      <td>20,600 km</td>\n",
       "      <td>Petrol</td>\n",
       "      <td>1st</td>\n",
       "      <td>Chandigarh</td>\n",
       "      <td>₹ 3,20,000</td>\n",
       "    </tr>\n",
       "    <tr>\n",
       "      <th>5477</th>\n",
       "      <td>Honda</td>\n",
       "      <td>City</td>\n",
       "      <td>2008-2011 1.5 V MT</td>\n",
       "      <td>2011</td>\n",
       "      <td>58,000 km</td>\n",
       "      <td>Petrol</td>\n",
       "      <td>1st</td>\n",
       "      <td>Chandigarh</td>\n",
       "      <td>₹ 3,35,000</td>\n",
       "    </tr>\n",
       "    <tr>\n",
       "      <th>5478</th>\n",
       "      <td>Honda</td>\n",
       "      <td>City ZX</td>\n",
       "      <td>GXi</td>\n",
       "      <td>2008</td>\n",
       "      <td>15 km</td>\n",
       "      <td>Petrol</td>\n",
       "      <td>2nd</td>\n",
       "      <td>Chandigarh</td>\n",
       "      <td>₹ 1,55,000</td>\n",
       "    </tr>\n",
       "  </tbody>\n",
       "</table>\n",
       "<p>5479 rows × 9 columns</p>\n",
       "</div>"
      ],
      "text/plain": [
       "       brand        model                           variant manufactured_year  \\\n",
       "0     Maruti         Eeco                  5 Seater AC BSIV              2016   \n",
       "1     Maruti         Eeco                       5 Seater AC              2020   \n",
       "2     Maruti  Swift Dzire                           VXI 1.2              2019   \n",
       "3     Maruti      Wagon R                               VXI              2014   \n",
       "4     Maruti      Wagon R                               VXI              2014   \n",
       "...      ...          ...                               ...               ...   \n",
       "5474   Honda         City                          i-VTEC S              2011   \n",
       "5475   Honda         WR-V  Honda WR-V Edge Edition i-DTEC S              2019   \n",
       "5476   Honda         Brio                          1.2 S MT              2013   \n",
       "5477   Honda         City                2008-2011 1.5 V MT              2011   \n",
       "5478   Honda      City ZX                               GXi              2008   \n",
       "\n",
       "     kilometers_driven fuel_type     owners    location       price  \n",
       "0           45,347 Kms    Petrol  1st Owner   Ahmedabad    3,74,500  \n",
       "1           17,116 Kms    Petrol  1st Owner   Ahmedabad    4,74,500  \n",
       "2           11,935 Kms    Petrol  1st Owner   Ahmedabad    6,91,000  \n",
       "3          131,125 Kms    Petrol  1st Owner   Ahmedabad    3,09,500  \n",
       "4           42,381 Kms    Petrol  1st Owner   Ahmedabad    3,61,000  \n",
       "...                ...       ...        ...         ...         ...  \n",
       "5474         77,500 km    Petrol        1st  Chandigarh  ₹ 3,35,000  \n",
       "5475         29,856 km    Petrol        1st  Chandigarh  ₹ 7,25,000  \n",
       "5476         20,600 km    Petrol        1st  Chandigarh  ₹ 3,20,000  \n",
       "5477         58,000 km    Petrol        1st  Chandigarh  ₹ 3,35,000  \n",
       "5478             15 km    Petrol        2nd  Chandigarh  ₹ 1,55,000  \n",
       "\n",
       "[5479 rows x 9 columns]"
      ]
     },
     "execution_count": 13,
     "metadata": {},
     "output_type": "execute_result"
    }
   ],
   "source": [
    "frame"
   ]
  },
  {
   "cell_type": "code",
   "execution_count": 14,
   "id": "d810da7b",
   "metadata": {},
   "outputs": [
    {
     "data": {
      "text/html": [
       "<div>\n",
       "<style scoped>\n",
       "    .dataframe tbody tr th:only-of-type {\n",
       "        vertical-align: middle;\n",
       "    }\n",
       "\n",
       "    .dataframe tbody tr th {\n",
       "        vertical-align: top;\n",
       "    }\n",
       "\n",
       "    .dataframe thead th {\n",
       "        text-align: right;\n",
       "    }\n",
       "</style>\n",
       "<table border=\"1\" class=\"dataframe\">\n",
       "  <thead>\n",
       "    <tr style=\"text-align: right;\">\n",
       "      <th></th>\n",
       "      <th>brand</th>\n",
       "      <th>model</th>\n",
       "      <th>variant</th>\n",
       "      <th>manufactured_year</th>\n",
       "      <th>kilometers_driven</th>\n",
       "      <th>fuel_type</th>\n",
       "      <th>owners</th>\n",
       "      <th>location</th>\n",
       "      <th>price</th>\n",
       "    </tr>\n",
       "  </thead>\n",
       "  <tbody>\n",
       "  </tbody>\n",
       "</table>\n",
       "</div>"
      ],
      "text/plain": [
       "Empty DataFrame\n",
       "Columns: [brand, model, variant, manufactured_year, kilometers_driven, fuel_type, owners, location, price]\n",
       "Index: []"
      ]
     },
     "execution_count": 14,
     "metadata": {},
     "output_type": "execute_result"
    }
   ],
   "source": [
    "frame[frame['model'] == '--']"
   ]
  },
  {
   "cell_type": "code",
   "execution_count": 15,
   "id": "7082edfa",
   "metadata": {},
   "outputs": [
    {
     "data": {
      "text/html": [
       "<div>\n",
       "<style scoped>\n",
       "    .dataframe tbody tr th:only-of-type {\n",
       "        vertical-align: middle;\n",
       "    }\n",
       "\n",
       "    .dataframe tbody tr th {\n",
       "        vertical-align: top;\n",
       "    }\n",
       "\n",
       "    .dataframe thead th {\n",
       "        text-align: right;\n",
       "    }\n",
       "</style>\n",
       "<table border=\"1\" class=\"dataframe\">\n",
       "  <thead>\n",
       "    <tr style=\"text-align: right;\">\n",
       "      <th></th>\n",
       "      <th>brand</th>\n",
       "      <th>model</th>\n",
       "      <th>variant</th>\n",
       "      <th>manufactured_year</th>\n",
       "      <th>kilometers_driven</th>\n",
       "      <th>fuel_type</th>\n",
       "      <th>owners</th>\n",
       "      <th>location</th>\n",
       "      <th>price</th>\n",
       "    </tr>\n",
       "  </thead>\n",
       "  <tbody>\n",
       "    <tr>\n",
       "      <th>4317</th>\n",
       "      <td>Maruti Suzuki</td>\n",
       "      <td>Alto K10</td>\n",
       "      <td>--</td>\n",
       "      <td>2017</td>\n",
       "      <td>10,819 km</td>\n",
       "      <td>Petrol</td>\n",
       "      <td>--</td>\n",
       "      <td>Maharashtra</td>\n",
       "      <td>₹ 2,99,000</td>\n",
       "    </tr>\n",
       "    <tr>\n",
       "      <th>4373</th>\n",
       "      <td>Toyota</td>\n",
       "      <td>Others</td>\n",
       "      <td>--</td>\n",
       "      <td>2021</td>\n",
       "      <td>0 km</td>\n",
       "      <td>Petrol</td>\n",
       "      <td>--</td>\n",
       "      <td>Mumbai</td>\n",
       "      <td>₹ 11,79,900</td>\n",
       "    </tr>\n",
       "    <tr>\n",
       "      <th>4378</th>\n",
       "      <td>BMW</td>\n",
       "      <td>3 Series</td>\n",
       "      <td>--</td>\n",
       "      <td>1989</td>\n",
       "      <td>2,000 km</td>\n",
       "      <td>--</td>\n",
       "      <td>--</td>\n",
       "      <td>Mumbai</td>\n",
       "      <td>₹ 20,000</td>\n",
       "    </tr>\n",
       "    <tr>\n",
       "      <th>4379</th>\n",
       "      <td>Toyota</td>\n",
       "      <td>Others</td>\n",
       "      <td>--</td>\n",
       "      <td>2002</td>\n",
       "      <td>104,200 km</td>\n",
       "      <td>Diesel</td>\n",
       "      <td>--</td>\n",
       "      <td>Mumbai</td>\n",
       "      <td>₹ 4,94,000</td>\n",
       "    </tr>\n",
       "    <tr>\n",
       "      <th>4382</th>\n",
       "      <td>Hyundai</td>\n",
       "      <td>i10</td>\n",
       "      <td>--</td>\n",
       "      <td>2014</td>\n",
       "      <td>58,847 km</td>\n",
       "      <td>Petrol</td>\n",
       "      <td>--</td>\n",
       "      <td>Mumbai</td>\n",
       "      <td>₹ 2,85,000</td>\n",
       "    </tr>\n",
       "    <tr>\n",
       "      <th>...</th>\n",
       "      <td>...</td>\n",
       "      <td>...</td>\n",
       "      <td>...</td>\n",
       "      <td>...</td>\n",
       "      <td>...</td>\n",
       "      <td>...</td>\n",
       "      <td>...</td>\n",
       "      <td>...</td>\n",
       "      <td>...</td>\n",
       "    </tr>\n",
       "    <tr>\n",
       "      <th>5224</th>\n",
       "      <td>Other Brands</td>\n",
       "      <td>Others</td>\n",
       "      <td>--</td>\n",
       "      <td>2017</td>\n",
       "      <td>5,200 km</td>\n",
       "      <td>Diesel</td>\n",
       "      <td>1st</td>\n",
       "      <td>Bihar</td>\n",
       "      <td>₹ 60,000</td>\n",
       "    </tr>\n",
       "    <tr>\n",
       "      <th>5225</th>\n",
       "      <td>Other Brands</td>\n",
       "      <td>Others</td>\n",
       "      <td>--</td>\n",
       "      <td>2021</td>\n",
       "      <td>4,000 km</td>\n",
       "      <td>Diesel</td>\n",
       "      <td>1st</td>\n",
       "      <td>Bihar</td>\n",
       "      <td>₹ 22,00,000</td>\n",
       "    </tr>\n",
       "    <tr>\n",
       "      <th>5313</th>\n",
       "      <td>Ford</td>\n",
       "      <td>Ecosport</td>\n",
       "      <td>--</td>\n",
       "      <td>2014</td>\n",
       "      <td>101,922 km</td>\n",
       "      <td>Diesel</td>\n",
       "      <td>--</td>\n",
       "      <td>Assam</td>\n",
       "      <td>₹ 5,50,000</td>\n",
       "    </tr>\n",
       "    <tr>\n",
       "      <th>5366</th>\n",
       "      <td>Renault</td>\n",
       "      <td>KWID</td>\n",
       "      <td>--</td>\n",
       "      <td>2016</td>\n",
       "      <td>65,000 km</td>\n",
       "      <td>LPG</td>\n",
       "      <td>1st</td>\n",
       "      <td>Assam</td>\n",
       "      <td>₹ 3,40,000</td>\n",
       "    </tr>\n",
       "    <tr>\n",
       "      <th>5470</th>\n",
       "      <td>Honda</td>\n",
       "      <td>City</td>\n",
       "      <td>--</td>\n",
       "      <td>2011</td>\n",
       "      <td>75,700 km</td>\n",
       "      <td>Petrol</td>\n",
       "      <td>2nd</td>\n",
       "      <td>Chandigarh</td>\n",
       "      <td>₹ 4,10,000</td>\n",
       "    </tr>\n",
       "  </tbody>\n",
       "</table>\n",
       "<p>64 rows × 9 columns</p>\n",
       "</div>"
      ],
      "text/plain": [
       "              brand     model variant manufactured_year kilometers_driven  \\\n",
       "4317  Maruti Suzuki  Alto K10      --              2017         10,819 km   \n",
       "4373         Toyota    Others      --              2021              0 km   \n",
       "4378            BMW  3 Series      --              1989          2,000 km   \n",
       "4379         Toyota    Others      --              2002        104,200 km   \n",
       "4382        Hyundai       i10      --              2014         58,847 km   \n",
       "...             ...       ...     ...               ...               ...   \n",
       "5224   Other Brands    Others      --              2017          5,200 km   \n",
       "5225   Other Brands    Others      --              2021          4,000 km   \n",
       "5313           Ford  Ecosport      --              2014        101,922 km   \n",
       "5366        Renault      KWID      --              2016         65,000 km   \n",
       "5470          Honda      City      --              2011         75,700 km   \n",
       "\n",
       "     fuel_type owners     location        price  \n",
       "4317    Petrol     --  Maharashtra   ₹ 2,99,000  \n",
       "4373    Petrol     --       Mumbai  ₹ 11,79,900  \n",
       "4378        --     --       Mumbai     ₹ 20,000  \n",
       "4379    Diesel     --       Mumbai   ₹ 4,94,000  \n",
       "4382    Petrol     --       Mumbai   ₹ 2,85,000  \n",
       "...        ...    ...          ...          ...  \n",
       "5224    Diesel    1st        Bihar     ₹ 60,000  \n",
       "5225    Diesel    1st        Bihar  ₹ 22,00,000  \n",
       "5313    Diesel     --        Assam   ₹ 5,50,000  \n",
       "5366       LPG    1st        Assam   ₹ 3,40,000  \n",
       "5470    Petrol    2nd   Chandigarh   ₹ 4,10,000  \n",
       "\n",
       "[64 rows x 9 columns]"
      ]
     },
     "execution_count": 15,
     "metadata": {},
     "output_type": "execute_result"
    }
   ],
   "source": [
    "frame[frame['variant'] == '--']"
   ]
  },
  {
   "cell_type": "code",
   "execution_count": 16,
   "id": "0edd1c11",
   "metadata": {},
   "outputs": [],
   "source": [
    "frame['variant']=frame['variant'].str.replace('--','unknown')"
   ]
  },
  {
   "cell_type": "code",
   "execution_count": 17,
   "id": "4ff6b4e3",
   "metadata": {},
   "outputs": [
    {
     "data": {
      "text/html": [
       "<div>\n",
       "<style scoped>\n",
       "    .dataframe tbody tr th:only-of-type {\n",
       "        vertical-align: middle;\n",
       "    }\n",
       "\n",
       "    .dataframe tbody tr th {\n",
       "        vertical-align: top;\n",
       "    }\n",
       "\n",
       "    .dataframe thead th {\n",
       "        text-align: right;\n",
       "    }\n",
       "</style>\n",
       "<table border=\"1\" class=\"dataframe\">\n",
       "  <thead>\n",
       "    <tr style=\"text-align: right;\">\n",
       "      <th></th>\n",
       "      <th>brand</th>\n",
       "      <th>model</th>\n",
       "      <th>variant</th>\n",
       "      <th>manufactured_year</th>\n",
       "      <th>kilometers_driven</th>\n",
       "      <th>fuel_type</th>\n",
       "      <th>owners</th>\n",
       "      <th>location</th>\n",
       "      <th>price</th>\n",
       "    </tr>\n",
       "  </thead>\n",
       "  <tbody>\n",
       "    <tr>\n",
       "      <th>4317</th>\n",
       "      <td>Maruti Suzuki</td>\n",
       "      <td>Alto K10</td>\n",
       "      <td>unknown</td>\n",
       "      <td>2017</td>\n",
       "      <td>10,819 km</td>\n",
       "      <td>Petrol</td>\n",
       "      <td>--</td>\n",
       "      <td>Maharashtra</td>\n",
       "      <td>₹ 2,99,000</td>\n",
       "    </tr>\n",
       "    <tr>\n",
       "      <th>4373</th>\n",
       "      <td>Toyota</td>\n",
       "      <td>Others</td>\n",
       "      <td>unknown</td>\n",
       "      <td>2021</td>\n",
       "      <td>0 km</td>\n",
       "      <td>Petrol</td>\n",
       "      <td>--</td>\n",
       "      <td>Mumbai</td>\n",
       "      <td>₹ 11,79,900</td>\n",
       "    </tr>\n",
       "    <tr>\n",
       "      <th>4378</th>\n",
       "      <td>BMW</td>\n",
       "      <td>3 Series</td>\n",
       "      <td>unknown</td>\n",
       "      <td>1989</td>\n",
       "      <td>2,000 km</td>\n",
       "      <td>--</td>\n",
       "      <td>--</td>\n",
       "      <td>Mumbai</td>\n",
       "      <td>₹ 20,000</td>\n",
       "    </tr>\n",
       "    <tr>\n",
       "      <th>4379</th>\n",
       "      <td>Toyota</td>\n",
       "      <td>Others</td>\n",
       "      <td>unknown</td>\n",
       "      <td>2002</td>\n",
       "      <td>104,200 km</td>\n",
       "      <td>Diesel</td>\n",
       "      <td>--</td>\n",
       "      <td>Mumbai</td>\n",
       "      <td>₹ 4,94,000</td>\n",
       "    </tr>\n",
       "    <tr>\n",
       "      <th>4382</th>\n",
       "      <td>Hyundai</td>\n",
       "      <td>i10</td>\n",
       "      <td>unknown</td>\n",
       "      <td>2014</td>\n",
       "      <td>58,847 km</td>\n",
       "      <td>Petrol</td>\n",
       "      <td>--</td>\n",
       "      <td>Mumbai</td>\n",
       "      <td>₹ 2,85,000</td>\n",
       "    </tr>\n",
       "    <tr>\n",
       "      <th>...</th>\n",
       "      <td>...</td>\n",
       "      <td>...</td>\n",
       "      <td>...</td>\n",
       "      <td>...</td>\n",
       "      <td>...</td>\n",
       "      <td>...</td>\n",
       "      <td>...</td>\n",
       "      <td>...</td>\n",
       "      <td>...</td>\n",
       "    </tr>\n",
       "    <tr>\n",
       "      <th>5224</th>\n",
       "      <td>Other Brands</td>\n",
       "      <td>Others</td>\n",
       "      <td>unknown</td>\n",
       "      <td>2017</td>\n",
       "      <td>5,200 km</td>\n",
       "      <td>Diesel</td>\n",
       "      <td>1st</td>\n",
       "      <td>Bihar</td>\n",
       "      <td>₹ 60,000</td>\n",
       "    </tr>\n",
       "    <tr>\n",
       "      <th>5225</th>\n",
       "      <td>Other Brands</td>\n",
       "      <td>Others</td>\n",
       "      <td>unknown</td>\n",
       "      <td>2021</td>\n",
       "      <td>4,000 km</td>\n",
       "      <td>Diesel</td>\n",
       "      <td>1st</td>\n",
       "      <td>Bihar</td>\n",
       "      <td>₹ 22,00,000</td>\n",
       "    </tr>\n",
       "    <tr>\n",
       "      <th>5313</th>\n",
       "      <td>Ford</td>\n",
       "      <td>Ecosport</td>\n",
       "      <td>unknown</td>\n",
       "      <td>2014</td>\n",
       "      <td>101,922 km</td>\n",
       "      <td>Diesel</td>\n",
       "      <td>--</td>\n",
       "      <td>Assam</td>\n",
       "      <td>₹ 5,50,000</td>\n",
       "    </tr>\n",
       "    <tr>\n",
       "      <th>5366</th>\n",
       "      <td>Renault</td>\n",
       "      <td>KWID</td>\n",
       "      <td>unknown</td>\n",
       "      <td>2016</td>\n",
       "      <td>65,000 km</td>\n",
       "      <td>LPG</td>\n",
       "      <td>1st</td>\n",
       "      <td>Assam</td>\n",
       "      <td>₹ 3,40,000</td>\n",
       "    </tr>\n",
       "    <tr>\n",
       "      <th>5470</th>\n",
       "      <td>Honda</td>\n",
       "      <td>City</td>\n",
       "      <td>unknown</td>\n",
       "      <td>2011</td>\n",
       "      <td>75,700 km</td>\n",
       "      <td>Petrol</td>\n",
       "      <td>2nd</td>\n",
       "      <td>Chandigarh</td>\n",
       "      <td>₹ 4,10,000</td>\n",
       "    </tr>\n",
       "  </tbody>\n",
       "</table>\n",
       "<p>64 rows × 9 columns</p>\n",
       "</div>"
      ],
      "text/plain": [
       "              brand     model  variant manufactured_year kilometers_driven  \\\n",
       "4317  Maruti Suzuki  Alto K10  unknown              2017         10,819 km   \n",
       "4373         Toyota    Others  unknown              2021              0 km   \n",
       "4378            BMW  3 Series  unknown              1989          2,000 km   \n",
       "4379         Toyota    Others  unknown              2002        104,200 km   \n",
       "4382        Hyundai       i10  unknown              2014         58,847 km   \n",
       "...             ...       ...      ...               ...               ...   \n",
       "5224   Other Brands    Others  unknown              2017          5,200 km   \n",
       "5225   Other Brands    Others  unknown              2021          4,000 km   \n",
       "5313           Ford  Ecosport  unknown              2014        101,922 km   \n",
       "5366        Renault      KWID  unknown              2016         65,000 km   \n",
       "5470          Honda      City  unknown              2011         75,700 km   \n",
       "\n",
       "     fuel_type owners     location        price  \n",
       "4317    Petrol     --  Maharashtra   ₹ 2,99,000  \n",
       "4373    Petrol     --       Mumbai  ₹ 11,79,900  \n",
       "4378        --     --       Mumbai     ₹ 20,000  \n",
       "4379    Diesel     --       Mumbai   ₹ 4,94,000  \n",
       "4382    Petrol     --       Mumbai   ₹ 2,85,000  \n",
       "...        ...    ...          ...          ...  \n",
       "5224    Diesel    1st        Bihar     ₹ 60,000  \n",
       "5225    Diesel    1st        Bihar  ₹ 22,00,000  \n",
       "5313    Diesel     --        Assam   ₹ 5,50,000  \n",
       "5366       LPG    1st        Assam   ₹ 3,40,000  \n",
       "5470    Petrol    2nd   Chandigarh   ₹ 4,10,000  \n",
       "\n",
       "[64 rows x 9 columns]"
      ]
     },
     "execution_count": 17,
     "metadata": {},
     "output_type": "execute_result"
    }
   ],
   "source": [
    "frame[frame['variant']=='unknown']"
   ]
  },
  {
   "cell_type": "code",
   "execution_count": 18,
   "id": "fffabf7d",
   "metadata": {},
   "outputs": [],
   "source": [
    "def get_manu_year(x):\n",
    "    if len(x[3].split())>1:\n",
    "        if x[3].split()[0].isdigit():\n",
    "            return(x[3].split()[0])\n",
    "        else:\n",
    "            return 'unknown'\n",
    "    elif x[3].isalpha():\n",
    "        return 'unknown'\n",
    "    else:\n",
    "        return x[3]"
   ]
  },
  {
   "cell_type": "code",
   "execution_count": 19,
   "id": "02ef7528",
   "metadata": {},
   "outputs": [],
   "source": [
    "frame['manufactured_year'] = frame.apply(get_manu_year, axis=1)"
   ]
  },
  {
   "cell_type": "code",
   "execution_count": 20,
   "id": "ac26a429",
   "metadata": {},
   "outputs": [
    {
     "data": {
      "text/html": [
       "<div>\n",
       "<style scoped>\n",
       "    .dataframe tbody tr th:only-of-type {\n",
       "        vertical-align: middle;\n",
       "    }\n",
       "\n",
       "    .dataframe tbody tr th {\n",
       "        vertical-align: top;\n",
       "    }\n",
       "\n",
       "    .dataframe thead th {\n",
       "        text-align: right;\n",
       "    }\n",
       "</style>\n",
       "<table border=\"1\" class=\"dataframe\">\n",
       "  <thead>\n",
       "    <tr style=\"text-align: right;\">\n",
       "      <th></th>\n",
       "      <th>brand</th>\n",
       "      <th>model</th>\n",
       "      <th>variant</th>\n",
       "      <th>manufactured_year</th>\n",
       "      <th>kilometers_driven</th>\n",
       "      <th>fuel_type</th>\n",
       "      <th>owners</th>\n",
       "      <th>location</th>\n",
       "      <th>price</th>\n",
       "    </tr>\n",
       "  </thead>\n",
       "  <tbody>\n",
       "    <tr>\n",
       "      <th>0</th>\n",
       "      <td>Maruti</td>\n",
       "      <td>Eeco</td>\n",
       "      <td>5 Seater AC BSIV</td>\n",
       "      <td>2016</td>\n",
       "      <td>45,347 Kms</td>\n",
       "      <td>Petrol</td>\n",
       "      <td>1st Owner</td>\n",
       "      <td>Ahmedabad</td>\n",
       "      <td>3,74,500</td>\n",
       "    </tr>\n",
       "    <tr>\n",
       "      <th>1</th>\n",
       "      <td>Maruti</td>\n",
       "      <td>Eeco</td>\n",
       "      <td>5 Seater AC</td>\n",
       "      <td>2020</td>\n",
       "      <td>17,116 Kms</td>\n",
       "      <td>Petrol</td>\n",
       "      <td>1st Owner</td>\n",
       "      <td>Ahmedabad</td>\n",
       "      <td>4,74,500</td>\n",
       "    </tr>\n",
       "    <tr>\n",
       "      <th>2</th>\n",
       "      <td>Maruti</td>\n",
       "      <td>Swift Dzire</td>\n",
       "      <td>VXI 1.2</td>\n",
       "      <td>2019</td>\n",
       "      <td>11,935 Kms</td>\n",
       "      <td>Petrol</td>\n",
       "      <td>1st Owner</td>\n",
       "      <td>Ahmedabad</td>\n",
       "      <td>6,91,000</td>\n",
       "    </tr>\n",
       "    <tr>\n",
       "      <th>3</th>\n",
       "      <td>Maruti</td>\n",
       "      <td>Wagon R</td>\n",
       "      <td>VXI</td>\n",
       "      <td>2014</td>\n",
       "      <td>131,125 Kms</td>\n",
       "      <td>Petrol</td>\n",
       "      <td>1st Owner</td>\n",
       "      <td>Ahmedabad</td>\n",
       "      <td>3,09,500</td>\n",
       "    </tr>\n",
       "    <tr>\n",
       "      <th>4</th>\n",
       "      <td>Maruti</td>\n",
       "      <td>Wagon R</td>\n",
       "      <td>VXI</td>\n",
       "      <td>2014</td>\n",
       "      <td>42,381 Kms</td>\n",
       "      <td>Petrol</td>\n",
       "      <td>1st Owner</td>\n",
       "      <td>Ahmedabad</td>\n",
       "      <td>3,61,000</td>\n",
       "    </tr>\n",
       "    <tr>\n",
       "      <th>...</th>\n",
       "      <td>...</td>\n",
       "      <td>...</td>\n",
       "      <td>...</td>\n",
       "      <td>...</td>\n",
       "      <td>...</td>\n",
       "      <td>...</td>\n",
       "      <td>...</td>\n",
       "      <td>...</td>\n",
       "      <td>...</td>\n",
       "    </tr>\n",
       "    <tr>\n",
       "      <th>5474</th>\n",
       "      <td>Honda</td>\n",
       "      <td>City</td>\n",
       "      <td>i-VTEC S</td>\n",
       "      <td>2011</td>\n",
       "      <td>77,500 km</td>\n",
       "      <td>Petrol</td>\n",
       "      <td>1st</td>\n",
       "      <td>Chandigarh</td>\n",
       "      <td>₹ 3,35,000</td>\n",
       "    </tr>\n",
       "    <tr>\n",
       "      <th>5475</th>\n",
       "      <td>Honda</td>\n",
       "      <td>WR-V</td>\n",
       "      <td>Honda WR-V Edge Edition i-DTEC S</td>\n",
       "      <td>2019</td>\n",
       "      <td>29,856 km</td>\n",
       "      <td>Petrol</td>\n",
       "      <td>1st</td>\n",
       "      <td>Chandigarh</td>\n",
       "      <td>₹ 7,25,000</td>\n",
       "    </tr>\n",
       "    <tr>\n",
       "      <th>5476</th>\n",
       "      <td>Honda</td>\n",
       "      <td>Brio</td>\n",
       "      <td>1.2 S MT</td>\n",
       "      <td>2013</td>\n",
       "      <td>20,600 km</td>\n",
       "      <td>Petrol</td>\n",
       "      <td>1st</td>\n",
       "      <td>Chandigarh</td>\n",
       "      <td>₹ 3,20,000</td>\n",
       "    </tr>\n",
       "    <tr>\n",
       "      <th>5477</th>\n",
       "      <td>Honda</td>\n",
       "      <td>City</td>\n",
       "      <td>2008-2011 1.5 V MT</td>\n",
       "      <td>2011</td>\n",
       "      <td>58,000 km</td>\n",
       "      <td>Petrol</td>\n",
       "      <td>1st</td>\n",
       "      <td>Chandigarh</td>\n",
       "      <td>₹ 3,35,000</td>\n",
       "    </tr>\n",
       "    <tr>\n",
       "      <th>5478</th>\n",
       "      <td>Honda</td>\n",
       "      <td>City ZX</td>\n",
       "      <td>GXi</td>\n",
       "      <td>2008</td>\n",
       "      <td>15 km</td>\n",
       "      <td>Petrol</td>\n",
       "      <td>2nd</td>\n",
       "      <td>Chandigarh</td>\n",
       "      <td>₹ 1,55,000</td>\n",
       "    </tr>\n",
       "  </tbody>\n",
       "</table>\n",
       "<p>5479 rows × 9 columns</p>\n",
       "</div>"
      ],
      "text/plain": [
       "       brand        model                           variant manufactured_year  \\\n",
       "0     Maruti         Eeco                  5 Seater AC BSIV              2016   \n",
       "1     Maruti         Eeco                       5 Seater AC              2020   \n",
       "2     Maruti  Swift Dzire                           VXI 1.2              2019   \n",
       "3     Maruti      Wagon R                               VXI              2014   \n",
       "4     Maruti      Wagon R                               VXI              2014   \n",
       "...      ...          ...                               ...               ...   \n",
       "5474   Honda         City                          i-VTEC S              2011   \n",
       "5475   Honda         WR-V  Honda WR-V Edge Edition i-DTEC S              2019   \n",
       "5476   Honda         Brio                          1.2 S MT              2013   \n",
       "5477   Honda         City                2008-2011 1.5 V MT              2011   \n",
       "5478   Honda      City ZX                               GXi              2008   \n",
       "\n",
       "     kilometers_driven fuel_type     owners    location       price  \n",
       "0           45,347 Kms    Petrol  1st Owner   Ahmedabad    3,74,500  \n",
       "1           17,116 Kms    Petrol  1st Owner   Ahmedabad    4,74,500  \n",
       "2           11,935 Kms    Petrol  1st Owner   Ahmedabad    6,91,000  \n",
       "3          131,125 Kms    Petrol  1st Owner   Ahmedabad    3,09,500  \n",
       "4           42,381 Kms    Petrol  1st Owner   Ahmedabad    3,61,000  \n",
       "...                ...       ...        ...         ...         ...  \n",
       "5474         77,500 km    Petrol        1st  Chandigarh  ₹ 3,35,000  \n",
       "5475         29,856 km    Petrol        1st  Chandigarh  ₹ 7,25,000  \n",
       "5476         20,600 km    Petrol        1st  Chandigarh  ₹ 3,20,000  \n",
       "5477         58,000 km    Petrol        1st  Chandigarh  ₹ 3,35,000  \n",
       "5478             15 km    Petrol        2nd  Chandigarh  ₹ 1,55,000  \n",
       "\n",
       "[5479 rows x 9 columns]"
      ]
     },
     "execution_count": 20,
     "metadata": {},
     "output_type": "execute_result"
    }
   ],
   "source": [
    "frame"
   ]
  },
  {
   "cell_type": "code",
   "execution_count": 21,
   "id": "088f6edb",
   "metadata": {},
   "outputs": [
    {
     "data": {
      "text/plain": [
       "brand                Mahindra-Ssangyong\n",
       "model                            Rexton\n",
       "variant                             RX7\n",
       "manufactured_year                  2013\n",
       "kilometers_driven            75,000 kms\n",
       "fuel_type                        Diesel\n",
       "owners                     Second Owner\n",
       "location                          Noida\n",
       "price                        6.25 Lakh*\n",
       "Name: 1730, dtype: object"
      ]
     },
     "execution_count": 21,
     "metadata": {},
     "output_type": "execute_result"
    }
   ],
   "source": [
    "frame.iloc[1730]"
   ]
  },
  {
   "cell_type": "code",
   "execution_count": 22,
   "id": "7c867063",
   "metadata": {},
   "outputs": [
    {
     "data": {
      "text/html": [
       "<div>\n",
       "<style scoped>\n",
       "    .dataframe tbody tr th:only-of-type {\n",
       "        vertical-align: middle;\n",
       "    }\n",
       "\n",
       "    .dataframe tbody tr th {\n",
       "        vertical-align: top;\n",
       "    }\n",
       "\n",
       "    .dataframe thead th {\n",
       "        text-align: right;\n",
       "    }\n",
       "</style>\n",
       "<table border=\"1\" class=\"dataframe\">\n",
       "  <thead>\n",
       "    <tr style=\"text-align: right;\">\n",
       "      <th></th>\n",
       "      <th>brand</th>\n",
       "      <th>model</th>\n",
       "      <th>variant</th>\n",
       "      <th>manufactured_year</th>\n",
       "      <th>kilometers_driven</th>\n",
       "      <th>fuel_type</th>\n",
       "      <th>owners</th>\n",
       "      <th>location</th>\n",
       "      <th>price</th>\n",
       "    </tr>\n",
       "  </thead>\n",
       "  <tbody>\n",
       "    <tr>\n",
       "      <th>357</th>\n",
       "      <td>Land-Rover</td>\n",
       "      <td>Range Rover Evoque</td>\n",
       "      <td>2.0 TD4 HSE Dynamic</td>\n",
       "      <td>2016</td>\n",
       "      <td>NaN</td>\n",
       "      <td>Diesel</td>\n",
       "      <td>Owner</td>\n",
       "      <td>Bangalore</td>\n",
       "      <td>--</td>\n",
       "    </tr>\n",
       "    <tr>\n",
       "      <th>358</th>\n",
       "      <td>Land-Rover</td>\n",
       "      <td>Range Rover</td>\n",
       "      <td>3.0 Vogue</td>\n",
       "      <td>2013</td>\n",
       "      <td>NaN</td>\n",
       "      <td>Diesel</td>\n",
       "      <td>Owner</td>\n",
       "      <td>Bangalore</td>\n",
       "      <td>--</td>\n",
       "    </tr>\n",
       "    <tr>\n",
       "      <th>359</th>\n",
       "      <td>Land-Rover</td>\n",
       "      <td>Range Rover</td>\n",
       "      <td>3.6 TDV8 Vogue SE Diesel</td>\n",
       "      <td>2011</td>\n",
       "      <td>NaN</td>\n",
       "      <td>Diesel</td>\n",
       "      <td>Owner</td>\n",
       "      <td>Bangalore</td>\n",
       "      <td>--</td>\n",
       "    </tr>\n",
       "    <tr>\n",
       "      <th>1011</th>\n",
       "      <td>Maruti</td>\n",
       "      <td>Swift Dzire</td>\n",
       "      <td>VDI</td>\n",
       "      <td>2019</td>\n",
       "      <td>NaN</td>\n",
       "      <td>--</td>\n",
       "      <td>--</td>\n",
       "      <td>Jaipur</td>\n",
       "      <td>--</td>\n",
       "    </tr>\n",
       "    <tr>\n",
       "      <th>1012</th>\n",
       "      <td>Maruti</td>\n",
       "      <td>Swift Dzire</td>\n",
       "      <td>VDI</td>\n",
       "      <td>2019</td>\n",
       "      <td>NaN</td>\n",
       "      <td>--</td>\n",
       "      <td>--</td>\n",
       "      <td>Jaipur</td>\n",
       "      <td>--</td>\n",
       "    </tr>\n",
       "    <tr>\n",
       "      <th>1352</th>\n",
       "      <td>Maruti</td>\n",
       "      <td>Vitara Brezza</td>\n",
       "      <td>ZDi Plus</td>\n",
       "      <td>2016</td>\n",
       "      <td>NaN</td>\n",
       "      <td>--</td>\n",
       "      <td>--</td>\n",
       "      <td>Mumbai</td>\n",
       "      <td>--</td>\n",
       "    </tr>\n",
       "    <tr>\n",
       "      <th>1353</th>\n",
       "      <td>Maruti</td>\n",
       "      <td>Swift</td>\n",
       "      <td>VXI Optional</td>\n",
       "      <td>2016</td>\n",
       "      <td>NaN</td>\n",
       "      <td>--</td>\n",
       "      <td>--</td>\n",
       "      <td>Mumbai</td>\n",
       "      <td>--</td>\n",
       "    </tr>\n",
       "    <tr>\n",
       "      <th>1354</th>\n",
       "      <td>Maruti</td>\n",
       "      <td>Vitara Brezza</td>\n",
       "      <td>ZDi Plus</td>\n",
       "      <td>2016</td>\n",
       "      <td>NaN</td>\n",
       "      <td>--</td>\n",
       "      <td>--</td>\n",
       "      <td>Mumbai</td>\n",
       "      <td>--</td>\n",
       "    </tr>\n",
       "    <tr>\n",
       "      <th>1355</th>\n",
       "      <td>Maruti</td>\n",
       "      <td>Wagon R</td>\n",
       "      <td>VXI BS IV</td>\n",
       "      <td>2014</td>\n",
       "      <td>NaN</td>\n",
       "      <td>--</td>\n",
       "      <td>--</td>\n",
       "      <td>Mumbai</td>\n",
       "      <td>--</td>\n",
       "    </tr>\n",
       "    <tr>\n",
       "      <th>1356</th>\n",
       "      <td>Maruti</td>\n",
       "      <td>Wagon R</td>\n",
       "      <td>VXI</td>\n",
       "      <td>2017</td>\n",
       "      <td>NaN</td>\n",
       "      <td>--</td>\n",
       "      <td>--</td>\n",
       "      <td>Mumbai</td>\n",
       "      <td>--</td>\n",
       "    </tr>\n",
       "    <tr>\n",
       "      <th>1357</th>\n",
       "      <td>Maruti</td>\n",
       "      <td>Wagon R</td>\n",
       "      <td>LXI CNG</td>\n",
       "      <td>2014</td>\n",
       "      <td>NaN</td>\n",
       "      <td>--</td>\n",
       "      <td>--</td>\n",
       "      <td>Mumbai</td>\n",
       "      <td>--</td>\n",
       "    </tr>\n",
       "    <tr>\n",
       "      <th>1512</th>\n",
       "      <td>Land-Rover</td>\n",
       "      <td>Discovery Sport</td>\n",
       "      <td>SD4 HSE Luxury 7S</td>\n",
       "      <td>2017</td>\n",
       "      <td>NaN</td>\n",
       "      <td>Diesel</td>\n",
       "      <td>Owner</td>\n",
       "      <td>Mumbai</td>\n",
       "      <td>--</td>\n",
       "    </tr>\n",
       "    <tr>\n",
       "      <th>1513</th>\n",
       "      <td>Land-Rover</td>\n",
       "      <td>Range Rover</td>\n",
       "      <td>LWB 4.4 SDV8 Vogue SE</td>\n",
       "      <td>2012</td>\n",
       "      <td>NaN</td>\n",
       "      <td>Diesel</td>\n",
       "      <td>Owner</td>\n",
       "      <td>Mumbai</td>\n",
       "      <td>--</td>\n",
       "    </tr>\n",
       "    <tr>\n",
       "      <th>1514</th>\n",
       "      <td>Land-Rover</td>\n",
       "      <td>Discovery Sport</td>\n",
       "      <td>TD4 HSE Luxury</td>\n",
       "      <td>2017</td>\n",
       "      <td>NaN</td>\n",
       "      <td>Diesel</td>\n",
       "      <td>Owner</td>\n",
       "      <td>Mumbai</td>\n",
       "      <td>--</td>\n",
       "    </tr>\n",
       "    <tr>\n",
       "      <th>1733</th>\n",
       "      <td>Maruti</td>\n",
       "      <td>Wagon R</td>\n",
       "      <td>VXI BS IV</td>\n",
       "      <td>2014</td>\n",
       "      <td>NaN</td>\n",
       "      <td>--</td>\n",
       "      <td>--</td>\n",
       "      <td>Pune</td>\n",
       "      <td>--</td>\n",
       "    </tr>\n",
       "    <tr>\n",
       "      <th>1738</th>\n",
       "      <td>Maruti</td>\n",
       "      <td>Swift Dzire</td>\n",
       "      <td>ZXI</td>\n",
       "      <td>2014</td>\n",
       "      <td>NaN</td>\n",
       "      <td>--</td>\n",
       "      <td>--</td>\n",
       "      <td>Pune</td>\n",
       "      <td>--</td>\n",
       "    </tr>\n",
       "    <tr>\n",
       "      <th>1743</th>\n",
       "      <td>Hyundai</td>\n",
       "      <td>i20</td>\n",
       "      <td>Petrol Spotz</td>\n",
       "      <td>2018</td>\n",
       "      <td>NaN</td>\n",
       "      <td>--</td>\n",
       "      <td>--</td>\n",
       "      <td>Pune</td>\n",
       "      <td>--</td>\n",
       "    </tr>\n",
       "    <tr>\n",
       "      <th>1744</th>\n",
       "      <td>Hyundai</td>\n",
       "      <td>Grand i10</td>\n",
       "      <td>Asta</td>\n",
       "      <td>2015</td>\n",
       "      <td>NaN</td>\n",
       "      <td>--</td>\n",
       "      <td>--</td>\n",
       "      <td>Pune</td>\n",
       "      <td>--</td>\n",
       "    </tr>\n",
       "    <tr>\n",
       "      <th>2333</th>\n",
       "      <td>Renault</td>\n",
       "      <td>Duster</td>\n",
       "      <td>85PS Diesel RxL</td>\n",
       "      <td>2014</td>\n",
       "      <td>NaN</td>\n",
       "      <td>--</td>\n",
       "      <td>--</td>\n",
       "      <td>Bangalore</td>\n",
       "      <td>--</td>\n",
       "    </tr>\n",
       "    <tr>\n",
       "      <th>2440</th>\n",
       "      <td>Land-Rover</td>\n",
       "      <td>Discovery Sport</td>\n",
       "      <td>TD4 HSE 7S</td>\n",
       "      <td>2015</td>\n",
       "      <td>NaN</td>\n",
       "      <td>Diesel</td>\n",
       "      <td>Owner</td>\n",
       "      <td>Bangalore</td>\n",
       "      <td>--</td>\n",
       "    </tr>\n",
       "    <tr>\n",
       "      <th>2441</th>\n",
       "      <td>Land-Rover</td>\n",
       "      <td>Range Rover Evoque</td>\n",
       "      <td>2.0 TD4 HSE Dynamic</td>\n",
       "      <td>2016</td>\n",
       "      <td>NaN</td>\n",
       "      <td>Diesel</td>\n",
       "      <td>Owner</td>\n",
       "      <td>Bangalore</td>\n",
       "      <td>--</td>\n",
       "    </tr>\n",
       "    <tr>\n",
       "      <th>2442</th>\n",
       "      <td>Land-Rover</td>\n",
       "      <td>Range Rover</td>\n",
       "      <td>3.0 Vogue</td>\n",
       "      <td>2013</td>\n",
       "      <td>NaN</td>\n",
       "      <td>Diesel</td>\n",
       "      <td>Owner</td>\n",
       "      <td>Bangalore</td>\n",
       "      <td>--</td>\n",
       "    </tr>\n",
       "    <tr>\n",
       "      <th>4009</th>\n",
       "      <td>Land-Rover</td>\n",
       "      <td>Range Rover</td>\n",
       "      <td>LWB 4.4 SDV8 Vogue SE</td>\n",
       "      <td>2012</td>\n",
       "      <td>NaN</td>\n",
       "      <td>Diesel</td>\n",
       "      <td>Owner</td>\n",
       "      <td>Mumbai</td>\n",
       "      <td>--</td>\n",
       "    </tr>\n",
       "    <tr>\n",
       "      <th>4010</th>\n",
       "      <td>Land-Rover</td>\n",
       "      <td>Discovery</td>\n",
       "      <td>HSE 3.0 TD6</td>\n",
       "      <td>2020</td>\n",
       "      <td>NaN</td>\n",
       "      <td>Diesel</td>\n",
       "      <td>Owner</td>\n",
       "      <td>Mumbai</td>\n",
       "      <td>--</td>\n",
       "    </tr>\n",
       "    <tr>\n",
       "      <th>4011</th>\n",
       "      <td>Land-Rover</td>\n",
       "      <td>Range Rover Sport</td>\n",
       "      <td>3.0 D SE</td>\n",
       "      <td>2015</td>\n",
       "      <td>NaN</td>\n",
       "      <td>Diesel</td>\n",
       "      <td>Owner</td>\n",
       "      <td>Mumbai</td>\n",
       "      <td>--</td>\n",
       "    </tr>\n",
       "  </tbody>\n",
       "</table>\n",
       "</div>"
      ],
      "text/plain": [
       "           brand                model                   variant  \\\n",
       "357   Land-Rover   Range Rover Evoque       2.0 TD4 HSE Dynamic   \n",
       "358   Land-Rover          Range Rover                 3.0 Vogue   \n",
       "359   Land-Rover          Range Rover  3.6 TDV8 Vogue SE Diesel   \n",
       "1011      Maruti          Swift Dzire                       VDI   \n",
       "1012      Maruti          Swift Dzire                       VDI   \n",
       "1352      Maruti        Vitara Brezza                  ZDi Plus   \n",
       "1353      Maruti                Swift              VXI Optional   \n",
       "1354      Maruti        Vitara Brezza                  ZDi Plus   \n",
       "1355      Maruti              Wagon R                 VXI BS IV   \n",
       "1356      Maruti              Wagon R                       VXI   \n",
       "1357      Maruti              Wagon R                   LXI CNG   \n",
       "1512  Land-Rover      Discovery Sport         SD4 HSE Luxury 7S   \n",
       "1513  Land-Rover          Range Rover     LWB 4.4 SDV8 Vogue SE   \n",
       "1514  Land-Rover      Discovery Sport            TD4 HSE Luxury   \n",
       "1733      Maruti              Wagon R                 VXI BS IV   \n",
       "1738      Maruti          Swift Dzire                       ZXI   \n",
       "1743     Hyundai                  i20              Petrol Spotz   \n",
       "1744     Hyundai            Grand i10                      Asta   \n",
       "2333     Renault               Duster           85PS Diesel RxL   \n",
       "2440  Land-Rover      Discovery Sport                TD4 HSE 7S   \n",
       "2441  Land-Rover   Range Rover Evoque       2.0 TD4 HSE Dynamic   \n",
       "2442  Land-Rover          Range Rover                 3.0 Vogue   \n",
       "4009  Land-Rover          Range Rover     LWB 4.4 SDV8 Vogue SE   \n",
       "4010  Land-Rover            Discovery               HSE 3.0 TD6   \n",
       "4011  Land-Rover    Range Rover Sport                  3.0 D SE   \n",
       "\n",
       "     manufactured_year kilometers_driven fuel_type owners   location price  \n",
       "357               2016               NaN    Diesel  Owner  Bangalore    --  \n",
       "358               2013               NaN    Diesel  Owner  Bangalore    --  \n",
       "359               2011               NaN    Diesel  Owner  Bangalore    --  \n",
       "1011              2019               NaN        --     --     Jaipur    --  \n",
       "1012              2019               NaN        --     --     Jaipur    --  \n",
       "1352              2016               NaN        --     --     Mumbai    --  \n",
       "1353              2016               NaN        --     --     Mumbai    --  \n",
       "1354              2016               NaN        --     --     Mumbai    --  \n",
       "1355              2014               NaN        --     --     Mumbai    --  \n",
       "1356              2017               NaN        --     --     Mumbai    --  \n",
       "1357              2014               NaN        --     --     Mumbai    --  \n",
       "1512              2017               NaN    Diesel  Owner     Mumbai    --  \n",
       "1513              2012               NaN    Diesel  Owner     Mumbai    --  \n",
       "1514              2017               NaN    Diesel  Owner     Mumbai    --  \n",
       "1733              2014               NaN        --     --       Pune    --  \n",
       "1738              2014               NaN        --     --       Pune    --  \n",
       "1743              2018               NaN        --     --       Pune    --  \n",
       "1744              2015               NaN        --     --       Pune    --  \n",
       "2333              2014               NaN        --     --  Bangalore    --  \n",
       "2440              2015               NaN    Diesel  Owner  Bangalore    --  \n",
       "2441              2016               NaN    Diesel  Owner  Bangalore    --  \n",
       "2442              2013               NaN    Diesel  Owner  Bangalore    --  \n",
       "4009              2012               NaN    Diesel  Owner     Mumbai    --  \n",
       "4010              2020               NaN    Diesel  Owner     Mumbai    --  \n",
       "4011              2015               NaN    Diesel  Owner     Mumbai    --  "
      ]
     },
     "execution_count": 22,
     "metadata": {},
     "output_type": "execute_result"
    }
   ],
   "source": [
    "frame[frame['price'] == '--']"
   ]
  },
  {
   "cell_type": "code",
   "execution_count": 23,
   "id": "d928a303",
   "metadata": {},
   "outputs": [
    {
     "data": {
      "text/html": [
       "<div>\n",
       "<style scoped>\n",
       "    .dataframe tbody tr th:only-of-type {\n",
       "        vertical-align: middle;\n",
       "    }\n",
       "\n",
       "    .dataframe tbody tr th {\n",
       "        vertical-align: top;\n",
       "    }\n",
       "\n",
       "    .dataframe thead th {\n",
       "        text-align: right;\n",
       "    }\n",
       "</style>\n",
       "<table border=\"1\" class=\"dataframe\">\n",
       "  <thead>\n",
       "    <tr style=\"text-align: right;\">\n",
       "      <th></th>\n",
       "      <th>brand</th>\n",
       "      <th>model</th>\n",
       "      <th>variant</th>\n",
       "      <th>manufactured_year</th>\n",
       "      <th>kilometers_driven</th>\n",
       "      <th>fuel_type</th>\n",
       "      <th>owners</th>\n",
       "      <th>location</th>\n",
       "      <th>price</th>\n",
       "    </tr>\n",
       "  </thead>\n",
       "  <tbody>\n",
       "    <tr>\n",
       "      <th>357</th>\n",
       "      <td>Land-Rover</td>\n",
       "      <td>Range Rover Evoque</td>\n",
       "      <td>2.0 TD4 HSE Dynamic</td>\n",
       "      <td>2016</td>\n",
       "      <td>NaN</td>\n",
       "      <td>Diesel</td>\n",
       "      <td>Owner</td>\n",
       "      <td>Bangalore</td>\n",
       "      <td>--</td>\n",
       "    </tr>\n",
       "    <tr>\n",
       "      <th>358</th>\n",
       "      <td>Land-Rover</td>\n",
       "      <td>Range Rover</td>\n",
       "      <td>3.0 Vogue</td>\n",
       "      <td>2013</td>\n",
       "      <td>NaN</td>\n",
       "      <td>Diesel</td>\n",
       "      <td>Owner</td>\n",
       "      <td>Bangalore</td>\n",
       "      <td>--</td>\n",
       "    </tr>\n",
       "    <tr>\n",
       "      <th>359</th>\n",
       "      <td>Land-Rover</td>\n",
       "      <td>Range Rover</td>\n",
       "      <td>3.6 TDV8 Vogue SE Diesel</td>\n",
       "      <td>2011</td>\n",
       "      <td>NaN</td>\n",
       "      <td>Diesel</td>\n",
       "      <td>Owner</td>\n",
       "      <td>Bangalore</td>\n",
       "      <td>--</td>\n",
       "    </tr>\n",
       "    <tr>\n",
       "      <th>1011</th>\n",
       "      <td>Maruti</td>\n",
       "      <td>Swift Dzire</td>\n",
       "      <td>VDI</td>\n",
       "      <td>2019</td>\n",
       "      <td>NaN</td>\n",
       "      <td>--</td>\n",
       "      <td>--</td>\n",
       "      <td>Jaipur</td>\n",
       "      <td>--</td>\n",
       "    </tr>\n",
       "    <tr>\n",
       "      <th>1012</th>\n",
       "      <td>Maruti</td>\n",
       "      <td>Swift Dzire</td>\n",
       "      <td>VDI</td>\n",
       "      <td>2019</td>\n",
       "      <td>NaN</td>\n",
       "      <td>--</td>\n",
       "      <td>--</td>\n",
       "      <td>Jaipur</td>\n",
       "      <td>--</td>\n",
       "    </tr>\n",
       "    <tr>\n",
       "      <th>1352</th>\n",
       "      <td>Maruti</td>\n",
       "      <td>Vitara Brezza</td>\n",
       "      <td>ZDi Plus</td>\n",
       "      <td>2016</td>\n",
       "      <td>NaN</td>\n",
       "      <td>--</td>\n",
       "      <td>--</td>\n",
       "      <td>Mumbai</td>\n",
       "      <td>--</td>\n",
       "    </tr>\n",
       "    <tr>\n",
       "      <th>1353</th>\n",
       "      <td>Maruti</td>\n",
       "      <td>Swift</td>\n",
       "      <td>VXI Optional</td>\n",
       "      <td>2016</td>\n",
       "      <td>NaN</td>\n",
       "      <td>--</td>\n",
       "      <td>--</td>\n",
       "      <td>Mumbai</td>\n",
       "      <td>--</td>\n",
       "    </tr>\n",
       "    <tr>\n",
       "      <th>1354</th>\n",
       "      <td>Maruti</td>\n",
       "      <td>Vitara Brezza</td>\n",
       "      <td>ZDi Plus</td>\n",
       "      <td>2016</td>\n",
       "      <td>NaN</td>\n",
       "      <td>--</td>\n",
       "      <td>--</td>\n",
       "      <td>Mumbai</td>\n",
       "      <td>--</td>\n",
       "    </tr>\n",
       "    <tr>\n",
       "      <th>1355</th>\n",
       "      <td>Maruti</td>\n",
       "      <td>Wagon R</td>\n",
       "      <td>VXI BS IV</td>\n",
       "      <td>2014</td>\n",
       "      <td>NaN</td>\n",
       "      <td>--</td>\n",
       "      <td>--</td>\n",
       "      <td>Mumbai</td>\n",
       "      <td>--</td>\n",
       "    </tr>\n",
       "    <tr>\n",
       "      <th>1356</th>\n",
       "      <td>Maruti</td>\n",
       "      <td>Wagon R</td>\n",
       "      <td>VXI</td>\n",
       "      <td>2017</td>\n",
       "      <td>NaN</td>\n",
       "      <td>--</td>\n",
       "      <td>--</td>\n",
       "      <td>Mumbai</td>\n",
       "      <td>--</td>\n",
       "    </tr>\n",
       "    <tr>\n",
       "      <th>1357</th>\n",
       "      <td>Maruti</td>\n",
       "      <td>Wagon R</td>\n",
       "      <td>LXI CNG</td>\n",
       "      <td>2014</td>\n",
       "      <td>NaN</td>\n",
       "      <td>--</td>\n",
       "      <td>--</td>\n",
       "      <td>Mumbai</td>\n",
       "      <td>--</td>\n",
       "    </tr>\n",
       "    <tr>\n",
       "      <th>1512</th>\n",
       "      <td>Land-Rover</td>\n",
       "      <td>Discovery Sport</td>\n",
       "      <td>SD4 HSE Luxury 7S</td>\n",
       "      <td>2017</td>\n",
       "      <td>NaN</td>\n",
       "      <td>Diesel</td>\n",
       "      <td>Owner</td>\n",
       "      <td>Mumbai</td>\n",
       "      <td>--</td>\n",
       "    </tr>\n",
       "    <tr>\n",
       "      <th>1513</th>\n",
       "      <td>Land-Rover</td>\n",
       "      <td>Range Rover</td>\n",
       "      <td>LWB 4.4 SDV8 Vogue SE</td>\n",
       "      <td>2012</td>\n",
       "      <td>NaN</td>\n",
       "      <td>Diesel</td>\n",
       "      <td>Owner</td>\n",
       "      <td>Mumbai</td>\n",
       "      <td>--</td>\n",
       "    </tr>\n",
       "    <tr>\n",
       "      <th>1514</th>\n",
       "      <td>Land-Rover</td>\n",
       "      <td>Discovery Sport</td>\n",
       "      <td>TD4 HSE Luxury</td>\n",
       "      <td>2017</td>\n",
       "      <td>NaN</td>\n",
       "      <td>Diesel</td>\n",
       "      <td>Owner</td>\n",
       "      <td>Mumbai</td>\n",
       "      <td>--</td>\n",
       "    </tr>\n",
       "    <tr>\n",
       "      <th>1733</th>\n",
       "      <td>Maruti</td>\n",
       "      <td>Wagon R</td>\n",
       "      <td>VXI BS IV</td>\n",
       "      <td>2014</td>\n",
       "      <td>NaN</td>\n",
       "      <td>--</td>\n",
       "      <td>--</td>\n",
       "      <td>Pune</td>\n",
       "      <td>--</td>\n",
       "    </tr>\n",
       "    <tr>\n",
       "      <th>1738</th>\n",
       "      <td>Maruti</td>\n",
       "      <td>Swift Dzire</td>\n",
       "      <td>ZXI</td>\n",
       "      <td>2014</td>\n",
       "      <td>NaN</td>\n",
       "      <td>--</td>\n",
       "      <td>--</td>\n",
       "      <td>Pune</td>\n",
       "      <td>--</td>\n",
       "    </tr>\n",
       "    <tr>\n",
       "      <th>1743</th>\n",
       "      <td>Hyundai</td>\n",
       "      <td>i20</td>\n",
       "      <td>Petrol Spotz</td>\n",
       "      <td>2018</td>\n",
       "      <td>NaN</td>\n",
       "      <td>--</td>\n",
       "      <td>--</td>\n",
       "      <td>Pune</td>\n",
       "      <td>--</td>\n",
       "    </tr>\n",
       "    <tr>\n",
       "      <th>1744</th>\n",
       "      <td>Hyundai</td>\n",
       "      <td>Grand i10</td>\n",
       "      <td>Asta</td>\n",
       "      <td>2015</td>\n",
       "      <td>NaN</td>\n",
       "      <td>--</td>\n",
       "      <td>--</td>\n",
       "      <td>Pune</td>\n",
       "      <td>--</td>\n",
       "    </tr>\n",
       "    <tr>\n",
       "      <th>2333</th>\n",
       "      <td>Renault</td>\n",
       "      <td>Duster</td>\n",
       "      <td>85PS Diesel RxL</td>\n",
       "      <td>2014</td>\n",
       "      <td>NaN</td>\n",
       "      <td>--</td>\n",
       "      <td>--</td>\n",
       "      <td>Bangalore</td>\n",
       "      <td>--</td>\n",
       "    </tr>\n",
       "    <tr>\n",
       "      <th>2440</th>\n",
       "      <td>Land-Rover</td>\n",
       "      <td>Discovery Sport</td>\n",
       "      <td>TD4 HSE 7S</td>\n",
       "      <td>2015</td>\n",
       "      <td>NaN</td>\n",
       "      <td>Diesel</td>\n",
       "      <td>Owner</td>\n",
       "      <td>Bangalore</td>\n",
       "      <td>--</td>\n",
       "    </tr>\n",
       "    <tr>\n",
       "      <th>2441</th>\n",
       "      <td>Land-Rover</td>\n",
       "      <td>Range Rover Evoque</td>\n",
       "      <td>2.0 TD4 HSE Dynamic</td>\n",
       "      <td>2016</td>\n",
       "      <td>NaN</td>\n",
       "      <td>Diesel</td>\n",
       "      <td>Owner</td>\n",
       "      <td>Bangalore</td>\n",
       "      <td>--</td>\n",
       "    </tr>\n",
       "    <tr>\n",
       "      <th>2442</th>\n",
       "      <td>Land-Rover</td>\n",
       "      <td>Range Rover</td>\n",
       "      <td>3.0 Vogue</td>\n",
       "      <td>2013</td>\n",
       "      <td>NaN</td>\n",
       "      <td>Diesel</td>\n",
       "      <td>Owner</td>\n",
       "      <td>Bangalore</td>\n",
       "      <td>--</td>\n",
       "    </tr>\n",
       "    <tr>\n",
       "      <th>4009</th>\n",
       "      <td>Land-Rover</td>\n",
       "      <td>Range Rover</td>\n",
       "      <td>LWB 4.4 SDV8 Vogue SE</td>\n",
       "      <td>2012</td>\n",
       "      <td>NaN</td>\n",
       "      <td>Diesel</td>\n",
       "      <td>Owner</td>\n",
       "      <td>Mumbai</td>\n",
       "      <td>--</td>\n",
       "    </tr>\n",
       "    <tr>\n",
       "      <th>4010</th>\n",
       "      <td>Land-Rover</td>\n",
       "      <td>Discovery</td>\n",
       "      <td>HSE 3.0 TD6</td>\n",
       "      <td>2020</td>\n",
       "      <td>NaN</td>\n",
       "      <td>Diesel</td>\n",
       "      <td>Owner</td>\n",
       "      <td>Mumbai</td>\n",
       "      <td>--</td>\n",
       "    </tr>\n",
       "    <tr>\n",
       "      <th>4011</th>\n",
       "      <td>Land-Rover</td>\n",
       "      <td>Range Rover Sport</td>\n",
       "      <td>3.0 D SE</td>\n",
       "      <td>2015</td>\n",
       "      <td>NaN</td>\n",
       "      <td>Diesel</td>\n",
       "      <td>Owner</td>\n",
       "      <td>Mumbai</td>\n",
       "      <td>--</td>\n",
       "    </tr>\n",
       "  </tbody>\n",
       "</table>\n",
       "</div>"
      ],
      "text/plain": [
       "           brand                model                   variant  \\\n",
       "357   Land-Rover   Range Rover Evoque       2.0 TD4 HSE Dynamic   \n",
       "358   Land-Rover          Range Rover                 3.0 Vogue   \n",
       "359   Land-Rover          Range Rover  3.6 TDV8 Vogue SE Diesel   \n",
       "1011      Maruti          Swift Dzire                       VDI   \n",
       "1012      Maruti          Swift Dzire                       VDI   \n",
       "1352      Maruti        Vitara Brezza                  ZDi Plus   \n",
       "1353      Maruti                Swift              VXI Optional   \n",
       "1354      Maruti        Vitara Brezza                  ZDi Plus   \n",
       "1355      Maruti              Wagon R                 VXI BS IV   \n",
       "1356      Maruti              Wagon R                       VXI   \n",
       "1357      Maruti              Wagon R                   LXI CNG   \n",
       "1512  Land-Rover      Discovery Sport         SD4 HSE Luxury 7S   \n",
       "1513  Land-Rover          Range Rover     LWB 4.4 SDV8 Vogue SE   \n",
       "1514  Land-Rover      Discovery Sport            TD4 HSE Luxury   \n",
       "1733      Maruti              Wagon R                 VXI BS IV   \n",
       "1738      Maruti          Swift Dzire                       ZXI   \n",
       "1743     Hyundai                  i20              Petrol Spotz   \n",
       "1744     Hyundai            Grand i10                      Asta   \n",
       "2333     Renault               Duster           85PS Diesel RxL   \n",
       "2440  Land-Rover      Discovery Sport                TD4 HSE 7S   \n",
       "2441  Land-Rover   Range Rover Evoque       2.0 TD4 HSE Dynamic   \n",
       "2442  Land-Rover          Range Rover                 3.0 Vogue   \n",
       "4009  Land-Rover          Range Rover     LWB 4.4 SDV8 Vogue SE   \n",
       "4010  Land-Rover            Discovery               HSE 3.0 TD6   \n",
       "4011  Land-Rover    Range Rover Sport                  3.0 D SE   \n",
       "\n",
       "     manufactured_year kilometers_driven fuel_type owners   location price  \n",
       "357               2016               NaN    Diesel  Owner  Bangalore    --  \n",
       "358               2013               NaN    Diesel  Owner  Bangalore    --  \n",
       "359               2011               NaN    Diesel  Owner  Bangalore    --  \n",
       "1011              2019               NaN        --     --     Jaipur    --  \n",
       "1012              2019               NaN        --     --     Jaipur    --  \n",
       "1352              2016               NaN        --     --     Mumbai    --  \n",
       "1353              2016               NaN        --     --     Mumbai    --  \n",
       "1354              2016               NaN        --     --     Mumbai    --  \n",
       "1355              2014               NaN        --     --     Mumbai    --  \n",
       "1356              2017               NaN        --     --     Mumbai    --  \n",
       "1357              2014               NaN        --     --     Mumbai    --  \n",
       "1512              2017               NaN    Diesel  Owner     Mumbai    --  \n",
       "1513              2012               NaN    Diesel  Owner     Mumbai    --  \n",
       "1514              2017               NaN    Diesel  Owner     Mumbai    --  \n",
       "1733              2014               NaN        --     --       Pune    --  \n",
       "1738              2014               NaN        --     --       Pune    --  \n",
       "1743              2018               NaN        --     --       Pune    --  \n",
       "1744              2015               NaN        --     --       Pune    --  \n",
       "2333              2014               NaN        --     --  Bangalore    --  \n",
       "2440              2015               NaN    Diesel  Owner  Bangalore    --  \n",
       "2441              2016               NaN    Diesel  Owner  Bangalore    --  \n",
       "2442              2013               NaN    Diesel  Owner  Bangalore    --  \n",
       "4009              2012               NaN    Diesel  Owner     Mumbai    --  \n",
       "4010              2020               NaN    Diesel  Owner     Mumbai    --  \n",
       "4011              2015               NaN    Diesel  Owner     Mumbai    --  "
      ]
     },
     "execution_count": 23,
     "metadata": {},
     "output_type": "execute_result"
    }
   ],
   "source": [
    "frame[frame['kilometers_driven'].isnull()]"
   ]
  },
  {
   "cell_type": "markdown",
   "id": "ab304066",
   "metadata": {},
   "source": [
    "Observations:\n",
    "1. The records that are missing price data are also missing kilometers_driven data."
   ]
  },
  {
   "cell_type": "code",
   "execution_count": 24,
   "id": "49a31f5e",
   "metadata": {},
   "outputs": [],
   "source": [
    "def get_kilometers(x):\n",
    "    if isinstance(x, float):\n",
    "        return x\n",
    "    elif isinstance(x, int):\n",
    "        return x\n",
    "    else:\n",
    "        x = x.split()[0]\n",
    "        x = int(''.join([i for i in x.split(',')]))\n",
    "        return x"
   ]
  },
  {
   "cell_type": "code",
   "execution_count": 25,
   "id": "869e6c44",
   "metadata": {},
   "outputs": [],
   "source": [
    "frame['kilometers_driven'] = frame['kilometers_driven'].apply(get_kilometers)\n",
    "frame['kilometers_driven'].fillna(frame['kilometers_driven'].median(), inplace=True)\n",
    "frame['kilometers_driven']=frame['kilometers_driven'].astype('int')"
   ]
  },
  {
   "cell_type": "code",
   "execution_count": 26,
   "id": "f2f19b69",
   "metadata": {},
   "outputs": [
    {
     "data": {
      "text/plain": [
       "brand                0\n",
       "model                0\n",
       "variant              0\n",
       "manufactured_year    0\n",
       "kilometers_driven    0\n",
       "fuel_type            6\n",
       "owners               0\n",
       "location             0\n",
       "price                0\n",
       "dtype: int64"
      ]
     },
     "execution_count": 26,
     "metadata": {},
     "output_type": "execute_result"
    }
   ],
   "source": [
    "frame.isnull().sum()"
   ]
  },
  {
   "cell_type": "code",
   "execution_count": 27,
   "id": "50ddf5a5",
   "metadata": {},
   "outputs": [
    {
     "name": "stdout",
     "output_type": "stream",
     "text": [
      "<class 'pandas.core.frame.DataFrame'>\n",
      "RangeIndex: 5479 entries, 0 to 5478\n",
      "Data columns (total 9 columns):\n",
      " #   Column             Non-Null Count  Dtype \n",
      "---  ------             --------------  ----- \n",
      " 0   brand              5479 non-null   object\n",
      " 1   model              5479 non-null   object\n",
      " 2   variant            5479 non-null   object\n",
      " 3   manufactured_year  5479 non-null   object\n",
      " 4   kilometers_driven  5479 non-null   int32 \n",
      " 5   fuel_type          5473 non-null   object\n",
      " 6   owners             5479 non-null   object\n",
      " 7   location           5479 non-null   object\n",
      " 8   price              5479 non-null   object\n",
      "dtypes: int32(1), object(8)\n",
      "memory usage: 364.0+ KB\n"
     ]
    }
   ],
   "source": [
    "frame.info()"
   ]
  },
  {
   "cell_type": "code",
   "execution_count": 28,
   "id": "7bbf9e62",
   "metadata": {},
   "outputs": [
    {
     "data": {
      "text/html": [
       "<div>\n",
       "<style scoped>\n",
       "    .dataframe tbody tr th:only-of-type {\n",
       "        vertical-align: middle;\n",
       "    }\n",
       "\n",
       "    .dataframe tbody tr th {\n",
       "        vertical-align: top;\n",
       "    }\n",
       "\n",
       "    .dataframe thead th {\n",
       "        text-align: right;\n",
       "    }\n",
       "</style>\n",
       "<table border=\"1\" class=\"dataframe\">\n",
       "  <thead>\n",
       "    <tr style=\"text-align: right;\">\n",
       "      <th></th>\n",
       "      <th>brand</th>\n",
       "      <th>model</th>\n",
       "      <th>variant</th>\n",
       "      <th>manufactured_year</th>\n",
       "      <th>kilometers_driven</th>\n",
       "      <th>fuel_type</th>\n",
       "      <th>owners</th>\n",
       "      <th>location</th>\n",
       "      <th>price</th>\n",
       "    </tr>\n",
       "  </thead>\n",
       "  <tbody>\n",
       "    <tr>\n",
       "      <th>1011</th>\n",
       "      <td>Maruti</td>\n",
       "      <td>Swift Dzire</td>\n",
       "      <td>VDI</td>\n",
       "      <td>2019</td>\n",
       "      <td>55000</td>\n",
       "      <td>--</td>\n",
       "      <td>--</td>\n",
       "      <td>Jaipur</td>\n",
       "      <td>--</td>\n",
       "    </tr>\n",
       "    <tr>\n",
       "      <th>1012</th>\n",
       "      <td>Maruti</td>\n",
       "      <td>Swift Dzire</td>\n",
       "      <td>VDI</td>\n",
       "      <td>2019</td>\n",
       "      <td>55000</td>\n",
       "      <td>--</td>\n",
       "      <td>--</td>\n",
       "      <td>Jaipur</td>\n",
       "      <td>--</td>\n",
       "    </tr>\n",
       "    <tr>\n",
       "      <th>1352</th>\n",
       "      <td>Maruti</td>\n",
       "      <td>Vitara Brezza</td>\n",
       "      <td>ZDi Plus</td>\n",
       "      <td>2016</td>\n",
       "      <td>55000</td>\n",
       "      <td>--</td>\n",
       "      <td>--</td>\n",
       "      <td>Mumbai</td>\n",
       "      <td>--</td>\n",
       "    </tr>\n",
       "    <tr>\n",
       "      <th>1353</th>\n",
       "      <td>Maruti</td>\n",
       "      <td>Swift</td>\n",
       "      <td>VXI Optional</td>\n",
       "      <td>2016</td>\n",
       "      <td>55000</td>\n",
       "      <td>--</td>\n",
       "      <td>--</td>\n",
       "      <td>Mumbai</td>\n",
       "      <td>--</td>\n",
       "    </tr>\n",
       "    <tr>\n",
       "      <th>1354</th>\n",
       "      <td>Maruti</td>\n",
       "      <td>Vitara Brezza</td>\n",
       "      <td>ZDi Plus</td>\n",
       "      <td>2016</td>\n",
       "      <td>55000</td>\n",
       "      <td>--</td>\n",
       "      <td>--</td>\n",
       "      <td>Mumbai</td>\n",
       "      <td>--</td>\n",
       "    </tr>\n",
       "    <tr>\n",
       "      <th>1355</th>\n",
       "      <td>Maruti</td>\n",
       "      <td>Wagon R</td>\n",
       "      <td>VXI BS IV</td>\n",
       "      <td>2014</td>\n",
       "      <td>55000</td>\n",
       "      <td>--</td>\n",
       "      <td>--</td>\n",
       "      <td>Mumbai</td>\n",
       "      <td>--</td>\n",
       "    </tr>\n",
       "    <tr>\n",
       "      <th>1356</th>\n",
       "      <td>Maruti</td>\n",
       "      <td>Wagon R</td>\n",
       "      <td>VXI</td>\n",
       "      <td>2017</td>\n",
       "      <td>55000</td>\n",
       "      <td>--</td>\n",
       "      <td>--</td>\n",
       "      <td>Mumbai</td>\n",
       "      <td>--</td>\n",
       "    </tr>\n",
       "    <tr>\n",
       "      <th>1357</th>\n",
       "      <td>Maruti</td>\n",
       "      <td>Wagon R</td>\n",
       "      <td>LXI CNG</td>\n",
       "      <td>2014</td>\n",
       "      <td>55000</td>\n",
       "      <td>--</td>\n",
       "      <td>--</td>\n",
       "      <td>Mumbai</td>\n",
       "      <td>--</td>\n",
       "    </tr>\n",
       "    <tr>\n",
       "      <th>1733</th>\n",
       "      <td>Maruti</td>\n",
       "      <td>Wagon R</td>\n",
       "      <td>VXI BS IV</td>\n",
       "      <td>2014</td>\n",
       "      <td>55000</td>\n",
       "      <td>--</td>\n",
       "      <td>--</td>\n",
       "      <td>Pune</td>\n",
       "      <td>--</td>\n",
       "    </tr>\n",
       "    <tr>\n",
       "      <th>1738</th>\n",
       "      <td>Maruti</td>\n",
       "      <td>Swift Dzire</td>\n",
       "      <td>ZXI</td>\n",
       "      <td>2014</td>\n",
       "      <td>55000</td>\n",
       "      <td>--</td>\n",
       "      <td>--</td>\n",
       "      <td>Pune</td>\n",
       "      <td>--</td>\n",
       "    </tr>\n",
       "    <tr>\n",
       "      <th>1743</th>\n",
       "      <td>Hyundai</td>\n",
       "      <td>i20</td>\n",
       "      <td>Petrol Spotz</td>\n",
       "      <td>2018</td>\n",
       "      <td>55000</td>\n",
       "      <td>--</td>\n",
       "      <td>--</td>\n",
       "      <td>Pune</td>\n",
       "      <td>--</td>\n",
       "    </tr>\n",
       "    <tr>\n",
       "      <th>1744</th>\n",
       "      <td>Hyundai</td>\n",
       "      <td>Grand i10</td>\n",
       "      <td>Asta</td>\n",
       "      <td>2015</td>\n",
       "      <td>55000</td>\n",
       "      <td>--</td>\n",
       "      <td>--</td>\n",
       "      <td>Pune</td>\n",
       "      <td>--</td>\n",
       "    </tr>\n",
       "    <tr>\n",
       "      <th>2333</th>\n",
       "      <td>Renault</td>\n",
       "      <td>Duster</td>\n",
       "      <td>85PS Diesel RxL</td>\n",
       "      <td>2014</td>\n",
       "      <td>55000</td>\n",
       "      <td>--</td>\n",
       "      <td>--</td>\n",
       "      <td>Bangalore</td>\n",
       "      <td>--</td>\n",
       "    </tr>\n",
       "    <tr>\n",
       "      <th>4378</th>\n",
       "      <td>BMW</td>\n",
       "      <td>3 Series</td>\n",
       "      <td>unknown</td>\n",
       "      <td>1989</td>\n",
       "      <td>2000</td>\n",
       "      <td>--</td>\n",
       "      <td>--</td>\n",
       "      <td>Mumbai</td>\n",
       "      <td>₹ 20,000</td>\n",
       "    </tr>\n",
       "    <tr>\n",
       "      <th>4496</th>\n",
       "      <td>Honda</td>\n",
       "      <td>Jazz</td>\n",
       "      <td>unknown</td>\n",
       "      <td>2015</td>\n",
       "      <td>36970</td>\n",
       "      <td>--</td>\n",
       "      <td>1st</td>\n",
       "      <td>Kerala</td>\n",
       "      <td>₹ 5,40,000</td>\n",
       "    </tr>\n",
       "  </tbody>\n",
       "</table>\n",
       "</div>"
      ],
      "text/plain": [
       "        brand          model          variant manufactured_year  \\\n",
       "1011   Maruti    Swift Dzire              VDI              2019   \n",
       "1012   Maruti    Swift Dzire              VDI              2019   \n",
       "1352   Maruti  Vitara Brezza         ZDi Plus              2016   \n",
       "1353   Maruti          Swift     VXI Optional              2016   \n",
       "1354   Maruti  Vitara Brezza         ZDi Plus              2016   \n",
       "1355   Maruti        Wagon R        VXI BS IV              2014   \n",
       "1356   Maruti        Wagon R              VXI              2017   \n",
       "1357   Maruti        Wagon R          LXI CNG              2014   \n",
       "1733   Maruti        Wagon R        VXI BS IV              2014   \n",
       "1738   Maruti    Swift Dzire              ZXI              2014   \n",
       "1743  Hyundai            i20     Petrol Spotz              2018   \n",
       "1744  Hyundai      Grand i10             Asta              2015   \n",
       "2333  Renault         Duster  85PS Diesel RxL              2014   \n",
       "4378      BMW       3 Series          unknown              1989   \n",
       "4496    Honda           Jazz          unknown              2015   \n",
       "\n",
       "      kilometers_driven fuel_type owners   location       price  \n",
       "1011              55000        --     --     Jaipur          --  \n",
       "1012              55000        --     --     Jaipur          --  \n",
       "1352              55000        --     --     Mumbai          --  \n",
       "1353              55000        --     --     Mumbai          --  \n",
       "1354              55000        --     --     Mumbai          --  \n",
       "1355              55000        --     --     Mumbai          --  \n",
       "1356              55000        --     --     Mumbai          --  \n",
       "1357              55000        --     --     Mumbai          --  \n",
       "1733              55000        --     --       Pune          --  \n",
       "1738              55000        --     --       Pune          --  \n",
       "1743              55000        --     --       Pune          --  \n",
       "1744              55000        --     --       Pune          --  \n",
       "2333              55000        --     --  Bangalore          --  \n",
       "4378               2000        --     --     Mumbai    ₹ 20,000  \n",
       "4496              36970        --    1st     Kerala  ₹ 5,40,000  "
      ]
     },
     "execution_count": 28,
     "metadata": {},
     "output_type": "execute_result"
    }
   ],
   "source": [
    "frame[frame['fuel_type']=='--']"
   ]
  },
  {
   "cell_type": "code",
   "execution_count": 29,
   "id": "c8219a38",
   "metadata": {},
   "outputs": [],
   "source": [
    "frame['fuel_type'].fillna(frame['fuel_type'].mode()[0], inplace=True)"
   ]
  },
  {
   "cell_type": "code",
   "execution_count": 30,
   "id": "cdde2500",
   "metadata": {},
   "outputs": [
    {
     "data": {
      "text/plain": [
       "array(['Petrol', 'Diesel', 'Electric', '--', 'CNG', 'LPG', 'PETROL',\n",
       "       'CNG & Hybrids', 'PETROL/COMPRESSED NATURAL GAS', 'DIESEL',\n",
       "       'PETROL/LIQUIFIED PETROLEUM GAS'], dtype=object)"
      ]
     },
     "execution_count": 30,
     "metadata": {},
     "output_type": "execute_result"
    }
   ],
   "source": [
    "frame['fuel_type'].unique()"
   ]
  },
  {
   "cell_type": "code",
   "execution_count": 31,
   "id": "df5f345a",
   "metadata": {},
   "outputs": [],
   "source": [
    "fuel_dict = {'Petrol':'petrol', 'Diesel':'diesel', 'Electric':'electric', '--':'unknown', 'CNG':'cng', 'PETROL':'petrol',\n",
    "       'CNG & Hybrids':'hybrid', 'PETROL/COMPRESSED NATURAL GAS':'hybrid', 'LPG':'lpg', 'DIESEL':'diesel',\n",
    "       'PETROL/LIQUIFIED PETROLEUM GAS':'hybrid'}"
   ]
  },
  {
   "cell_type": "code",
   "execution_count": 32,
   "id": "a5872f10",
   "metadata": {},
   "outputs": [
    {
     "data": {
      "text/html": [
       "<div>\n",
       "<style scoped>\n",
       "    .dataframe tbody tr th:only-of-type {\n",
       "        vertical-align: middle;\n",
       "    }\n",
       "\n",
       "    .dataframe tbody tr th {\n",
       "        vertical-align: top;\n",
       "    }\n",
       "\n",
       "    .dataframe thead th {\n",
       "        text-align: right;\n",
       "    }\n",
       "</style>\n",
       "<table border=\"1\" class=\"dataframe\">\n",
       "  <thead>\n",
       "    <tr style=\"text-align: right;\">\n",
       "      <th></th>\n",
       "      <th>brand</th>\n",
       "      <th>model</th>\n",
       "      <th>variant</th>\n",
       "      <th>manufactured_year</th>\n",
       "      <th>kilometers_driven</th>\n",
       "      <th>fuel_type</th>\n",
       "      <th>owners</th>\n",
       "      <th>location</th>\n",
       "      <th>price</th>\n",
       "    </tr>\n",
       "  </thead>\n",
       "  <tbody>\n",
       "    <tr>\n",
       "      <th>0</th>\n",
       "      <td>Maruti</td>\n",
       "      <td>Eeco</td>\n",
       "      <td>5 Seater AC BSIV</td>\n",
       "      <td>2016</td>\n",
       "      <td>45347</td>\n",
       "      <td>petrol</td>\n",
       "      <td>1st Owner</td>\n",
       "      <td>Ahmedabad</td>\n",
       "      <td>3,74,500</td>\n",
       "    </tr>\n",
       "    <tr>\n",
       "      <th>1</th>\n",
       "      <td>Maruti</td>\n",
       "      <td>Eeco</td>\n",
       "      <td>5 Seater AC</td>\n",
       "      <td>2020</td>\n",
       "      <td>17116</td>\n",
       "      <td>petrol</td>\n",
       "      <td>1st Owner</td>\n",
       "      <td>Ahmedabad</td>\n",
       "      <td>4,74,500</td>\n",
       "    </tr>\n",
       "    <tr>\n",
       "      <th>2</th>\n",
       "      <td>Maruti</td>\n",
       "      <td>Swift Dzire</td>\n",
       "      <td>VXI 1.2</td>\n",
       "      <td>2019</td>\n",
       "      <td>11935</td>\n",
       "      <td>petrol</td>\n",
       "      <td>1st Owner</td>\n",
       "      <td>Ahmedabad</td>\n",
       "      <td>6,91,000</td>\n",
       "    </tr>\n",
       "    <tr>\n",
       "      <th>3</th>\n",
       "      <td>Maruti</td>\n",
       "      <td>Wagon R</td>\n",
       "      <td>VXI</td>\n",
       "      <td>2014</td>\n",
       "      <td>131125</td>\n",
       "      <td>petrol</td>\n",
       "      <td>1st Owner</td>\n",
       "      <td>Ahmedabad</td>\n",
       "      <td>3,09,500</td>\n",
       "    </tr>\n",
       "    <tr>\n",
       "      <th>4</th>\n",
       "      <td>Maruti</td>\n",
       "      <td>Wagon R</td>\n",
       "      <td>VXI</td>\n",
       "      <td>2014</td>\n",
       "      <td>42381</td>\n",
       "      <td>petrol</td>\n",
       "      <td>1st Owner</td>\n",
       "      <td>Ahmedabad</td>\n",
       "      <td>3,61,000</td>\n",
       "    </tr>\n",
       "    <tr>\n",
       "      <th>...</th>\n",
       "      <td>...</td>\n",
       "      <td>...</td>\n",
       "      <td>...</td>\n",
       "      <td>...</td>\n",
       "      <td>...</td>\n",
       "      <td>...</td>\n",
       "      <td>...</td>\n",
       "      <td>...</td>\n",
       "      <td>...</td>\n",
       "    </tr>\n",
       "    <tr>\n",
       "      <th>5474</th>\n",
       "      <td>Honda</td>\n",
       "      <td>City</td>\n",
       "      <td>i-VTEC S</td>\n",
       "      <td>2011</td>\n",
       "      <td>77500</td>\n",
       "      <td>petrol</td>\n",
       "      <td>1st</td>\n",
       "      <td>Chandigarh</td>\n",
       "      <td>₹ 3,35,000</td>\n",
       "    </tr>\n",
       "    <tr>\n",
       "      <th>5475</th>\n",
       "      <td>Honda</td>\n",
       "      <td>WR-V</td>\n",
       "      <td>Honda WR-V Edge Edition i-DTEC S</td>\n",
       "      <td>2019</td>\n",
       "      <td>29856</td>\n",
       "      <td>petrol</td>\n",
       "      <td>1st</td>\n",
       "      <td>Chandigarh</td>\n",
       "      <td>₹ 7,25,000</td>\n",
       "    </tr>\n",
       "    <tr>\n",
       "      <th>5476</th>\n",
       "      <td>Honda</td>\n",
       "      <td>Brio</td>\n",
       "      <td>1.2 S MT</td>\n",
       "      <td>2013</td>\n",
       "      <td>20600</td>\n",
       "      <td>petrol</td>\n",
       "      <td>1st</td>\n",
       "      <td>Chandigarh</td>\n",
       "      <td>₹ 3,20,000</td>\n",
       "    </tr>\n",
       "    <tr>\n",
       "      <th>5477</th>\n",
       "      <td>Honda</td>\n",
       "      <td>City</td>\n",
       "      <td>2008-2011 1.5 V MT</td>\n",
       "      <td>2011</td>\n",
       "      <td>58000</td>\n",
       "      <td>petrol</td>\n",
       "      <td>1st</td>\n",
       "      <td>Chandigarh</td>\n",
       "      <td>₹ 3,35,000</td>\n",
       "    </tr>\n",
       "    <tr>\n",
       "      <th>5478</th>\n",
       "      <td>Honda</td>\n",
       "      <td>City ZX</td>\n",
       "      <td>GXi</td>\n",
       "      <td>2008</td>\n",
       "      <td>15</td>\n",
       "      <td>petrol</td>\n",
       "      <td>2nd</td>\n",
       "      <td>Chandigarh</td>\n",
       "      <td>₹ 1,55,000</td>\n",
       "    </tr>\n",
       "  </tbody>\n",
       "</table>\n",
       "<p>5479 rows × 9 columns</p>\n",
       "</div>"
      ],
      "text/plain": [
       "       brand        model                           variant manufactured_year  \\\n",
       "0     Maruti         Eeco                  5 Seater AC BSIV              2016   \n",
       "1     Maruti         Eeco                       5 Seater AC              2020   \n",
       "2     Maruti  Swift Dzire                           VXI 1.2              2019   \n",
       "3     Maruti      Wagon R                               VXI              2014   \n",
       "4     Maruti      Wagon R                               VXI              2014   \n",
       "...      ...          ...                               ...               ...   \n",
       "5474   Honda         City                          i-VTEC S              2011   \n",
       "5475   Honda         WR-V  Honda WR-V Edge Edition i-DTEC S              2019   \n",
       "5476   Honda         Brio                          1.2 S MT              2013   \n",
       "5477   Honda         City                2008-2011 1.5 V MT              2011   \n",
       "5478   Honda      City ZX                               GXi              2008   \n",
       "\n",
       "      kilometers_driven fuel_type     owners    location       price  \n",
       "0                 45347    petrol  1st Owner   Ahmedabad    3,74,500  \n",
       "1                 17116    petrol  1st Owner   Ahmedabad    4,74,500  \n",
       "2                 11935    petrol  1st Owner   Ahmedabad    6,91,000  \n",
       "3                131125    petrol  1st Owner   Ahmedabad    3,09,500  \n",
       "4                 42381    petrol  1st Owner   Ahmedabad    3,61,000  \n",
       "...                 ...       ...        ...         ...         ...  \n",
       "5474              77500    petrol        1st  Chandigarh  ₹ 3,35,000  \n",
       "5475              29856    petrol        1st  Chandigarh  ₹ 7,25,000  \n",
       "5476              20600    petrol        1st  Chandigarh  ₹ 3,20,000  \n",
       "5477              58000    petrol        1st  Chandigarh  ₹ 3,35,000  \n",
       "5478                 15    petrol        2nd  Chandigarh  ₹ 1,55,000  \n",
       "\n",
       "[5479 rows x 9 columns]"
      ]
     },
     "execution_count": 32,
     "metadata": {},
     "output_type": "execute_result"
    }
   ],
   "source": [
    "frame['fuel_type']=frame['fuel_type'].apply(lambda x: fuel_dict[x])\n",
    "frame"
   ]
  },
  {
   "cell_type": "code",
   "execution_count": 33,
   "id": "3213a100",
   "metadata": {},
   "outputs": [
    {
     "data": {
      "text/plain": [
       "array(['petrol', 'diesel', 'electric', 'unknown', 'cng', 'lpg', 'hybrid'],\n",
       "      dtype=object)"
      ]
     },
     "execution_count": 33,
     "metadata": {},
     "output_type": "execute_result"
    }
   ],
   "source": [
    "frame['fuel_type'].unique()"
   ]
  },
  {
   "cell_type": "code",
   "execution_count": 34,
   "id": "e7324bde",
   "metadata": {},
   "outputs": [
    {
     "data": {
      "text/plain": [
       "array(['1st Owner', 'First Owner', 'Fourth & Above Owner', '2nd Owner',\n",
       "       'Second Owner', 'Third Owner', 'Owner', '--', '3rd Owner', '1st',\n",
       "       'First', '2nd', '3rd', '4th', '4+', 'Second', 'Third'],\n",
       "      dtype=object)"
      ]
     },
     "execution_count": 34,
     "metadata": {},
     "output_type": "execute_result"
    }
   ],
   "source": [
    "frame['owners'].unique()"
   ]
  },
  {
   "cell_type": "code",
   "execution_count": 35,
   "id": "4789da21",
   "metadata": {},
   "outputs": [],
   "source": [
    "owner_dict = {'1st Owner':1, 'First Owner':1, 'Fourth & Above Owner':4, '2nd Owner':2,\n",
    "       'Second Owner':2, 'Third Owner':3, 'Owner':'--', '--':'--', '1st':1, 'First':1,\n",
    "       '2nd':2, '3rd':3, '4th':4, '4+':4, 'Second':2, 'Third':3,'3rd Owner':3}"
   ]
  },
  {
   "cell_type": "code",
   "execution_count": 36,
   "id": "b2fde1c0",
   "metadata": {},
   "outputs": [
    {
     "data": {
      "text/html": [
       "<div>\n",
       "<style scoped>\n",
       "    .dataframe tbody tr th:only-of-type {\n",
       "        vertical-align: middle;\n",
       "    }\n",
       "\n",
       "    .dataframe tbody tr th {\n",
       "        vertical-align: top;\n",
       "    }\n",
       "\n",
       "    .dataframe thead th {\n",
       "        text-align: right;\n",
       "    }\n",
       "</style>\n",
       "<table border=\"1\" class=\"dataframe\">\n",
       "  <thead>\n",
       "    <tr style=\"text-align: right;\">\n",
       "      <th></th>\n",
       "      <th>brand</th>\n",
       "      <th>model</th>\n",
       "      <th>variant</th>\n",
       "      <th>manufactured_year</th>\n",
       "      <th>kilometers_driven</th>\n",
       "      <th>fuel_type</th>\n",
       "      <th>owners</th>\n",
       "      <th>location</th>\n",
       "      <th>price</th>\n",
       "    </tr>\n",
       "  </thead>\n",
       "  <tbody>\n",
       "    <tr>\n",
       "      <th>0</th>\n",
       "      <td>Maruti</td>\n",
       "      <td>Eeco</td>\n",
       "      <td>5 Seater AC BSIV</td>\n",
       "      <td>2016</td>\n",
       "      <td>45347</td>\n",
       "      <td>petrol</td>\n",
       "      <td>1</td>\n",
       "      <td>Ahmedabad</td>\n",
       "      <td>3,74,500</td>\n",
       "    </tr>\n",
       "    <tr>\n",
       "      <th>1</th>\n",
       "      <td>Maruti</td>\n",
       "      <td>Eeco</td>\n",
       "      <td>5 Seater AC</td>\n",
       "      <td>2020</td>\n",
       "      <td>17116</td>\n",
       "      <td>petrol</td>\n",
       "      <td>1</td>\n",
       "      <td>Ahmedabad</td>\n",
       "      <td>4,74,500</td>\n",
       "    </tr>\n",
       "    <tr>\n",
       "      <th>2</th>\n",
       "      <td>Maruti</td>\n",
       "      <td>Swift Dzire</td>\n",
       "      <td>VXI 1.2</td>\n",
       "      <td>2019</td>\n",
       "      <td>11935</td>\n",
       "      <td>petrol</td>\n",
       "      <td>1</td>\n",
       "      <td>Ahmedabad</td>\n",
       "      <td>6,91,000</td>\n",
       "    </tr>\n",
       "    <tr>\n",
       "      <th>3</th>\n",
       "      <td>Maruti</td>\n",
       "      <td>Wagon R</td>\n",
       "      <td>VXI</td>\n",
       "      <td>2014</td>\n",
       "      <td>131125</td>\n",
       "      <td>petrol</td>\n",
       "      <td>1</td>\n",
       "      <td>Ahmedabad</td>\n",
       "      <td>3,09,500</td>\n",
       "    </tr>\n",
       "    <tr>\n",
       "      <th>4</th>\n",
       "      <td>Maruti</td>\n",
       "      <td>Wagon R</td>\n",
       "      <td>VXI</td>\n",
       "      <td>2014</td>\n",
       "      <td>42381</td>\n",
       "      <td>petrol</td>\n",
       "      <td>1</td>\n",
       "      <td>Ahmedabad</td>\n",
       "      <td>3,61,000</td>\n",
       "    </tr>\n",
       "    <tr>\n",
       "      <th>...</th>\n",
       "      <td>...</td>\n",
       "      <td>...</td>\n",
       "      <td>...</td>\n",
       "      <td>...</td>\n",
       "      <td>...</td>\n",
       "      <td>...</td>\n",
       "      <td>...</td>\n",
       "      <td>...</td>\n",
       "      <td>...</td>\n",
       "    </tr>\n",
       "    <tr>\n",
       "      <th>5474</th>\n",
       "      <td>Honda</td>\n",
       "      <td>City</td>\n",
       "      <td>i-VTEC S</td>\n",
       "      <td>2011</td>\n",
       "      <td>77500</td>\n",
       "      <td>petrol</td>\n",
       "      <td>1</td>\n",
       "      <td>Chandigarh</td>\n",
       "      <td>₹ 3,35,000</td>\n",
       "    </tr>\n",
       "    <tr>\n",
       "      <th>5475</th>\n",
       "      <td>Honda</td>\n",
       "      <td>WR-V</td>\n",
       "      <td>Honda WR-V Edge Edition i-DTEC S</td>\n",
       "      <td>2019</td>\n",
       "      <td>29856</td>\n",
       "      <td>petrol</td>\n",
       "      <td>1</td>\n",
       "      <td>Chandigarh</td>\n",
       "      <td>₹ 7,25,000</td>\n",
       "    </tr>\n",
       "    <tr>\n",
       "      <th>5476</th>\n",
       "      <td>Honda</td>\n",
       "      <td>Brio</td>\n",
       "      <td>1.2 S MT</td>\n",
       "      <td>2013</td>\n",
       "      <td>20600</td>\n",
       "      <td>petrol</td>\n",
       "      <td>1</td>\n",
       "      <td>Chandigarh</td>\n",
       "      <td>₹ 3,20,000</td>\n",
       "    </tr>\n",
       "    <tr>\n",
       "      <th>5477</th>\n",
       "      <td>Honda</td>\n",
       "      <td>City</td>\n",
       "      <td>2008-2011 1.5 V MT</td>\n",
       "      <td>2011</td>\n",
       "      <td>58000</td>\n",
       "      <td>petrol</td>\n",
       "      <td>1</td>\n",
       "      <td>Chandigarh</td>\n",
       "      <td>₹ 3,35,000</td>\n",
       "    </tr>\n",
       "    <tr>\n",
       "      <th>5478</th>\n",
       "      <td>Honda</td>\n",
       "      <td>City ZX</td>\n",
       "      <td>GXi</td>\n",
       "      <td>2008</td>\n",
       "      <td>15</td>\n",
       "      <td>petrol</td>\n",
       "      <td>2</td>\n",
       "      <td>Chandigarh</td>\n",
       "      <td>₹ 1,55,000</td>\n",
       "    </tr>\n",
       "  </tbody>\n",
       "</table>\n",
       "<p>5479 rows × 9 columns</p>\n",
       "</div>"
      ],
      "text/plain": [
       "       brand        model                           variant manufactured_year  \\\n",
       "0     Maruti         Eeco                  5 Seater AC BSIV              2016   \n",
       "1     Maruti         Eeco                       5 Seater AC              2020   \n",
       "2     Maruti  Swift Dzire                           VXI 1.2              2019   \n",
       "3     Maruti      Wagon R                               VXI              2014   \n",
       "4     Maruti      Wagon R                               VXI              2014   \n",
       "...      ...          ...                               ...               ...   \n",
       "5474   Honda         City                          i-VTEC S              2011   \n",
       "5475   Honda         WR-V  Honda WR-V Edge Edition i-DTEC S              2019   \n",
       "5476   Honda         Brio                          1.2 S MT              2013   \n",
       "5477   Honda         City                2008-2011 1.5 V MT              2011   \n",
       "5478   Honda      City ZX                               GXi              2008   \n",
       "\n",
       "      kilometers_driven fuel_type owners    location       price  \n",
       "0                 45347    petrol      1   Ahmedabad    3,74,500  \n",
       "1                 17116    petrol      1   Ahmedabad    4,74,500  \n",
       "2                 11935    petrol      1   Ahmedabad    6,91,000  \n",
       "3                131125    petrol      1   Ahmedabad    3,09,500  \n",
       "4                 42381    petrol      1   Ahmedabad    3,61,000  \n",
       "...                 ...       ...    ...         ...         ...  \n",
       "5474              77500    petrol      1  Chandigarh  ₹ 3,35,000  \n",
       "5475              29856    petrol      1  Chandigarh  ₹ 7,25,000  \n",
       "5476              20600    petrol      1  Chandigarh  ₹ 3,20,000  \n",
       "5477              58000    petrol      1  Chandigarh  ₹ 3,35,000  \n",
       "5478                 15    petrol      2  Chandigarh  ₹ 1,55,000  \n",
       "\n",
       "[5479 rows x 9 columns]"
      ]
     },
     "execution_count": 36,
     "metadata": {},
     "output_type": "execute_result"
    }
   ],
   "source": [
    "frame['owners']=frame['owners'].apply(lambda x: owner_dict[x])\n",
    "frame"
   ]
  },
  {
   "cell_type": "code",
   "execution_count": 37,
   "id": "ce904d1d",
   "metadata": {},
   "outputs": [
    {
     "data": {
      "text/plain": [
       "array([1, 4, 2, 3, '--'], dtype=object)"
      ]
     },
     "execution_count": 37,
     "metadata": {},
     "output_type": "execute_result"
    }
   ],
   "source": [
    "frame['owners'].unique()"
   ]
  },
  {
   "cell_type": "code",
   "execution_count": 38,
   "id": "a388cf51",
   "metadata": {},
   "outputs": [
    {
     "data": {
      "text/plain": [
       "array(['Ahmedabad', 'Bangalore', 'Chennai', 'Gurgaon', 'Hyderabad',\n",
       "       'Jaipur', 'Kolkata', 'Mumbai', 'Noida', 'Pune', 'Maharashtra',\n",
       "       'Kerala', 'Uttar Pradesh', 'Rajasthan', 'Andhra Pradesh',\n",
       "       'Madhya Pradesh', 'Bihar', 'Assam', 'Chandigarh'], dtype=object)"
      ]
     },
     "execution_count": 38,
     "metadata": {},
     "output_type": "execute_result"
    }
   ],
   "source": [
    "frame['location'].unique()"
   ]
  },
  {
   "cell_type": "code",
   "execution_count": 39,
   "id": "d70dec2e",
   "metadata": {},
   "outputs": [
    {
     "data": {
      "text/plain": [
       "array(['3,74,500', '4,74,500', '6,91,000', ..., '₹ 30,50,000',\n",
       "       '₹ 3,35,000', '₹ 2,79,000'], dtype=object)"
      ]
     },
     "execution_count": 39,
     "metadata": {},
     "output_type": "execute_result"
    }
   ],
   "source": [
    "frame['price'].unique()"
   ]
  },
  {
   "cell_type": "code",
   "execution_count": 40,
   "id": "0d891f37",
   "metadata": {},
   "outputs": [
    {
     "data": {
      "text/plain": [
       "0         3,74,500\n",
       "1         4,74,500\n",
       "2         6,91,000\n",
       "3         3,09,500\n",
       "4         3,61,000\n",
       "          ...     \n",
       "96        11 Lakh*\n",
       "97      16.5 Lakh*\n",
       "98      26.5 Lakh*\n",
       "99      27.5 Lakh*\n",
       "100    26.95 Lakh*\n",
       "Name: price, Length: 101, dtype: object"
      ]
     },
     "execution_count": 40,
     "metadata": {},
     "output_type": "execute_result"
    }
   ],
   "source": [
    "frame.loc[:100,'price']"
   ]
  },
  {
   "cell_type": "code",
   "execution_count": 41,
   "id": "a98808c7",
   "metadata": {},
   "outputs": [],
   "source": [
    "def get_price(i):\n",
    "    if isinstance(i, float):\n",
    "        return i\n",
    "    elif isinstance(i, int):\n",
    "        return i\n",
    "    elif i == '--':\n",
    "        return np.nan\n",
    "    elif 'Cr' in i:\n",
    "        i = i.replace('Cr','')\n",
    "        i = i.replace('*','')\n",
    "        i = i.strip()\n",
    "        i = float(i)*100\n",
    "        return i\n",
    "    elif isinstance(i,str):\n",
    "        i = i.replace('₹','')\n",
    "        i = i.replace('Lakh*','')\n",
    "        i = i.replace('*','')\n",
    "        i = i.replace(',','')\n",
    "        i = i.strip()\n",
    "        return i\n",
    "    "
   ]
  },
  {
   "cell_type": "code",
   "execution_count": 42,
   "id": "6d95d7ab",
   "metadata": {},
   "outputs": [
    {
     "data": {
      "text/plain": [
       "count           5479\n",
       "unique          1375\n",
       "top       3.25 Lakh*\n",
       "freq              53\n",
       "Name: price, dtype: object"
      ]
     },
     "execution_count": 42,
     "metadata": {},
     "output_type": "execute_result"
    }
   ],
   "source": [
    "frame['price'].describe()"
   ]
  },
  {
   "cell_type": "code",
   "execution_count": 43,
   "id": "af62218d",
   "metadata": {},
   "outputs": [
    {
     "data": {
      "text/plain": [
       "0       3.745\n",
       "1       4.745\n",
       "2       6.910\n",
       "3       3.095\n",
       "4       3.610\n",
       "        ...  \n",
       "96     11.000\n",
       "97     16.500\n",
       "98     26.500\n",
       "99     27.500\n",
       "100    26.950\n",
       "Name: price, Length: 101, dtype: float64"
      ]
     },
     "execution_count": 43,
     "metadata": {},
     "output_type": "execute_result"
    }
   ],
   "source": [
    "frame['price'] = frame['price'].apply(get_price)\n",
    "frame['price']=frame['price'].astype('float')\n",
    "frame['price'].fillna(frame['price'].median(), inplace=True)\n",
    "frame['price'] = frame['price'].apply(lambda x : x/100000 if x > 10000 else x)\n",
    "frame.loc[:100,'price']"
   ]
  },
  {
   "cell_type": "code",
   "execution_count": 44,
   "id": "90b172d5",
   "metadata": {},
   "outputs": [
    {
     "data": {
      "text/plain": [
       "count    5479.000000\n",
       "mean       10.028008\n",
       "std        12.797908\n",
       "min         0.150000\n",
       "25%         3.350000\n",
       "50%         5.600000\n",
       "75%        11.500000\n",
       "max       228.000000\n",
       "Name: price, dtype: float64"
      ]
     },
     "execution_count": 44,
     "metadata": {},
     "output_type": "execute_result"
    }
   ],
   "source": [
    "frame['price'].describe()"
   ]
  },
  {
   "cell_type": "code",
   "execution_count": 45,
   "id": "520261b7",
   "metadata": {},
   "outputs": [
    {
     "data": {
      "text/html": [
       "<div>\n",
       "<style scoped>\n",
       "    .dataframe tbody tr th:only-of-type {\n",
       "        vertical-align: middle;\n",
       "    }\n",
       "\n",
       "    .dataframe tbody tr th {\n",
       "        vertical-align: top;\n",
       "    }\n",
       "\n",
       "    .dataframe thead th {\n",
       "        text-align: right;\n",
       "    }\n",
       "</style>\n",
       "<table border=\"1\" class=\"dataframe\">\n",
       "  <thead>\n",
       "    <tr style=\"text-align: right;\">\n",
       "      <th></th>\n",
       "      <th>brand</th>\n",
       "      <th>model</th>\n",
       "      <th>variant</th>\n",
       "      <th>manufactured_year</th>\n",
       "      <th>kilometers_driven</th>\n",
       "      <th>fuel_type</th>\n",
       "      <th>owners</th>\n",
       "      <th>location</th>\n",
       "      <th>price</th>\n",
       "    </tr>\n",
       "  </thead>\n",
       "  <tbody>\n",
       "    <tr>\n",
       "      <th>1007</th>\n",
       "      <td>Lexus</td>\n",
       "      <td>LS</td>\n",
       "      <td>500h Ultra Luxury</td>\n",
       "      <td>2019</td>\n",
       "      <td>3500</td>\n",
       "      <td>petrol</td>\n",
       "      <td>1</td>\n",
       "      <td>Hyderabad</td>\n",
       "      <td>175.0</td>\n",
       "    </tr>\n",
       "    <tr>\n",
       "      <th>3119</th>\n",
       "      <td>Lexus</td>\n",
       "      <td>LS</td>\n",
       "      <td>500h Ultra Luxury</td>\n",
       "      <td>2019</td>\n",
       "      <td>3500</td>\n",
       "      <td>petrol</td>\n",
       "      <td>1</td>\n",
       "      <td>Hyderabad</td>\n",
       "      <td>175.0</td>\n",
       "    </tr>\n",
       "  </tbody>\n",
       "</table>\n",
       "</div>"
      ],
      "text/plain": [
       "      brand model            variant manufactured_year  kilometers_driven  \\\n",
       "1007  Lexus    LS  500h Ultra Luxury              2019               3500   \n",
       "3119  Lexus    LS  500h Ultra Luxury              2019               3500   \n",
       "\n",
       "     fuel_type owners   location  price  \n",
       "1007    petrol      1  Hyderabad  175.0  \n",
       "3119    petrol      1  Hyderabad  175.0  "
      ]
     },
     "execution_count": 45,
     "metadata": {},
     "output_type": "execute_result"
    }
   ],
   "source": [
    "frame[frame['price']==175]"
   ]
  },
  {
   "cell_type": "code",
   "execution_count": 46,
   "id": "16d64bce",
   "metadata": {},
   "outputs": [
    {
     "name": "stdout",
     "output_type": "stream",
     "text": [
      "<class 'pandas.core.frame.DataFrame'>\n",
      "RangeIndex: 5479 entries, 0 to 5478\n",
      "Data columns (total 9 columns):\n",
      " #   Column             Non-Null Count  Dtype  \n",
      "---  ------             --------------  -----  \n",
      " 0   brand              5479 non-null   object \n",
      " 1   model              5479 non-null   object \n",
      " 2   variant            5479 non-null   object \n",
      " 3   manufactured_year  5479 non-null   object \n",
      " 4   kilometers_driven  5479 non-null   int32  \n",
      " 5   fuel_type          5479 non-null   object \n",
      " 6   owners             5479 non-null   object \n",
      " 7   location           5479 non-null   object \n",
      " 8   price              5479 non-null   float64\n",
      "dtypes: float64(1), int32(1), object(7)\n",
      "memory usage: 364.0+ KB\n"
     ]
    }
   ],
   "source": [
    "frame.info()"
   ]
  },
  {
   "cell_type": "code",
   "execution_count": 47,
   "id": "d3c1d652",
   "metadata": {},
   "outputs": [
    {
     "data": {
      "text/plain": [
       "brand                0\n",
       "model                0\n",
       "variant              0\n",
       "manufactured_year    0\n",
       "kilometers_driven    0\n",
       "fuel_type            0\n",
       "owners               0\n",
       "location             0\n",
       "price                0\n",
       "dtype: int64"
      ]
     },
     "execution_count": 47,
     "metadata": {},
     "output_type": "execute_result"
    }
   ],
   "source": [
    "frame.isnull().sum()"
   ]
  },
  {
   "cell_type": "code",
   "execution_count": 48,
   "id": "4afed06b",
   "metadata": {},
   "outputs": [],
   "source": [
    "frame['brand']=frame['brand'].str.replace('\\n/','')"
   ]
  },
  {
   "cell_type": "code",
   "execution_count": 49,
   "id": "ede4fb6d",
   "metadata": {},
   "outputs": [
    {
     "name": "stdout",
     "output_type": "stream",
     "text": [
      "Hyundai               434\n",
      "Toyota                393\n",
      "Honda                 381\n",
      "Mahindra              367\n",
      "Tata                  346\n",
      "Ford                  317\n",
      "Chevrolet             296\n",
      "Renault               281\n",
      "Maruti                280\n",
      "Volkswagen            278\n",
      "Audi                  203\n",
      "Skoda                 198\n",
      "BMW                   194\n",
      "Mercedes-Benz         192\n",
      "Nissan                185\n",
      "Maruti Suzuki         184\n",
      "Datsun                126\n",
      "Land-Rover             94\n",
      "Fiat                   84\n",
      "Volvo                  84\n",
      "Jeep                   83\n",
      "Jaguar                 79\n",
      "Mitsubishi             74\n",
      "Kia                    61\n",
      "Porsche                53\n",
      "MG                     45\n",
      "Other Brands           34\n",
      "Mini                   34\n",
      "Mahindra-Ssangyong     23\n",
      "Mahindra-Renault       16\n",
      "Isuzu                  10\n",
      "Hindustan-Motors        8\n",
      "Premier                 7\n",
      "Bentley                 6\n",
      "Others                  4\n",
      "Lexus                   4\n",
      "Opel                    3\n",
      "Scorpio                 2\n",
      "Force                   2\n",
      "KWID                    2\n",
      "Bolero                  2\n",
      "Indica Vista            1\n",
      "Maserati                1\n",
      "Zen Estilo              1\n",
      "Marazzo                 1\n",
      "Scorpio Getaway         1\n",
      "Jazz                    1\n",
      "Indigo CS               1\n",
      "City ZX                 1\n",
      "Tavera                  1\n",
      "Etios Liva              1\n",
      "Name: brand, dtype: int64\n",
      "Grand i10             133\n",
      "Polo                  133\n",
      "KWID                  126\n",
      "City                  124\n",
      "Innova                113\n",
      "                     ... \n",
      "Land Cruiser Prado      1\n",
      "Baleno RS               1\n",
      "Sail U-VA               1\n",
      "Estate                  1\n",
      "Carnival                1\n",
      "Name: model, Length: 305, dtype: int64\n",
      "Others                        108\n",
      "unknown                        64\n",
      "VXI                            39\n",
      "T BSIV                         34\n",
      "XL                             33\n",
      "                             ... \n",
      "E 350d                          1\n",
      "W6 1.99 mHawk                   1\n",
      "CRDi                            1\n",
      "2001-2010 Plus Non AC           1\n",
      "2008-2011 1.4 SXi TDCi ABS      1\n",
      "Name: variant, Length: 1728, dtype: int64\n",
      "2017       634\n",
      "2018       580\n",
      "2016       577\n",
      "2015       548\n",
      "2014       545\n",
      "2013       499\n",
      "2012       439\n",
      "2011       385\n",
      "2019       315\n",
      "2010       248\n",
      "2020       174\n",
      "2009       130\n",
      "2008       121\n",
      "2007        77\n",
      "2021        54\n",
      "2006        38\n",
      "2005        24\n",
      "2004        20\n",
      "unknown     14\n",
      "2002        14\n",
      "2003        12\n",
      "2000         6\n",
      "2001         6\n",
      "1992         3\n",
      "1996         2\n",
      "1989         2\n",
      "1985         1\n",
      "2016.0       1\n",
      "1990         1\n",
      "1999         1\n",
      "2012.0       1\n",
      "1.2          1\n",
      "1993         1\n",
      "1997         1\n",
      "1995         1\n",
      "2015.0       1\n",
      "1994         1\n",
      "1998         1\n",
      "Name: manufactured_year, dtype: int64\n",
      "diesel      3107\n",
      "petrol      2310\n",
      "hybrid        19\n",
      "unknown       15\n",
      "lpg           13\n",
      "electric      12\n",
      "cng            3\n",
      "Name: fuel_type, dtype: int64\n",
      "1     4015\n",
      "2     1185\n",
      "3      173\n",
      "--      69\n",
      "4       37\n",
      "Name: owners, dtype: int64\n",
      "Mumbai            757\n",
      "Bangalore         619\n",
      "Ahmedabad         559\n",
      "Hyderabad         544\n",
      "Kolkata           504\n",
      "Gurgaon           437\n",
      "Jaipur            407\n",
      "Noida             201\n",
      "Chennai           189\n",
      "Assam             163\n",
      "Kerala            162\n",
      "Bihar             162\n",
      "Andhra Pradesh    162\n",
      "Pune              154\n",
      "Rajasthan         153\n",
      "Uttar Pradesh     126\n",
      "Chandigarh         90\n",
      "Madhya Pradesh     72\n",
      "Maharashtra        18\n",
      "Name: location, dtype: int64\n"
     ]
    }
   ],
   "source": [
    "for i in frame[['brand','model','variant','manufactured_year','fuel_type','owners','location']].columns:\n",
    "    print(frame[i].value_counts())"
   ]
  },
  {
   "cell_type": "code",
   "execution_count": 50,
   "id": "b8e7a4bb",
   "metadata": {},
   "outputs": [
    {
     "name": "stderr",
     "output_type": "stream",
     "text": [
      "<ipython-input-50-a012db7736a1>:1: FutureWarning: The default value of regex will change from True to False in a future version.\n",
      "  frame['manufactured_year']=frame['manufactured_year'].str.replace('1.2','')\n",
      "<ipython-input-50-a012db7736a1>:3: FutureWarning: The default value of regex will change from True to False in a future version.\n",
      "  frame['manufactured_year']=frame['manufactured_year'].str.replace('2012.0','2012')\n",
      "<ipython-input-50-a012db7736a1>:4: FutureWarning: The default value of regex will change from True to False in a future version.\n",
      "  frame['manufactured_year']=frame['manufactured_year'].str.replace('2015.0','2015')\n",
      "<ipython-input-50-a012db7736a1>:5: FutureWarning: The default value of regex will change from True to False in a future version.\n",
      "  frame['manufactured_year']=frame['manufactured_year'].str.replace('2016.0','2016')\n"
     ]
    }
   ],
   "source": [
    "frame['manufactured_year']=frame['manufactured_year'].str.replace('1.2','')\n",
    "frame['manufactured_year']=frame['manufactured_year'].str.replace('unknown','')\n",
    "frame['manufactured_year']=frame['manufactured_year'].str.replace('2012.0','2012')\n",
    "frame['manufactured_year']=frame['manufactured_year'].str.replace('2015.0','2015')\n",
    "frame['manufactured_year']=frame['manufactured_year'].str.replace('2016.0','2016')"
   ]
  },
  {
   "cell_type": "code",
   "execution_count": 51,
   "id": "dce0615e",
   "metadata": {},
   "outputs": [
    {
     "data": {
      "text/plain": [
       "array(['2016', '2020', '2019', '2014', '2018', '2017', '2015', '2011',\n",
       "       '2013', '2012', '2010', '2009', '2007', '2006', '2021', '2005',\n",
       "       '2008', '2000', '2004', '1989', '1997', '2001', '1996', '1992',\n",
       "       '2002', '2003', '', '1985', '1990', '1994', '1999', '1998', '1993',\n",
       "       '1995'], dtype=object)"
      ]
     },
     "execution_count": 51,
     "metadata": {},
     "output_type": "execute_result"
    }
   ],
   "source": [
    "frame['manufactured_year'].unique()"
   ]
  },
  {
   "cell_type": "code",
   "execution_count": 52,
   "id": "f3724fe7",
   "metadata": {},
   "outputs": [],
   "source": [
    "frame.replace('',np.nan,inplace=True)"
   ]
  },
  {
   "cell_type": "code",
   "execution_count": 53,
   "id": "39e4b028",
   "metadata": {},
   "outputs": [
    {
     "data": {
      "text/plain": [
       "brand                 0\n",
       "model                 0\n",
       "variant               0\n",
       "manufactured_year    15\n",
       "kilometers_driven     0\n",
       "fuel_type             0\n",
       "owners                0\n",
       "location              0\n",
       "price                 0\n",
       "dtype: int64"
      ]
     },
     "execution_count": 53,
     "metadata": {},
     "output_type": "execute_result"
    }
   ],
   "source": [
    "frame.isnull().sum()"
   ]
  },
  {
   "cell_type": "markdown",
   "id": "95927879",
   "metadata": {},
   "source": [
    "Imputing missing manufactured year data"
   ]
  },
  {
   "cell_type": "code",
   "execution_count": 54,
   "id": "ed82836d",
   "metadata": {},
   "outputs": [],
   "source": [
    "imputer = SimpleImputer(missing_values = np.nan, \n",
    "                        strategy ='most_frequent')"
   ]
  },
  {
   "cell_type": "code",
   "execution_count": 55,
   "id": "fb438ff3",
   "metadata": {},
   "outputs": [],
   "source": [
    "imputer = imputer.fit(frame)\n",
    "  \n",
    "# Imputing the data     \n",
    "new_frame = pd.DataFrame(imputer.transform(frame),columns = frame.columns)"
   ]
  },
  {
   "cell_type": "code",
   "execution_count": 56,
   "id": "966e9ce0",
   "metadata": {},
   "outputs": [
    {
     "data": {
      "text/html": [
       "<div>\n",
       "<style scoped>\n",
       "    .dataframe tbody tr th:only-of-type {\n",
       "        vertical-align: middle;\n",
       "    }\n",
       "\n",
       "    .dataframe tbody tr th {\n",
       "        vertical-align: top;\n",
       "    }\n",
       "\n",
       "    .dataframe thead th {\n",
       "        text-align: right;\n",
       "    }\n",
       "</style>\n",
       "<table border=\"1\" class=\"dataframe\">\n",
       "  <thead>\n",
       "    <tr style=\"text-align: right;\">\n",
       "      <th></th>\n",
       "      <th>brand</th>\n",
       "      <th>model</th>\n",
       "      <th>variant</th>\n",
       "      <th>manufactured_year</th>\n",
       "      <th>kilometers_driven</th>\n",
       "      <th>fuel_type</th>\n",
       "      <th>owners</th>\n",
       "      <th>location</th>\n",
       "      <th>price</th>\n",
       "    </tr>\n",
       "  </thead>\n",
       "  <tbody>\n",
       "    <tr>\n",
       "      <th>0</th>\n",
       "      <td>Maruti</td>\n",
       "      <td>Eeco</td>\n",
       "      <td>5 Seater AC BSIV</td>\n",
       "      <td>2016</td>\n",
       "      <td>45347</td>\n",
       "      <td>petrol</td>\n",
       "      <td>1</td>\n",
       "      <td>Ahmedabad</td>\n",
       "      <td>3.745</td>\n",
       "    </tr>\n",
       "    <tr>\n",
       "      <th>1</th>\n",
       "      <td>Maruti</td>\n",
       "      <td>Eeco</td>\n",
       "      <td>5 Seater AC</td>\n",
       "      <td>2020</td>\n",
       "      <td>17116</td>\n",
       "      <td>petrol</td>\n",
       "      <td>1</td>\n",
       "      <td>Ahmedabad</td>\n",
       "      <td>4.745</td>\n",
       "    </tr>\n",
       "    <tr>\n",
       "      <th>2</th>\n",
       "      <td>Maruti</td>\n",
       "      <td>Swift Dzire</td>\n",
       "      <td>VXI 1.2</td>\n",
       "      <td>2019</td>\n",
       "      <td>11935</td>\n",
       "      <td>petrol</td>\n",
       "      <td>1</td>\n",
       "      <td>Ahmedabad</td>\n",
       "      <td>6.910</td>\n",
       "    </tr>\n",
       "    <tr>\n",
       "      <th>3</th>\n",
       "      <td>Maruti</td>\n",
       "      <td>Wagon R</td>\n",
       "      <td>VXI</td>\n",
       "      <td>2014</td>\n",
       "      <td>131125</td>\n",
       "      <td>petrol</td>\n",
       "      <td>1</td>\n",
       "      <td>Ahmedabad</td>\n",
       "      <td>3.095</td>\n",
       "    </tr>\n",
       "    <tr>\n",
       "      <th>4</th>\n",
       "      <td>Maruti</td>\n",
       "      <td>Wagon R</td>\n",
       "      <td>VXI</td>\n",
       "      <td>2014</td>\n",
       "      <td>42381</td>\n",
       "      <td>petrol</td>\n",
       "      <td>1</td>\n",
       "      <td>Ahmedabad</td>\n",
       "      <td>3.610</td>\n",
       "    </tr>\n",
       "    <tr>\n",
       "      <th>...</th>\n",
       "      <td>...</td>\n",
       "      <td>...</td>\n",
       "      <td>...</td>\n",
       "      <td>...</td>\n",
       "      <td>...</td>\n",
       "      <td>...</td>\n",
       "      <td>...</td>\n",
       "      <td>...</td>\n",
       "      <td>...</td>\n",
       "    </tr>\n",
       "    <tr>\n",
       "      <th>5474</th>\n",
       "      <td>Honda</td>\n",
       "      <td>City</td>\n",
       "      <td>i-VTEC S</td>\n",
       "      <td>2011</td>\n",
       "      <td>77500</td>\n",
       "      <td>petrol</td>\n",
       "      <td>1</td>\n",
       "      <td>Chandigarh</td>\n",
       "      <td>3.350</td>\n",
       "    </tr>\n",
       "    <tr>\n",
       "      <th>5475</th>\n",
       "      <td>Honda</td>\n",
       "      <td>WR-V</td>\n",
       "      <td>Honda WR-V Edge Edition i-DTEC S</td>\n",
       "      <td>2019</td>\n",
       "      <td>29856</td>\n",
       "      <td>petrol</td>\n",
       "      <td>1</td>\n",
       "      <td>Chandigarh</td>\n",
       "      <td>7.250</td>\n",
       "    </tr>\n",
       "    <tr>\n",
       "      <th>5476</th>\n",
       "      <td>Honda</td>\n",
       "      <td>Brio</td>\n",
       "      <td>1.2 S MT</td>\n",
       "      <td>2013</td>\n",
       "      <td>20600</td>\n",
       "      <td>petrol</td>\n",
       "      <td>1</td>\n",
       "      <td>Chandigarh</td>\n",
       "      <td>3.200</td>\n",
       "    </tr>\n",
       "    <tr>\n",
       "      <th>5477</th>\n",
       "      <td>Honda</td>\n",
       "      <td>City</td>\n",
       "      <td>2008-2011 1.5 V MT</td>\n",
       "      <td>2011</td>\n",
       "      <td>58000</td>\n",
       "      <td>petrol</td>\n",
       "      <td>1</td>\n",
       "      <td>Chandigarh</td>\n",
       "      <td>3.350</td>\n",
       "    </tr>\n",
       "    <tr>\n",
       "      <th>5478</th>\n",
       "      <td>Honda</td>\n",
       "      <td>City ZX</td>\n",
       "      <td>GXi</td>\n",
       "      <td>2008</td>\n",
       "      <td>15</td>\n",
       "      <td>petrol</td>\n",
       "      <td>2</td>\n",
       "      <td>Chandigarh</td>\n",
       "      <td>1.550</td>\n",
       "    </tr>\n",
       "  </tbody>\n",
       "</table>\n",
       "<p>5479 rows × 9 columns</p>\n",
       "</div>"
      ],
      "text/plain": [
       "       brand        model                           variant manufactured_year  \\\n",
       "0     Maruti         Eeco                  5 Seater AC BSIV              2016   \n",
       "1     Maruti         Eeco                       5 Seater AC              2020   \n",
       "2     Maruti  Swift Dzire                           VXI 1.2              2019   \n",
       "3     Maruti      Wagon R                               VXI              2014   \n",
       "4     Maruti      Wagon R                               VXI              2014   \n",
       "...      ...          ...                               ...               ...   \n",
       "5474   Honda         City                          i-VTEC S              2011   \n",
       "5475   Honda         WR-V  Honda WR-V Edge Edition i-DTEC S              2019   \n",
       "5476   Honda         Brio                          1.2 S MT              2013   \n",
       "5477   Honda         City                2008-2011 1.5 V MT              2011   \n",
       "5478   Honda      City ZX                               GXi              2008   \n",
       "\n",
       "      kilometers_driven fuel_type owners    location  price  \n",
       "0                 45347    petrol      1   Ahmedabad  3.745  \n",
       "1                 17116    petrol      1   Ahmedabad  4.745  \n",
       "2                 11935    petrol      1   Ahmedabad  6.910  \n",
       "3                131125    petrol      1   Ahmedabad  3.095  \n",
       "4                 42381    petrol      1   Ahmedabad  3.610  \n",
       "...                 ...       ...    ...         ...    ...  \n",
       "5474              77500    petrol      1  Chandigarh  3.350  \n",
       "5475              29856    petrol      1  Chandigarh  7.250  \n",
       "5476              20600    petrol      1  Chandigarh  3.200  \n",
       "5477              58000    petrol      1  Chandigarh  3.350  \n",
       "5478                 15    petrol      2  Chandigarh  1.550  \n",
       "\n",
       "[5479 rows x 9 columns]"
      ]
     },
     "execution_count": 56,
     "metadata": {},
     "output_type": "execute_result"
    }
   ],
   "source": [
    "frame"
   ]
  },
  {
   "cell_type": "code",
   "execution_count": 57,
   "id": "4782ba7d",
   "metadata": {},
   "outputs": [
    {
     "data": {
      "text/plain": [
       "array(['2016', '2020', '2019', '2014', '2018', '2017', '2015', '2011',\n",
       "       '2013', '2012', '2010', '2009', '2007', '2006', '2021', '2005',\n",
       "       '2008', '2000', '2004', '1989', '1997', '2001', '1996', '1992',\n",
       "       '2002', '2003', '1985', '1990', '1994', '1999', '1998', '1993',\n",
       "       '1995'], dtype=object)"
      ]
     },
     "execution_count": 57,
     "metadata": {},
     "output_type": "execute_result"
    }
   ],
   "source": [
    "new_frame['manufactured_year'].unique()"
   ]
  },
  {
   "cell_type": "code",
   "execution_count": 58,
   "id": "9a41a166",
   "metadata": {},
   "outputs": [
    {
     "data": {
      "text/html": [
       "<div>\n",
       "<style scoped>\n",
       "    .dataframe tbody tr th:only-of-type {\n",
       "        vertical-align: middle;\n",
       "    }\n",
       "\n",
       "    .dataframe tbody tr th {\n",
       "        vertical-align: top;\n",
       "    }\n",
       "\n",
       "    .dataframe thead th {\n",
       "        text-align: right;\n",
       "    }\n",
       "</style>\n",
       "<table border=\"1\" class=\"dataframe\">\n",
       "  <thead>\n",
       "    <tr style=\"text-align: right;\">\n",
       "      <th></th>\n",
       "      <th>brand</th>\n",
       "      <th>model</th>\n",
       "      <th>variant</th>\n",
       "      <th>manufactured_year</th>\n",
       "      <th>kilometers_driven</th>\n",
       "      <th>fuel_type</th>\n",
       "      <th>owners</th>\n",
       "      <th>location</th>\n",
       "      <th>price</th>\n",
       "      <th>age_of_car</th>\n",
       "    </tr>\n",
       "  </thead>\n",
       "  <tbody>\n",
       "    <tr>\n",
       "      <th>0</th>\n",
       "      <td>Maruti</td>\n",
       "      <td>Eeco</td>\n",
       "      <td>5 Seater AC BSIV</td>\n",
       "      <td>2016</td>\n",
       "      <td>45347</td>\n",
       "      <td>petrol</td>\n",
       "      <td>1</td>\n",
       "      <td>Ahmedabad</td>\n",
       "      <td>3.745</td>\n",
       "      <td>5</td>\n",
       "    </tr>\n",
       "    <tr>\n",
       "      <th>1</th>\n",
       "      <td>Maruti</td>\n",
       "      <td>Eeco</td>\n",
       "      <td>5 Seater AC</td>\n",
       "      <td>2020</td>\n",
       "      <td>17116</td>\n",
       "      <td>petrol</td>\n",
       "      <td>1</td>\n",
       "      <td>Ahmedabad</td>\n",
       "      <td>4.745</td>\n",
       "      <td>1</td>\n",
       "    </tr>\n",
       "    <tr>\n",
       "      <th>2</th>\n",
       "      <td>Maruti</td>\n",
       "      <td>Swift Dzire</td>\n",
       "      <td>VXI 1.2</td>\n",
       "      <td>2019</td>\n",
       "      <td>11935</td>\n",
       "      <td>petrol</td>\n",
       "      <td>1</td>\n",
       "      <td>Ahmedabad</td>\n",
       "      <td>6.91</td>\n",
       "      <td>2</td>\n",
       "    </tr>\n",
       "    <tr>\n",
       "      <th>3</th>\n",
       "      <td>Maruti</td>\n",
       "      <td>Wagon R</td>\n",
       "      <td>VXI</td>\n",
       "      <td>2014</td>\n",
       "      <td>131125</td>\n",
       "      <td>petrol</td>\n",
       "      <td>1</td>\n",
       "      <td>Ahmedabad</td>\n",
       "      <td>3.095</td>\n",
       "      <td>7</td>\n",
       "    </tr>\n",
       "    <tr>\n",
       "      <th>4</th>\n",
       "      <td>Maruti</td>\n",
       "      <td>Wagon R</td>\n",
       "      <td>VXI</td>\n",
       "      <td>2014</td>\n",
       "      <td>42381</td>\n",
       "      <td>petrol</td>\n",
       "      <td>1</td>\n",
       "      <td>Ahmedabad</td>\n",
       "      <td>3.61</td>\n",
       "      <td>7</td>\n",
       "    </tr>\n",
       "    <tr>\n",
       "      <th>...</th>\n",
       "      <td>...</td>\n",
       "      <td>...</td>\n",
       "      <td>...</td>\n",
       "      <td>...</td>\n",
       "      <td>...</td>\n",
       "      <td>...</td>\n",
       "      <td>...</td>\n",
       "      <td>...</td>\n",
       "      <td>...</td>\n",
       "      <td>...</td>\n",
       "    </tr>\n",
       "    <tr>\n",
       "      <th>5474</th>\n",
       "      <td>Honda</td>\n",
       "      <td>City</td>\n",
       "      <td>i-VTEC S</td>\n",
       "      <td>2011</td>\n",
       "      <td>77500</td>\n",
       "      <td>petrol</td>\n",
       "      <td>1</td>\n",
       "      <td>Chandigarh</td>\n",
       "      <td>3.35</td>\n",
       "      <td>10</td>\n",
       "    </tr>\n",
       "    <tr>\n",
       "      <th>5475</th>\n",
       "      <td>Honda</td>\n",
       "      <td>WR-V</td>\n",
       "      <td>Honda WR-V Edge Edition i-DTEC S</td>\n",
       "      <td>2019</td>\n",
       "      <td>29856</td>\n",
       "      <td>petrol</td>\n",
       "      <td>1</td>\n",
       "      <td>Chandigarh</td>\n",
       "      <td>7.25</td>\n",
       "      <td>2</td>\n",
       "    </tr>\n",
       "    <tr>\n",
       "      <th>5476</th>\n",
       "      <td>Honda</td>\n",
       "      <td>Brio</td>\n",
       "      <td>1.2 S MT</td>\n",
       "      <td>2013</td>\n",
       "      <td>20600</td>\n",
       "      <td>petrol</td>\n",
       "      <td>1</td>\n",
       "      <td>Chandigarh</td>\n",
       "      <td>3.2</td>\n",
       "      <td>8</td>\n",
       "    </tr>\n",
       "    <tr>\n",
       "      <th>5477</th>\n",
       "      <td>Honda</td>\n",
       "      <td>City</td>\n",
       "      <td>2008-2011 1.5 V MT</td>\n",
       "      <td>2011</td>\n",
       "      <td>58000</td>\n",
       "      <td>petrol</td>\n",
       "      <td>1</td>\n",
       "      <td>Chandigarh</td>\n",
       "      <td>3.35</td>\n",
       "      <td>10</td>\n",
       "    </tr>\n",
       "    <tr>\n",
       "      <th>5478</th>\n",
       "      <td>Honda</td>\n",
       "      <td>City ZX</td>\n",
       "      <td>GXi</td>\n",
       "      <td>2008</td>\n",
       "      <td>15</td>\n",
       "      <td>petrol</td>\n",
       "      <td>2</td>\n",
       "      <td>Chandigarh</td>\n",
       "      <td>1.55</td>\n",
       "      <td>13</td>\n",
       "    </tr>\n",
       "  </tbody>\n",
       "</table>\n",
       "<p>5479 rows × 10 columns</p>\n",
       "</div>"
      ],
      "text/plain": [
       "       brand        model                           variant manufactured_year  \\\n",
       "0     Maruti         Eeco                  5 Seater AC BSIV              2016   \n",
       "1     Maruti         Eeco                       5 Seater AC              2020   \n",
       "2     Maruti  Swift Dzire                           VXI 1.2              2019   \n",
       "3     Maruti      Wagon R                               VXI              2014   \n",
       "4     Maruti      Wagon R                               VXI              2014   \n",
       "...      ...          ...                               ...               ...   \n",
       "5474   Honda         City                          i-VTEC S              2011   \n",
       "5475   Honda         WR-V  Honda WR-V Edge Edition i-DTEC S              2019   \n",
       "5476   Honda         Brio                          1.2 S MT              2013   \n",
       "5477   Honda         City                2008-2011 1.5 V MT              2011   \n",
       "5478   Honda      City ZX                               GXi              2008   \n",
       "\n",
       "     kilometers_driven fuel_type owners    location  price  age_of_car  \n",
       "0                45347    petrol      1   Ahmedabad  3.745           5  \n",
       "1                17116    petrol      1   Ahmedabad  4.745           1  \n",
       "2                11935    petrol      1   Ahmedabad   6.91           2  \n",
       "3               131125    petrol      1   Ahmedabad  3.095           7  \n",
       "4                42381    petrol      1   Ahmedabad   3.61           7  \n",
       "...                ...       ...    ...         ...    ...         ...  \n",
       "5474             77500    petrol      1  Chandigarh   3.35          10  \n",
       "5475             29856    petrol      1  Chandigarh   7.25           2  \n",
       "5476             20600    petrol      1  Chandigarh    3.2           8  \n",
       "5477             58000    petrol      1  Chandigarh   3.35          10  \n",
       "5478                15    petrol      2  Chandigarh   1.55          13  \n",
       "\n",
       "[5479 rows x 10 columns]"
      ]
     },
     "execution_count": 58,
     "metadata": {},
     "output_type": "execute_result"
    }
   ],
   "source": [
    "new_frame['age_of_car'] = new_frame['manufactured_year'].apply(lambda x: 2021 - int(x))\n",
    "new_frame"
   ]
  },
  {
   "cell_type": "markdown",
   "id": "3aeaaca3",
   "metadata": {},
   "source": [
    "# Data Visualization"
   ]
  },
  {
   "cell_type": "code",
   "execution_count": 59,
   "id": "18ce205e",
   "metadata": {},
   "outputs": [
    {
     "data": {
      "image/png": "[encoded data removed]",
      "text/plain": [
       "<Figure size 1584x360 with 1 Axes>"
      ]
     },
     "metadata": {
      "needs_background": "light"
     },
     "output_type": "display_data"
    }
   ],
   "source": [
    "plt.figure(figsize=(22,5))\n",
    "sns.countplot(x='brand',data=new_frame)\n",
    "plt.xticks(rotation=90)\n",
    "plt.show()"
   ]
  },
  {
   "cell_type": "markdown",
   "id": "6792b705",
   "metadata": {},
   "source": [
    "Observations:\n",
    "1. Most number of cars in the dataset are from the brand Hyundai.\n",
    "2. Some of the Brands show up only once."
   ]
  },
  {
   "cell_type": "code",
   "execution_count": 60,
   "id": "61d4018b",
   "metadata": {},
   "outputs": [
    {
     "data": {
      "image/png": "[encoded data removed]",
      "text/plain": [
       "<Figure size 1584x360 with 1 Axes>"
      ]
     },
     "metadata": {
      "needs_background": "light"
     },
     "output_type": "display_data"
    }
   ],
   "source": [
    "plt.figure(figsize=(22,5))\n",
    "sns.boxplot(x='brand',y='price',data=new_frame)\n",
    "plt.xticks(rotation=90)\n",
    "plt.show()"
   ]
  },
  {
   "cell_type": "markdown",
   "id": "70cedb3a",
   "metadata": {},
   "source": [
    "Observations:\n",
    "1. Lexus has many costly cars.\n",
    "2. The most costliest car in the dataset belongs to Mercedes-Benz."
   ]
  },
  {
   "cell_type": "code",
   "execution_count": 61,
   "id": "dcfdfe1b",
   "metadata": {},
   "outputs": [
    {
     "data": {
      "image/png": "[encoded data removed]",
      "text/plain": [
       "<Figure size 1440x720 with 1 Axes>"
      ]
     },
     "metadata": {
      "needs_background": "light"
     },
     "output_type": "display_data"
    }
   ],
   "source": [
    "plt.figure(figsize=(20,10))\n",
    "sns.countplot(x='age_of_car',data=new_frame)\n",
    "plt.xticks(rotation=90)\n",
    "plt.show()"
   ]
  },
  {
   "cell_type": "markdown",
   "id": "1cc67bdc",
   "metadata": {},
   "source": [
    "Observations:\n",
    "1. Most of the cars are 4 years old in the dataset.\n",
    "2. A large part of the cars in the dataset are between 3 and 10 years old."
   ]
  },
  {
   "cell_type": "code",
   "execution_count": 62,
   "id": "253f1f1f",
   "metadata": {},
   "outputs": [
    {
     "data": {
      "image/png": "[encoded data removed]",
      "text/plain": [
       "<Figure size 1440x720 with 1 Axes>"
      ]
     },
     "metadata": {
      "needs_background": "light"
     },
     "output_type": "display_data"
    }
   ],
   "source": [
    "plt.figure(figsize=(20,10))\n",
    "sns.boxplot(x='age_of_car',y='price',data=new_frame)\n",
    "plt.xticks(rotation=90)\n",
    "plt.show()"
   ]
  },
  {
   "cell_type": "markdown",
   "id": "d0b072a4",
   "metadata": {},
   "source": [
    "Observations:\n",
    "1. We can see that the price is faling as the age of the car increases."
   ]
  },
  {
   "cell_type": "code",
   "execution_count": 63,
   "id": "ff73e7d8",
   "metadata": {},
   "outputs": [
    {
     "data": {
      "image/png": "[encoded data removed]",
      "text/plain": [
       "<Figure size 720x576 with 1 Axes>"
      ]
     },
     "metadata": {
      "needs_background": "light"
     },
     "output_type": "display_data"
    }
   ],
   "source": [
    "plt.figure(figsize=(10,8))\n",
    "sns.countplot(x='fuel_type',data=new_frame)\n",
    "plt.xticks(rotation=90)\n",
    "plt.show()"
   ]
  },
  {
   "cell_type": "markdown",
   "id": "8d244df6",
   "metadata": {},
   "source": [
    "Observations:\n",
    "1. Most of the cars are either petrol or diesel."
   ]
  },
  {
   "cell_type": "code",
   "execution_count": 64,
   "id": "ad49b744",
   "metadata": {},
   "outputs": [
    {
     "data": {
      "image/png": "[encoded data removed]",
      "text/plain": [
       "<Figure size 720x576 with 1 Axes>"
      ]
     },
     "metadata": {
      "needs_background": "light"
     },
     "output_type": "display_data"
    }
   ],
   "source": [
    "plt.figure(figsize=(10,8))\n",
    "sns.boxplot(x='fuel_type',y='price',data=new_frame)\n",
    "plt.xticks(rotation=90)\n",
    "plt.show()"
   ]
  },
  {
   "cell_type": "markdown",
   "id": "515ab504",
   "metadata": {},
   "source": [
    "Observations:\n",
    "1. The costliest cars seem to be of petrol type.\n",
    "2. Overall, the diesel cars seem to be costlier than petrol cars as the median price of diesel cars is higher than the median price of petrol cars."
   ]
  },
  {
   "cell_type": "code",
   "execution_count": 65,
   "id": "c311d7f2",
   "metadata": {},
   "outputs": [
    {
     "data": {
      "image/png": "[encoded data removed]",
      "text/plain": [
       "<Figure size 720x576 with 1 Axes>"
      ]
     },
     "metadata": {
      "needs_background": "light"
     },
     "output_type": "display_data"
    }
   ],
   "source": [
    "plt.figure(figsize=(10,8))\n",
    "sns.countplot(x='owners',data=new_frame)\n",
    "plt.xticks(rotation=90)\n",
    "plt.show()"
   ]
  },
  {
   "cell_type": "code",
   "execution_count": 66,
   "id": "9b678130",
   "metadata": {},
   "outputs": [
    {
     "data": {
      "image/png": "[encoded data removed]",
      "text/plain": [
       "<Figure size 720x576 with 1 Axes>"
      ]
     },
     "metadata": {
      "needs_background": "light"
     },
     "output_type": "display_data"
    }
   ],
   "source": [
    "plt.figure(figsize=(10,8))\n",
    "sns.boxplot(x='owners',y='price',data=new_frame)\n",
    "plt.xticks(rotation=90)\n",
    "plt.show()"
   ]
  },
  {
   "cell_type": "markdown",
   "id": "b1c28091",
   "metadata": {},
   "source": [
    "Observations:\n",
    "1. The trend clearly shows that, the price of the car decreases as the number of previous owner increase."
   ]
  },
  {
   "cell_type": "code",
   "execution_count": 67,
   "id": "7cd6e490",
   "metadata": {},
   "outputs": [
    {
     "data": {
      "image/png": "[encoded data removed]",
      "text/plain": [
       "<Figure size 720x576 with 1 Axes>"
      ]
     },
     "metadata": {
      "needs_background": "light"
     },
     "output_type": "display_data"
    }
   ],
   "source": [
    "plt.figure(figsize=(10,8))\n",
    "sns.countplot(x='location',data=new_frame)\n",
    "plt.xticks(rotation=90)\n",
    "plt.show()"
   ]
  },
  {
   "cell_type": "markdown",
   "id": "edfaa7fd",
   "metadata": {},
   "source": [
    "Observations:\n",
    "1. Most of the cars in the dataset are from Mumbai and the least number of cars is from Maharashtra."
   ]
  },
  {
   "cell_type": "code",
   "execution_count": 68,
   "id": "dd969584",
   "metadata": {},
   "outputs": [
    {
     "data": {
      "image/png": "[encoded data removed]",
      "text/plain": [
       "<Figure size 720x576 with 1 Axes>"
      ]
     },
     "metadata": {
      "needs_background": "light"
     },
     "output_type": "display_data"
    }
   ],
   "source": [
    "plt.figure(figsize=(10,8))\n",
    "sns.boxplot(x='location',y='price',data=new_frame)\n",
    "plt.xticks(rotation=90)\n",
    "plt.show()"
   ]
  },
  {
   "cell_type": "markdown",
   "id": "494902e3",
   "metadata": {},
   "source": [
    "Observations:\n",
    "1. The costliest cars are from Mumbai and Hyderabad.\n",
    "2. However, most cars in Banglore and Mumbai seem to be the costly ones."
   ]
  },
  {
   "cell_type": "markdown",
   "id": "d86a0869",
   "metadata": {},
   "source": [
    "# Feature Selection"
   ]
  },
  {
   "cell_type": "code",
   "execution_count": 119,
   "id": "5b3ec001",
   "metadata": {},
   "outputs": [
    {
     "data": {
      "text/plain": [
       "Index(['brand', 'model', 'variant', 'manufactured_year', 'kilometers_driven',\n",
       "       'fuel_type', 'owners', 'location', 'price', 'age_of_car'],\n",
       "      dtype='object')"
      ]
     },
     "execution_count": 119,
     "metadata": {},
     "output_type": "execute_result"
    }
   ],
   "source": [
    "new_frame.columns"
   ]
  },
  {
   "cell_type": "code",
   "execution_count": 120,
   "id": "197a8f61",
   "metadata": {},
   "outputs": [],
   "source": [
    "x = new_frame.drop(['manufactured_year','price'],axis=1)\n",
    "y = new_frame['price']"
   ]
  },
  {
   "cell_type": "code",
   "execution_count": 121,
   "id": "ce7ec260",
   "metadata": {},
   "outputs": [
    {
     "data": {
      "text/html": [
       "<div>\n",
       "<style scoped>\n",
       "    .dataframe tbody tr th:only-of-type {\n",
       "        vertical-align: middle;\n",
       "    }\n",
       "\n",
       "    .dataframe tbody tr th {\n",
       "        vertical-align: top;\n",
       "    }\n",
       "\n",
       "    .dataframe thead th {\n",
       "        text-align: right;\n",
       "    }\n",
       "</style>\n",
       "<table border=\"1\" class=\"dataframe\">\n",
       "  <thead>\n",
       "    <tr style=\"text-align: right;\">\n",
       "      <th></th>\n",
       "      <th>brand</th>\n",
       "      <th>model</th>\n",
       "      <th>variant</th>\n",
       "      <th>kilometers_driven</th>\n",
       "      <th>fuel_type</th>\n",
       "      <th>owners</th>\n",
       "      <th>location</th>\n",
       "      <th>age_of_car</th>\n",
       "    </tr>\n",
       "  </thead>\n",
       "  <tbody>\n",
       "    <tr>\n",
       "      <th>0</th>\n",
       "      <td>Maruti</td>\n",
       "      <td>Eeco</td>\n",
       "      <td>5 Seater AC BSIV</td>\n",
       "      <td>45347</td>\n",
       "      <td>petrol</td>\n",
       "      <td>1</td>\n",
       "      <td>Ahmedabad</td>\n",
       "      <td>5</td>\n",
       "    </tr>\n",
       "    <tr>\n",
       "      <th>1</th>\n",
       "      <td>Maruti</td>\n",
       "      <td>Eeco</td>\n",
       "      <td>5 Seater AC</td>\n",
       "      <td>17116</td>\n",
       "      <td>petrol</td>\n",
       "      <td>1</td>\n",
       "      <td>Ahmedabad</td>\n",
       "      <td>1</td>\n",
       "    </tr>\n",
       "    <tr>\n",
       "      <th>2</th>\n",
       "      <td>Maruti</td>\n",
       "      <td>Swift Dzire</td>\n",
       "      <td>VXI 1.2</td>\n",
       "      <td>11935</td>\n",
       "      <td>petrol</td>\n",
       "      <td>1</td>\n",
       "      <td>Ahmedabad</td>\n",
       "      <td>2</td>\n",
       "    </tr>\n",
       "    <tr>\n",
       "      <th>3</th>\n",
       "      <td>Maruti</td>\n",
       "      <td>Wagon R</td>\n",
       "      <td>VXI</td>\n",
       "      <td>131125</td>\n",
       "      <td>petrol</td>\n",
       "      <td>1</td>\n",
       "      <td>Ahmedabad</td>\n",
       "      <td>7</td>\n",
       "    </tr>\n",
       "    <tr>\n",
       "      <th>4</th>\n",
       "      <td>Maruti</td>\n",
       "      <td>Wagon R</td>\n",
       "      <td>VXI</td>\n",
       "      <td>42381</td>\n",
       "      <td>petrol</td>\n",
       "      <td>1</td>\n",
       "      <td>Ahmedabad</td>\n",
       "      <td>7</td>\n",
       "    </tr>\n",
       "    <tr>\n",
       "      <th>...</th>\n",
       "      <td>...</td>\n",
       "      <td>...</td>\n",
       "      <td>...</td>\n",
       "      <td>...</td>\n",
       "      <td>...</td>\n",
       "      <td>...</td>\n",
       "      <td>...</td>\n",
       "      <td>...</td>\n",
       "    </tr>\n",
       "    <tr>\n",
       "      <th>5474</th>\n",
       "      <td>Honda</td>\n",
       "      <td>City</td>\n",
       "      <td>i-VTEC S</td>\n",
       "      <td>77500</td>\n",
       "      <td>petrol</td>\n",
       "      <td>1</td>\n",
       "      <td>Chandigarh</td>\n",
       "      <td>10</td>\n",
       "    </tr>\n",
       "    <tr>\n",
       "      <th>5475</th>\n",
       "      <td>Honda</td>\n",
       "      <td>WR-V</td>\n",
       "      <td>Honda WR-V Edge Edition i-DTEC S</td>\n",
       "      <td>29856</td>\n",
       "      <td>petrol</td>\n",
       "      <td>1</td>\n",
       "      <td>Chandigarh</td>\n",
       "      <td>2</td>\n",
       "    </tr>\n",
       "    <tr>\n",
       "      <th>5476</th>\n",
       "      <td>Honda</td>\n",
       "      <td>Brio</td>\n",
       "      <td>1.2 S MT</td>\n",
       "      <td>20600</td>\n",
       "      <td>petrol</td>\n",
       "      <td>1</td>\n",
       "      <td>Chandigarh</td>\n",
       "      <td>8</td>\n",
       "    </tr>\n",
       "    <tr>\n",
       "      <th>5477</th>\n",
       "      <td>Honda</td>\n",
       "      <td>City</td>\n",
       "      <td>2008-2011 1.5 V MT</td>\n",
       "      <td>58000</td>\n",
       "      <td>petrol</td>\n",
       "      <td>1</td>\n",
       "      <td>Chandigarh</td>\n",
       "      <td>10</td>\n",
       "    </tr>\n",
       "    <tr>\n",
       "      <th>5478</th>\n",
       "      <td>Honda</td>\n",
       "      <td>City ZX</td>\n",
       "      <td>GXi</td>\n",
       "      <td>15</td>\n",
       "      <td>petrol</td>\n",
       "      <td>2</td>\n",
       "      <td>Chandigarh</td>\n",
       "      <td>13</td>\n",
       "    </tr>\n",
       "  </tbody>\n",
       "</table>\n",
       "<p>5479 rows × 8 columns</p>\n",
       "</div>"
      ],
      "text/plain": [
       "       brand        model                           variant kilometers_driven  \\\n",
       "0     Maruti         Eeco                  5 Seater AC BSIV             45347   \n",
       "1     Maruti         Eeco                       5 Seater AC             17116   \n",
       "2     Maruti  Swift Dzire                           VXI 1.2             11935   \n",
       "3     Maruti      Wagon R                               VXI            131125   \n",
       "4     Maruti      Wagon R                               VXI             42381   \n",
       "...      ...          ...                               ...               ...   \n",
       "5474   Honda         City                          i-VTEC S             77500   \n",
       "5475   Honda         WR-V  Honda WR-V Edge Edition i-DTEC S             29856   \n",
       "5476   Honda         Brio                          1.2 S MT             20600   \n",
       "5477   Honda         City                2008-2011 1.5 V MT             58000   \n",
       "5478   Honda      City ZX                               GXi                15   \n",
       "\n",
       "     fuel_type owners    location  age_of_car  \n",
       "0       petrol      1   Ahmedabad           5  \n",
       "1       petrol      1   Ahmedabad           1  \n",
       "2       petrol      1   Ahmedabad           2  \n",
       "3       petrol      1   Ahmedabad           7  \n",
       "4       petrol      1   Ahmedabad           7  \n",
       "...        ...    ...         ...         ...  \n",
       "5474    petrol      1  Chandigarh          10  \n",
       "5475    petrol      1  Chandigarh           2  \n",
       "5476    petrol      1  Chandigarh           8  \n",
       "5477    petrol      1  Chandigarh          10  \n",
       "5478    petrol      2  Chandigarh          13  \n",
       "\n",
       "[5479 rows x 8 columns]"
      ]
     },
     "execution_count": 121,
     "metadata": {},
     "output_type": "execute_result"
    }
   ],
   "source": [
    "x"
   ]
  },
  {
   "cell_type": "code",
   "execution_count": 122,
   "id": "1e8c4d00",
   "metadata": {},
   "outputs": [
    {
     "data": {
      "text/plain": [
       "0       3.745\n",
       "1       4.745\n",
       "2        6.91\n",
       "3       3.095\n",
       "4        3.61\n",
       "        ...  \n",
       "5474     3.35\n",
       "5475     7.25\n",
       "5476      3.2\n",
       "5477     3.35\n",
       "5478     1.55\n",
       "Name: price, Length: 5479, dtype: object"
      ]
     },
     "execution_count": 122,
     "metadata": {},
     "output_type": "execute_result"
    }
   ],
   "source": [
    "y"
   ]
  },
  {
   "cell_type": "markdown",
   "id": "7ee6dd37",
   "metadata": {},
   "source": [
    "# Encoding data"
   ]
  },
  {
   "cell_type": "code",
   "execution_count": 72,
   "id": "a7256b20",
   "metadata": {},
   "outputs": [],
   "source": [
    "from sklearn.preprocessing import OneHotEncoder"
   ]
  },
  {
   "cell_type": "code",
   "execution_count": 73,
   "id": "79236616",
   "metadata": {},
   "outputs": [],
   "source": [
    "x['brand'] = x['brand'].astype('str')\n",
    "x['model'] = x['model'].astype('str')\n",
    "x['variant'] = x['variant'].astype('str')\n",
    "x['fuel_type'] = x['fuel_type'].astype('str')\n",
    "x['owners'] = x['owners'].astype('str')\n",
    "x['location'] = x['location'].astype('str')"
   ]
  },
  {
   "cell_type": "code",
   "execution_count": 74,
   "id": "6f703af6",
   "metadata": {},
   "outputs": [],
   "source": [
    "from sklearn.model_selection import train_test_split\n",
    "X_train, X_test, y_train, y_test = train_test_split(x, y, test_size = 0.2, random_state = 42)"
   ]
  },
  {
   "cell_type": "code",
   "execution_count": 75,
   "id": "98037851",
   "metadata": {},
   "outputs": [],
   "source": [
    "ohe = OneHotEncoder(categories='auto',handle_unknown = 'ignore',sparse=False)\n",
    "sparse_ohe = OneHotEncoder(categories='auto',handle_unknown = 'ignore')"
   ]
  },
  {
   "cell_type": "code",
   "execution_count": 76,
   "id": "4b4be3fc",
   "metadata": {},
   "outputs": [
    {
     "name": "stdout",
     "output_type": "stream",
     "text": [
      "<class 'pandas.core.frame.DataFrame'>\n",
      "Int64Index: 4383 entries, 2572 to 860\n",
      "Data columns (total 8 columns):\n",
      " #   Column             Non-Null Count  Dtype \n",
      "---  ------             --------------  ----- \n",
      " 0   brand              4383 non-null   object\n",
      " 1   model              4383 non-null   object\n",
      " 2   variant            4383 non-null   object\n",
      " 3   kilometers_driven  4383 non-null   object\n",
      " 4   fuel_type          4383 non-null   object\n",
      " 5   owners             4383 non-null   object\n",
      " 6   location           4383 non-null   object\n",
      " 7   age_of_car         4383 non-null   int64 \n",
      "dtypes: int64(1), object(7)\n",
      "memory usage: 308.2+ KB\n"
     ]
    }
   ],
   "source": [
    "X_train.info()"
   ]
  },
  {
   "cell_type": "code",
   "execution_count": 77,
   "id": "10476686",
   "metadata": {},
   "outputs": [],
   "source": [
    "x_train_enc = ohe.fit_transform(X_train)"
   ]
  },
  {
   "cell_type": "code",
   "execution_count": 78,
   "id": "af8375ed",
   "metadata": {},
   "outputs": [],
   "source": [
    "x_test_enc = ohe.transform(X_test)"
   ]
  },
  {
   "cell_type": "markdown",
   "id": "53dc7f9c",
   "metadata": {},
   "source": [
    "# Scaling the data"
   ]
  },
  {
   "cell_type": "code",
   "execution_count": 79,
   "id": "3c548276",
   "metadata": {},
   "outputs": [],
   "source": [
    "from sklearn.preprocessing import StandardScaler,MinMaxScaler\n",
    "#sc = StandardScaler()\n",
    "sc = MinMaxScaler()\n",
    "x_train_sc = sc.fit_transform(x_train_enc)\n",
    "x_test_sc = sc.transform(x_test_enc)"
   ]
  },
  {
   "cell_type": "markdown",
   "id": "bd1f11cc",
   "metadata": {},
   "source": [
    "# Feature Importance"
   ]
  },
  {
   "cell_type": "markdown",
   "id": "323a13e1",
   "metadata": {},
   "source": [
    "Using get_dummies method from pandas to encode the data just to see which features have more importance"
   ]
  },
  {
   "cell_type": "code",
   "execution_count": 229,
   "id": "e72fbb36",
   "metadata": {},
   "outputs": [
    {
     "data": {
      "text/plain": [
       "ExtraTreesRegressor()"
      ]
     },
     "execution_count": 229,
     "metadata": {},
     "output_type": "execute_result"
    }
   ],
   "source": [
    "from sklearn.ensemble import ExtraTreesRegressor\n",
    "model = ExtraTreesRegressor()\n",
    "x_enc = pd.get_dummies(x)\n",
    "model.fit(x_enc,y)"
   ]
  },
  {
   "cell_type": "code",
   "execution_count": 230,
   "id": "fd03ba3e",
   "metadata": {},
   "outputs": [],
   "source": [
    "feat_imp = pd.DataFrame({'Features':x_enc.columns, 'Feature_Importance':model.feature_importances_})"
   ]
  },
  {
   "cell_type": "code",
   "execution_count": 237,
   "id": "1f7680e7",
   "metadata": {},
   "outputs": [
    {
     "data": {
      "text/html": [
       "<div>\n",
       "<style scoped>\n",
       "    .dataframe tbody tr th:only-of-type {\n",
       "        vertical-align: middle;\n",
       "    }\n",
       "\n",
       "    .dataframe tbody tr th {\n",
       "        vertical-align: top;\n",
       "    }\n",
       "\n",
       "    .dataframe thead th {\n",
       "        text-align: right;\n",
       "    }\n",
       "</style>\n",
       "<table border=\"1\" class=\"dataframe\">\n",
       "  <thead>\n",
       "    <tr style=\"text-align: right;\">\n",
       "      <th></th>\n",
       "      <th>Features</th>\n",
       "      <th>Feature_Importance</th>\n",
       "    </tr>\n",
       "  </thead>\n",
       "  <tbody>\n",
       "    <tr>\n",
       "      <th>0</th>\n",
       "      <td>age_of_car</td>\n",
       "      <td>0.121186</td>\n",
       "    </tr>\n",
       "    <tr>\n",
       "      <th>40</th>\n",
       "      <td>brand_Porsche</td>\n",
       "      <td>0.105144</td>\n",
       "    </tr>\n",
       "    <tr>\n",
       "      <th>23</th>\n",
       "      <td>brand_Land-Rover</td>\n",
       "      <td>0.061792</td>\n",
       "    </tr>\n",
       "    <tr>\n",
       "      <th>2</th>\n",
       "      <td>brand_BMW</td>\n",
       "      <td>0.059612</td>\n",
       "    </tr>\n",
       "    <tr>\n",
       "      <th>33</th>\n",
       "      <td>brand_Mercedes-Benz</td>\n",
       "      <td>0.058551</td>\n",
       "    </tr>\n",
       "    <tr>\n",
       "      <th>1</th>\n",
       "      <td>brand_Audi</td>\n",
       "      <td>0.053405</td>\n",
       "    </tr>\n",
       "    <tr>\n",
       "      <th>18</th>\n",
       "      <td>brand_Jaguar</td>\n",
       "      <td>0.042707</td>\n",
       "    </tr>\n",
       "    <tr>\n",
       "      <th>50</th>\n",
       "      <td>brand_Volvo</td>\n",
       "      <td>0.039641</td>\n",
       "    </tr>\n",
       "    <tr>\n",
       "      <th>1129</th>\n",
       "      <td>variant_500h Ultra Luxury</td>\n",
       "      <td>0.033112</td>\n",
       "    </tr>\n",
       "    <tr>\n",
       "      <th>218</th>\n",
       "      <td>model_LS</td>\n",
       "      <td>0.028207</td>\n",
       "    </tr>\n",
       "    <tr>\n",
       "      <th>1718</th>\n",
       "      <td>variant_S450 4Matic</td>\n",
       "      <td>0.025767</td>\n",
       "    </tr>\n",
       "    <tr>\n",
       "      <th>2113</th>\n",
       "      <td>kilometers_driven_400</td>\n",
       "      <td>0.020261</td>\n",
       "    </tr>\n",
       "    <tr>\n",
       "      <th>34</th>\n",
       "      <td>brand_Mini</td>\n",
       "      <td>0.018003</td>\n",
       "    </tr>\n",
       "    <tr>\n",
       "      <th>220</th>\n",
       "      <td>model_Land Cruiser</td>\n",
       "      <td>0.017091</td>\n",
       "    </tr>\n",
       "    <tr>\n",
       "      <th>3</th>\n",
       "      <td>brand_Bentley</td>\n",
       "      <td>0.015857</td>\n",
       "    </tr>\n",
       "    <tr>\n",
       "      <th>153</th>\n",
       "      <td>model_Endeavour</td>\n",
       "      <td>0.014913</td>\n",
       "    </tr>\n",
       "    <tr>\n",
       "      <th>134</th>\n",
       "      <td>model_Continental</td>\n",
       "      <td>0.014062</td>\n",
       "    </tr>\n",
       "    <tr>\n",
       "      <th>171</th>\n",
       "      <td>model_Fortuner</td>\n",
       "      <td>0.011851</td>\n",
       "    </tr>\n",
       "    <tr>\n",
       "      <th>20</th>\n",
       "      <td>brand_Jeep</td>\n",
       "      <td>0.008850</td>\n",
       "    </tr>\n",
       "    <tr>\n",
       "      <th>56</th>\n",
       "      <td>model_ Freelander 2</td>\n",
       "      <td>0.008456</td>\n",
       "    </tr>\n",
       "    <tr>\n",
       "      <th>206</th>\n",
       "      <td>model_Innova Crysta</td>\n",
       "      <td>0.007681</td>\n",
       "    </tr>\n",
       "    <tr>\n",
       "      <th>3728</th>\n",
       "      <td>owners_--</td>\n",
       "      <td>0.006967</td>\n",
       "    </tr>\n",
       "    <tr>\n",
       "      <th>223</th>\n",
       "      <td>model_Levante</td>\n",
       "      <td>0.006411</td>\n",
       "    </tr>\n",
       "    <tr>\n",
       "      <th>32</th>\n",
       "      <td>brand_Maserati</td>\n",
       "      <td>0.006028</td>\n",
       "    </tr>\n",
       "    <tr>\n",
       "      <th>1354</th>\n",
       "      <td>variant_Diesel BSIV</td>\n",
       "      <td>0.005892</td>\n",
       "    </tr>\n",
       "    <tr>\n",
       "      <th>25</th>\n",
       "      <td>brand_MG</td>\n",
       "      <td>0.005511</td>\n",
       "    </tr>\n",
       "    <tr>\n",
       "      <th>22</th>\n",
       "      <td>brand_Kia</td>\n",
       "      <td>0.005344</td>\n",
       "    </tr>\n",
       "    <tr>\n",
       "      <th>1103</th>\n",
       "      <td>variant_43 AMG Coupe</td>\n",
       "      <td>0.005157</td>\n",
       "    </tr>\n",
       "    <tr>\n",
       "      <th>3722</th>\n",
       "      <td>fuel_type_diesel</td>\n",
       "      <td>0.005101</td>\n",
       "    </tr>\n",
       "    <tr>\n",
       "      <th>176</th>\n",
       "      <td>model_GLE Class</td>\n",
       "      <td>0.004974</td>\n",
       "    </tr>\n",
       "  </tbody>\n",
       "</table>\n",
       "</div>"
      ],
      "text/plain": [
       "                       Features  Feature_Importance\n",
       "0                    age_of_car            0.121186\n",
       "40                brand_Porsche            0.105144\n",
       "23             brand_Land-Rover            0.061792\n",
       "2                     brand_BMW            0.059612\n",
       "33          brand_Mercedes-Benz            0.058551\n",
       "1                    brand_Audi            0.053405\n",
       "18                 brand_Jaguar            0.042707\n",
       "50                  brand_Volvo            0.039641\n",
       "1129  variant_500h Ultra Luxury            0.033112\n",
       "218                    model_LS            0.028207\n",
       "1718        variant_S450 4Matic            0.025767\n",
       "2113      kilometers_driven_400            0.020261\n",
       "34                   brand_Mini            0.018003\n",
       "220          model_Land Cruiser            0.017091\n",
       "3                 brand_Bentley            0.015857\n",
       "153             model_Endeavour            0.014913\n",
       "134           model_Continental            0.014062\n",
       "171              model_Fortuner            0.011851\n",
       "20                   brand_Jeep            0.008850\n",
       "56          model_ Freelander 2            0.008456\n",
       "206         model_Innova Crysta            0.007681\n",
       "3728                  owners_--            0.006967\n",
       "223               model_Levante            0.006411\n",
       "32               brand_Maserati            0.006028\n",
       "1354        variant_Diesel BSIV            0.005892\n",
       "25                     brand_MG            0.005511\n",
       "22                    brand_Kia            0.005344\n",
       "1103       variant_43 AMG Coupe            0.005157\n",
       "3722           fuel_type_diesel            0.005101\n",
       "176             model_GLE Class            0.004974"
      ]
     },
     "execution_count": 237,
     "metadata": {},
     "output_type": "execute_result"
    }
   ],
   "source": [
    "feat_imp.sort_values(by=['Feature_Importance'], ascending = False)[:30]"
   ]
  },
  {
   "cell_type": "markdown",
   "id": "749b4670",
   "metadata": {},
   "source": [
    "Observations:\n",
    "1. The top 30 features show that all the original features have a part in the prediction."
   ]
  },
  {
   "cell_type": "markdown",
   "id": "af47cdf7",
   "metadata": {},
   "source": [
    "# Dimensionality Reduction"
   ]
  },
  {
   "cell_type": "code",
   "execution_count": 83,
   "id": "a111007e",
   "metadata": {},
   "outputs": [],
   "source": [
    "from sklearn.decomposition import PCA"
   ]
  },
  {
   "cell_type": "code",
   "execution_count": 84,
   "id": "0a0ab58e",
   "metadata": {},
   "outputs": [
    {
     "data": {
      "text/plain": [
       "3403"
      ]
     },
     "execution_count": 84,
     "metadata": {},
     "output_type": "execute_result"
    }
   ],
   "source": [
    "pca = PCA().fit(x_train_sc)\n",
    "len(pca.explained_variance_ratio_)"
   ]
  },
  {
   "cell_type": "code",
   "execution_count": 85,
   "id": "16db3ae7",
   "metadata": {},
   "outputs": [
    {
     "data": {
      "image/png": "[encoded data removed]",
      "text/plain": [
       "<Figure size 864x432 with 1 Axes>"
      ]
     },
     "metadata": {
      "needs_background": "light"
     },
     "output_type": "display_data"
    }
   ],
   "source": [
    "import matplotlib.pyplot as plt\n",
    "plt.rcParams[\"figure.figsize\"] = (12,6)\n",
    "\n",
    "fig, ax = plt.subplots()\n",
    "xi = np.arange(1, 3404, step=1)\n",
    "y = np.cumsum(pca.explained_variance_ratio_)\n",
    "\n",
    "plt.ylim(0.0,1.1)\n",
    "plt.plot(xi, y, marker='o', linestyle='--', color='b')\n",
    "\n",
    "plt.xlabel('Number of Components')\n",
    "plt.xticks(np.arange(0, 3403, step=250)) #change from 0-based array index to 1-based human-readable label\n",
    "plt.ylabel('Cumulative variance (%)')\n",
    "plt.title('The number of components needed to explain variance')\n",
    "\n",
    "plt.axhline(y=0.95, color='r', linestyle='-')\n",
    "plt.text(0.5, 0.90, '95% cut-off threshold', color = 'red', fontsize=16)\n",
    "\n",
    "plt.axhline(y=0.99, color='r', linestyle='-')\n",
    "plt.text(0.5, 1, '99% cut-off threshold', color = 'red', fontsize=16)\n",
    "\n",
    "\n",
    "ax.grid(axis='x')\n",
    "plt.show()"
   ]
  },
  {
   "cell_type": "code",
   "execution_count": 86,
   "id": "f809c796",
   "metadata": {},
   "outputs": [],
   "source": [
    "from sklearn.decomposition import PCA\n",
    "pca_95 = PCA(n_components = 0.95)\n",
    "pca_99 = PCA(n_components = 0.99)\n",
    "pca_95.fit(x_train_sc)\n",
    "x_train_sc_reduced_95 = pca_95.transform(x_train_sc)\n",
    "x_test_sc_reduced_95 = pca_95.transform(x_test_sc)\n",
    "pca_99.fit(x_train_sc)\n",
    "x_train_sc_reduced_99 = pca_99.transform(x_train_sc)\n",
    "x_test_sc_reduced_99 = pca_99.transform(x_test_sc)"
   ]
  },
  {
   "cell_type": "code",
   "execution_count": 87,
   "id": "f7f2238e",
   "metadata": {},
   "outputs": [
    {
     "name": "stdout",
     "output_type": "stream",
     "text": [
      "Original number of features in encoded input:  3403\n",
      "Reduced number of features after applying PCA with 95% explained variance:  1252\n",
      "Reduced number of features after applying PCA with 99% explained variance:  2180\n"
     ]
    }
   ],
   "source": [
    "print(\"Original number of features in encoded input: \",len(x_train_enc[0]))\n",
    "print(\"Reduced number of features after applying PCA with 95% explained variance: \",len(x_train_sc_reduced_95[0]))\n",
    "print(\"Reduced number of features after applying PCA with 99% explained variance: \",len(x_train_sc_reduced_99[0]))"
   ]
  },
  {
   "cell_type": "markdown",
   "id": "9e4175a6",
   "metadata": {},
   "source": [
    "# Model selection"
   ]
  },
  {
   "cell_type": "code",
   "execution_count": 88,
   "id": "2470692e",
   "metadata": {},
   "outputs": [],
   "source": [
    "from sklearn.linear_model import LinearRegression, Ridge\n",
    "from sklearn.tree import DecisionTreeRegressor\n",
    "from sklearn.svm import SVR\n",
    "from sklearn.metrics import mean_squared_error, r2_score"
   ]
  },
  {
   "cell_type": "markdown",
   "id": "0a3b0a39",
   "metadata": {},
   "source": [
    "Model selection using reduced data with 95% of Explained Variance"
   ]
  },
  {
   "cell_type": "code",
   "execution_count": 114,
   "id": "84c0d4f5",
   "metadata": {},
   "outputs": [
    {
     "name": "stdout",
     "output_type": "stream",
     "text": [
      "LinearRegression\n",
      "Training scores:\n",
      "MSE:  13.524643746228008\n",
      "RMSE:  3.6775866741965455\n",
      "R2 score: 0.918260965055182\n",
      "--------------------\n",
      "Testing scores:\n",
      "MSE:  18.257968613396073\n",
      "RMSE:  4.272934426526585\n",
      "R2 score: 0.8836510474216409\n",
      "====================\n",
      "\n",
      "\n",
      "Ridge\n",
      "Training scores:\n",
      "MSE:  14.972869564663487\n",
      "RMSE:  3.8694792368823334\n",
      "R2 score: 0.9095083070922614\n",
      "--------------------\n",
      "Testing scores:\n",
      "MSE:  18.741107240654\n",
      "RMSE:  4.329100049739437\n",
      "R2 score: 0.8805722452601363\n",
      "====================\n",
      "\n",
      "\n",
      "DecisionTreeRegressor\n",
      "Training scores:\n",
      "MSE:  0.005076718944585138\n",
      "RMSE:  0.07125109784827977\n",
      "R2 score: 0.9999693177790852\n",
      "--------------------\n",
      "Testing scores:\n",
      "MSE:  41.93429705532694\n",
      "RMSE:  6.475669622156996\n",
      "R2 score: 0.73277358271296\n",
      "====================\n",
      "\n",
      "\n",
      "SVR\n",
      "Training scores:\n",
      "MSE:  104.3080161745111\n",
      "RMSE:  10.213129597459885\n",
      "R2 score: 0.3695925202103084\n",
      "--------------------\n",
      "Testing scores:\n",
      "MSE:  99.5216300215241\n",
      "RMSE:  9.976052827723203\n",
      "R2 score: 0.365798153284178\n",
      "====================\n",
      "\n",
      "\n"
     ]
    }
   ],
   "source": [
    "models = [LinearRegression(),Ridge(), DecisionTreeRegressor(), SVR()]\n",
    "for model in models:\n",
    "    model.fit(x_train_sc_reduced_95, y_train)\n",
    "    y_train_pred = model.predict(x_train_sc_reduced_95)\n",
    "    y_test_pred = model.predict(x_test_sc_reduced_95)\n",
    "    print(model.__class__.__name__)\n",
    "    print(\"Training scores:\")\n",
    "    print(\"MSE: \",mean_squared_error(y_train, y_train_pred))\n",
    "    print(\"RMSE: \",mean_squared_error(y_train, y_train_pred, squared=False))\n",
    "    print(\"R2 score:\",r2_score(y_train, y_train_pred))\n",
    "    print(\"-\"*20)\n",
    "    print(\"Testing scores:\")\n",
    "    print(\"MSE: \",mean_squared_error(y_test, y_test_pred))\n",
    "    print(\"RMSE: \",mean_squared_error(y_test, y_test_pred, squared=False))\n",
    "    print(\"R2 score:\",r2_score(y_test, y_test_pred))\n",
    "    print(\"=\"*20)\n",
    "    print(\"\\n\")"
   ]
  },
  {
   "cell_type": "markdown",
   "id": "46fa850a",
   "metadata": {},
   "source": [
    "Model selection using reduced data with 99% of Explained Variance"
   ]
  },
  {
   "cell_type": "code",
   "execution_count": 115,
   "id": "6702e891",
   "metadata": {},
   "outputs": [
    {
     "name": "stdout",
     "output_type": "stream",
     "text": [
      "LinearRegression\n",
      "Training scores:\n",
      "MSE:  8.46641010345727\n",
      "RMSE:  2.909709625281751\n",
      "R2 score: 0.9488314661525438\n",
      "--------------------\n",
      "Testing scores:\n",
      "MSE:  16.145820593229907\n",
      "RMSE:  4.018186231775465\n",
      "R2 score: 0.8971107161854749\n",
      "====================\n",
      "\n",
      "\n",
      "Ridge\n",
      "Training scores:\n",
      "MSE:  10.817382285084625\n",
      "RMSE:  3.28897891222863\n",
      "R2 score: 0.934622870280144\n",
      "--------------------\n",
      "Testing scores:\n",
      "MSE:  16.20006661925694\n",
      "RMSE:  4.024930635334843\n",
      "R2 score: 0.8967650332432251\n",
      "====================\n",
      "\n",
      "\n",
      "DecisionTreeRegressor\n",
      "Training scores:\n",
      "MSE:  0.0025645733515970762\n",
      "RMSE:  0.05064161679485635\n",
      "R2 score: 0.9999845004604382\n",
      "--------------------\n",
      "Testing scores:\n",
      "MSE:  44.09887028186501\n",
      "RMSE:  6.640698026703594\n",
      "R2 score: 0.7189798341848745\n",
      "====================\n",
      "\n",
      "\n",
      "SVR\n",
      "Training scores:\n",
      "MSE:  105.11422048214345\n",
      "RMSE:  10.252522639923477\n",
      "R2 score: 0.3647200545608822\n",
      "--------------------\n",
      "Testing scores:\n",
      "MSE:  100.39945102254676\n",
      "RMSE:  10.01995264572377\n",
      "R2 score: 0.360204236667116\n",
      "====================\n",
      "\n",
      "\n"
     ]
    }
   ],
   "source": [
    "models = [LinearRegression(),Ridge(), DecisionTreeRegressor(), SVR()]\n",
    "for model in models:\n",
    "    model.fit(x_train_sc_reduced_99, y_train)\n",
    "    y_train_pred = model.predict(x_train_sc_reduced_99)\n",
    "    y_test_pred = model.predict(x_test_sc_reduced_99)\n",
    "    print(model.__class__.__name__)\n",
    "    print(\"Training scores:\")\n",
    "    print(\"MSE: \",mean_squared_error(y_train, y_train_pred))\n",
    "    print(\"RMSE: \",mean_squared_error(y_train, y_train_pred, squared=False))\n",
    "    print(\"R2 score:\",r2_score(y_train, y_train_pred))\n",
    "    print(\"-\"*20)\n",
    "    print(\"Testing scores:\")\n",
    "    print(\"MSE: \",mean_squared_error(y_test, y_test_pred))\n",
    "    print(\"RMSE: \",mean_squared_error(y_test, y_test_pred, squared=False))\n",
    "    print(\"R2 score:\",r2_score(y_test, y_test_pred))\n",
    "    print(\"=\"*20)\n",
    "    print(\"\\n\")"
   ]
  },
  {
   "cell_type": "markdown",
   "id": "6a4db346",
   "metadata": {},
   "source": [
    "Ensemble Algorithms"
   ]
  },
  {
   "cell_type": "code",
   "execution_count": 117,
   "id": "3bc3b515",
   "metadata": {},
   "outputs": [],
   "source": [
    "from sklearn.ensemble import RandomForestRegressor, AdaBoostRegressor, GradientBoostingRegressor"
   ]
  },
  {
   "cell_type": "markdown",
   "id": "573a2517",
   "metadata": {},
   "source": [
    "Ensemble model selection using reduced data with 95% of Explained Variance"
   ]
  },
  {
   "cell_type": "code",
   "execution_count": 118,
   "id": "7c98914a",
   "metadata": {},
   "outputs": [
    {
     "name": "stdout",
     "output_type": "stream",
     "text": [
      "RandomForestRegressor\n",
      "Training scores:\n",
      "MSE:  6.9282167140412065\n",
      "RMSE:  2.6321505872653272\n",
      "R2 score: 0.958127862092321\n",
      "--------------------\n",
      "Testing scores:\n",
      "MSE:  21.970910294337266\n",
      "RMSE:  4.68731376102958\n",
      "R2 score: 0.8599903168820409\n",
      "====================\n",
      "\n",
      "\n",
      "AdaBoostRegressor\n",
      "Training scores:\n",
      "MSE:  252.79765706732348\n",
      "RMSE:  15.89961185272532\n",
      "R2 score: -0.5278359203182024\n",
      "--------------------\n",
      "Testing scores:\n",
      "MSE:  255.92058648903082\n",
      "RMSE:  15.997518135293076\n",
      "R2 score: -0.6308546044597232\n",
      "====================\n",
      "\n",
      "\n",
      "GradientBoostingRegressor\n",
      "Training scores:\n",
      "MSE:  17.911630980169637\n",
      "RMSE:  4.232213484711001\n",
      "R2 score: 0.8917472831019967\n",
      "--------------------\n",
      "Testing scores:\n",
      "MSE:  28.798147640792454\n",
      "RMSE:  5.366390559844899\n",
      "R2 score: 0.8164837290965246\n",
      "====================\n",
      "\n",
      "\n"
     ]
    }
   ],
   "source": [
    "models = [RandomForestRegressor(),AdaBoostRegressor(), GradientBoostingRegressor()]\n",
    "for model in models:\n",
    "    model.fit(x_train_sc_reduced_95, y_train)\n",
    "    y_train_pred = model.predict(x_train_sc_reduced_95)\n",
    "    y_test_pred = model.predict(x_test_sc_reduced_95)\n",
    "    print(model.__class__.__name__)\n",
    "    print(\"Training scores:\")\n",
    "    print(\"MSE: \",mean_squared_error(y_train, y_train_pred))\n",
    "    print(\"RMSE: \",mean_squared_error(y_train, y_train_pred, squared=False))\n",
    "    print(\"R2 score:\",r2_score(y_train, y_train_pred))\n",
    "    print(\"-\"*20)\n",
    "    print(\"Testing scores:\")\n",
    "    print(\"MSE: \",mean_squared_error(y_test, y_test_pred))\n",
    "    print(\"RMSE: \",mean_squared_error(y_test, y_test_pred, squared=False))\n",
    "    print(\"R2 score:\",r2_score(y_test, y_test_pred))\n",
    "    print(\"=\"*20)\n",
    "    print(\"\\n\")"
   ]
  },
  {
   "cell_type": "markdown",
   "id": "bbe416f3",
   "metadata": {},
   "source": [
    "Ensemble model selection using reduced data with 99% of Explained Variance"
   ]
  },
  {
   "cell_type": "code",
   "execution_count": 119,
   "id": "463b7b11",
   "metadata": {},
   "outputs": [
    {
     "name": "stdout",
     "output_type": "stream",
     "text": [
      "RandomForestRegressor\n",
      "Training scores:\n",
      "MSE:  5.9628178997817605\n",
      "RMSE:  2.441888183308515\n",
      "R2 score: 0.9639624532945068\n",
      "--------------------\n",
      "Testing scores:\n",
      "MSE:  22.88702390190118\n",
      "RMSE:  4.784038451131134\n",
      "R2 score: 0.8541523805299848\n",
      "====================\n",
      "\n",
      "\n",
      "AdaBoostRegressor\n",
      "Training scores:\n",
      "MSE:  256.5334208405245\n",
      "RMSE:  16.016660726896994\n",
      "R2 score: -0.5504137960340363\n",
      "--------------------\n",
      "Testing scores:\n",
      "MSE:  262.81625024283153\n",
      "RMSE:  16.21160850263883\n",
      "R2 score: -0.6747972397044024\n",
      "====================\n",
      "\n",
      "\n",
      "GradientBoostingRegressor\n",
      "Training scores:\n",
      "MSE:  18.199201173251137\n",
      "RMSE:  4.266052176573926\n",
      "R2 score: 0.89000929203159\n",
      "--------------------\n",
      "Testing scores:\n",
      "MSE:  28.97676471294226\n",
      "RMSE:  5.383007032592681\n",
      "R2 score: 0.8153454913386836\n",
      "====================\n",
      "\n",
      "\n"
     ]
    }
   ],
   "source": [
    "models = [RandomForestRegressor(),AdaBoostRegressor(), GradientBoostingRegressor()]\n",
    "for model in models:\n",
    "    model.fit(x_train_sc_reduced_99, y_train)\n",
    "    y_train_pred = model.predict(x_train_sc_reduced_99)\n",
    "    y_test_pred = model.predict(x_test_sc_reduced_99)\n",
    "    print(model.__class__.__name__)\n",
    "    print(\"Training scores:\")\n",
    "    print(\"MSE: \",mean_squared_error(y_train, y_train_pred))\n",
    "    print(\"RMSE: \",mean_squared_error(y_train, y_train_pred, squared=False))\n",
    "    print(\"R2 score:\",r2_score(y_train, y_train_pred))\n",
    "    print(\"-\"*20)\n",
    "    print(\"Testing scores:\")\n",
    "    print(\"MSE: \",mean_squared_error(y_test, y_test_pred))\n",
    "    print(\"RMSE: \",mean_squared_error(y_test, y_test_pred, squared=False))\n",
    "    print(\"R2 score:\",r2_score(y_test, y_test_pred))\n",
    "    print(\"=\"*20)\n",
    "    print(\"\\n\")"
   ]
  },
  {
   "cell_type": "markdown",
   "id": "82b47e2d",
   "metadata": {},
   "source": [
    "Observations:\n",
    "1. Ridge model and RandomForestRegressor models are giving good results.\n",
    "2. Deduced data with 99% explained variance is giving a better result than 95%."
   ]
  },
  {
   "cell_type": "markdown",
   "id": "943054e5",
   "metadata": {},
   "source": [
    "# Hyperparameter tuning"
   ]
  },
  {
   "cell_type": "code",
   "execution_count": 89,
   "id": "23c71b36",
   "metadata": {},
   "outputs": [],
   "source": [
    "#Find the best parameter value by Randomized Search CV because Ramdomized searc CV is faster than GridSearchCV\n",
    "from sklearn.model_selection import RandomizedSearchCV"
   ]
  },
  {
   "cell_type": "markdown",
   "id": "47c252df",
   "metadata": {},
   "source": [
    "Hyperparameter tuning Ridge Model"
   ]
  },
  {
   "cell_type": "code",
   "execution_count": 121,
   "id": "57929c53",
   "metadata": {},
   "outputs": [],
   "source": [
    "alpha = np.arange(0,1,0.01)\n",
    "ridge_grid = {'alpha':alpha}\n",
    "rdg = Ridge()\n",
    "rdg_randomSearch_95 = RandomizedSearchCV(estimator = rdg, param_distributions = ridge_grid, scoring = 'r2', n_iter = 100, cv = 5, verbose = 10, random_state = 42, n_jobs = -1)\n",
    "rdg_randomSearch_99 = RandomizedSearchCV(estimator = rdg, param_distributions = ridge_grid, scoring = 'r2', n_iter = 100, cv = 5, verbose = 10, random_state = 42, n_jobs = -1)"
   ]
  },
  {
   "cell_type": "code",
   "execution_count": 122,
   "id": "a0c40d54",
   "metadata": {},
   "outputs": [
    {
     "name": "stdout",
     "output_type": "stream",
     "text": [
      "Fitting 5 folds for each of 100 candidates, totalling 500 fits\n"
     ]
    },
    {
     "data": {
      "text/plain": [
       "RandomizedSearchCV(cv=5, estimator=Ridge(), n_iter=100, n_jobs=-1,\n",
       "                   param_distributions={'alpha': array([0.  , 0.01, 0.02, 0.03, 0.04, 0.05, 0.06, 0.07, 0.08, 0.09, 0.1 ,\n",
       "       0.11, 0.12, 0.13, 0.14, 0.15, 0.16, 0.17, 0.18, 0.19, 0.2 , 0.21,\n",
       "       0.22, 0.23, 0.24, 0.25, 0.26, 0.27, 0.28, 0.29, 0.3 , 0.31, 0.32,\n",
       "       0.33, 0.34, 0.35, 0.36, 0.37, 0.38, 0.39, 0.4 , 0.41, 0.42, 0.43,\n",
       "       0.44, 0.45, 0.46, 0.47, 0.48, 0.49, 0.5 , 0.51, 0.52, 0.53, 0.54,\n",
       "       0.55, 0.56, 0.57, 0.58, 0.59, 0.6 , 0.61, 0.62, 0.63, 0.64, 0.65,\n",
       "       0.66, 0.67, 0.68, 0.69, 0.7 , 0.71, 0.72, 0.73, 0.74, 0.75, 0.76,\n",
       "       0.77, 0.78, 0.79, 0.8 , 0.81, 0.82, 0.83, 0.84, 0.85, 0.86, 0.87,\n",
       "       0.88, 0.89, 0.9 , 0.91, 0.92, 0.93, 0.94, 0.95, 0.96, 0.97, 0.98,\n",
       "       0.99])},\n",
       "                   random_state=42, scoring='r2', verbose=10)"
      ]
     },
     "execution_count": 122,
     "metadata": {},
     "output_type": "execute_result"
    }
   ],
   "source": [
    "rdg_randomSearch_95.fit(x_train_sc_reduced_95, y_train)"
   ]
  },
  {
   "cell_type": "code",
   "execution_count": 123,
   "id": "94f606b1",
   "metadata": {},
   "outputs": [
    {
     "name": "stdout",
     "output_type": "stream",
     "text": [
      "Fitting 5 folds for each of 100 candidates, totalling 500 fits\n"
     ]
    },
    {
     "data": {
      "text/plain": [
       "RandomizedSearchCV(cv=5, estimator=Ridge(), n_iter=100, n_jobs=-1,\n",
       "                   param_distributions={'alpha': array([0.  , 0.01, 0.02, 0.03, 0.04, 0.05, 0.06, 0.07, 0.08, 0.09, 0.1 ,\n",
       "       0.11, 0.12, 0.13, 0.14, 0.15, 0.16, 0.17, 0.18, 0.19, 0.2 , 0.21,\n",
       "       0.22, 0.23, 0.24, 0.25, 0.26, 0.27, 0.28, 0.29, 0.3 , 0.31, 0.32,\n",
       "       0.33, 0.34, 0.35, 0.36, 0.37, 0.38, 0.39, 0.4 , 0.41, 0.42, 0.43,\n",
       "       0.44, 0.45, 0.46, 0.47, 0.48, 0.49, 0.5 , 0.51, 0.52, 0.53, 0.54,\n",
       "       0.55, 0.56, 0.57, 0.58, 0.59, 0.6 , 0.61, 0.62, 0.63, 0.64, 0.65,\n",
       "       0.66, 0.67, 0.68, 0.69, 0.7 , 0.71, 0.72, 0.73, 0.74, 0.75, 0.76,\n",
       "       0.77, 0.78, 0.79, 0.8 , 0.81, 0.82, 0.83, 0.84, 0.85, 0.86, 0.87,\n",
       "       0.88, 0.89, 0.9 , 0.91, 0.92, 0.93, 0.94, 0.95, 0.96, 0.97, 0.98,\n",
       "       0.99])},\n",
       "                   random_state=42, scoring='r2', verbose=10)"
      ]
     },
     "execution_count": 123,
     "metadata": {},
     "output_type": "execute_result"
    }
   ],
   "source": [
    "rdg_randomSearch_99.fit(x_train_sc_reduced_99, y_train)"
   ]
  },
  {
   "cell_type": "code",
   "execution_count": 133,
   "id": "43ec0128",
   "metadata": {},
   "outputs": [
    {
     "name": "stdout",
     "output_type": "stream",
     "text": [
      "The best R2 score for PCA with 95% of explained variance in data is:  0.7681478613987307\n",
      "The best R2 score for PCA with 99% of explained variance in data is:  0.7797923159211104\n"
     ]
    }
   ],
   "source": [
    "print(\"The best R2 score for PCA with 95% of explained variance in data is: \",rdg_randomSearch_95.best_score_)\n",
    "print(\"The best R2 score for PCA with 99% of explained variance in data is: \",rdg_randomSearch_99.best_score_)"
   ]
  },
  {
   "cell_type": "code",
   "execution_count": 134,
   "id": "12c07ee1",
   "metadata": {},
   "outputs": [
    {
     "name": "stdout",
     "output_type": "stream",
     "text": [
      "The best parameters for PCA with 95% of explained variance in data is:  {'alpha': 0.99}\n",
      "The best parameters for PCA with 99% of explained variance in data is:  {'alpha': 0.99}\n"
     ]
    }
   ],
   "source": [
    "print(\"The best parameters for PCA with 95% of explained variance in data is: \",rdg_randomSearch_95.best_params_)\n",
    "print(\"The best parameters for PCA with 99% of explained variance in data is: \",rdg_randomSearch_99.best_params_)"
   ]
  },
  {
   "cell_type": "code",
   "execution_count": 126,
   "id": "bb59f079",
   "metadata": {},
   "outputs": [],
   "source": [
    "rdg_predictions_95 = rdg_randomSearch_95.predict(x_test_sc_reduced_95)\n",
    "rdg_predictions_99 = rdg_randomSearch_99.predict(x_test_sc_reduced_99)"
   ]
  },
  {
   "cell_type": "code",
   "execution_count": 127,
   "id": "4c18f510",
   "metadata": {},
   "outputs": [
    {
     "data": {
      "text/plain": [
       "array([ 2.60579354,  4.89310918,  6.08911539, ...,  4.84331112,\n",
       "       -2.06935991, 10.52793813])"
      ]
     },
     "execution_count": 127,
     "metadata": {},
     "output_type": "execute_result"
    }
   ],
   "source": [
    "rdg_predictions_95"
   ]
  },
  {
   "cell_type": "code",
   "execution_count": 128,
   "id": "3672a18a",
   "metadata": {},
   "outputs": [
    {
     "name": "stderr",
     "output_type": "stream",
     "text": [
      "C:\\Users\\moncy\\anaconda3\\lib\\site-packages\\seaborn\\distributions.py:2557: FutureWarning: `distplot` is a deprecated function and will be removed in a future version. Please adapt your code to use either `displot` (a figure-level function with similar flexibility) or `histplot` (an axes-level function for histograms).\n",
      "  warnings.warn(msg, FutureWarning)\n"
     ]
    },
    {
     "data": {
      "text/plain": [
       "<AxesSubplot:xlabel='price', ylabel='Density'>"
      ]
     },
     "execution_count": 128,
     "metadata": {},
     "output_type": "execute_result"
    },
    {
     "data": {
      "image/png": "[encoded data removed]",
      "text/plain": [
       "<Figure size 864x432 with 1 Axes>"
      ]
     },
     "metadata": {
      "needs_background": "light"
     },
     "output_type": "display_data"
    }
   ],
   "source": [
    "sns.distplot(y_test - rdg_predictions_95)"
   ]
  },
  {
   "cell_type": "code",
   "execution_count": 129,
   "id": "e02116f5",
   "metadata": {},
   "outputs": [
    {
     "data": {
      "text/plain": [
       "Text(0, 0.5, 'Predicted value')"
      ]
     },
     "execution_count": 129,
     "metadata": {},
     "output_type": "execute_result"
    },
    {
     "data": {
      "image/png": "[encoded data removed]",
      "text/plain": [
       "<Figure size 864x432 with 1 Axes>"
      ]
     },
     "metadata": {
      "needs_background": "light"
     },
     "output_type": "display_data"
    }
   ],
   "source": [
    "plt.scatter(y_test, rdg_predictions_95)\n",
    "plt.xlabel('actual value')\n",
    "plt.ylabel(\"Predicted value\")"
   ]
  },
  {
   "cell_type": "code",
   "execution_count": 130,
   "id": "2c4f506f",
   "metadata": {},
   "outputs": [
    {
     "data": {
      "text/plain": [
       "array([ 2.84086073,  5.09022689,  5.56011261, ...,  5.41101196,\n",
       "       -1.66017236, 10.71660353])"
      ]
     },
     "execution_count": 130,
     "metadata": {},
     "output_type": "execute_result"
    }
   ],
   "source": [
    "rdg_predictions_99"
   ]
  },
  {
   "cell_type": "code",
   "execution_count": 131,
   "id": "e84daf5a",
   "metadata": {},
   "outputs": [
    {
     "name": "stderr",
     "output_type": "stream",
     "text": [
      "C:\\Users\\moncy\\anaconda3\\lib\\site-packages\\seaborn\\distributions.py:2557: FutureWarning: `distplot` is a deprecated function and will be removed in a future version. Please adapt your code to use either `displot` (a figure-level function with similar flexibility) or `histplot` (an axes-level function for histograms).\n",
      "  warnings.warn(msg, FutureWarning)\n"
     ]
    },
    {
     "data": {
      "text/plain": [
       "<AxesSubplot:xlabel='price', ylabel='Density'>"
      ]
     },
     "execution_count": 131,
     "metadata": {},
     "output_type": "execute_result"
    },
    {
     "data": {
      "image/png": "[encoded data removed]",
      "text/plain": [
       "<Figure size 864x432 with 1 Axes>"
      ]
     },
     "metadata": {
      "needs_background": "light"
     },
     "output_type": "display_data"
    }
   ],
   "source": [
    "sns.distplot(y_test - rdg_predictions_99)"
   ]
  },
  {
   "cell_type": "code",
   "execution_count": 132,
   "id": "61e4710e",
   "metadata": {},
   "outputs": [
    {
     "data": {
      "text/plain": [
       "Text(0, 0.5, 'Predicted value')"
      ]
     },
     "execution_count": 132,
     "metadata": {},
     "output_type": "execute_result"
    },
    {
     "data": {
      "image/png": "[encoded data removed]",
      "text/plain": [
       "<Figure size 864x432 with 1 Axes>"
      ]
     },
     "metadata": {
      "needs_background": "light"
     },
     "output_type": "display_data"
    }
   ],
   "source": [
    "plt.scatter(y_test, rdg_predictions_99)\n",
    "plt.xlabel('actual value')\n",
    "plt.ylabel(\"Predicted value\")"
   ]
  },
  {
   "cell_type": "markdown",
   "id": "934c88a3",
   "metadata": {},
   "source": [
    "Hyperparameter tuning DecisionTreeRegressor"
   ]
  },
  {
   "cell_type": "code",
   "execution_count": 135,
   "id": "323d680d",
   "metadata": {},
   "outputs": [],
   "source": [
    "dtc = DecisionTreeRegressor()"
   ]
  },
  {
   "cell_type": "code",
   "execution_count": 136,
   "id": "2e0c5f05",
   "metadata": {},
   "outputs": [],
   "source": [
    "#Number of features to consider at every split\n",
    "max_features = ['auto','sqrt']\n",
    "#Maximum number of levels in the tree\n",
    "max_depth = [int(x) for x in np.linspace(5,30, num = 6)]\n",
    "#Maximum number of observations/samples required to do the split\n",
    "min_samples_split = [2,5,10,15,100]\n",
    "#The minimum number of samples required to be at a leaf node.\n",
    "min_samples_leaf = [1,2,5,10]"
   ]
  },
  {
   "cell_type": "code",
   "execution_count": 137,
   "id": "04b77870",
   "metadata": {},
   "outputs": [],
   "source": [
    "dtc_grid = {'max_features': max_features,\n",
    "               'max_depth':max_depth,\n",
    "               'min_samples_split':min_samples_split,\n",
    "               'min_samples_leaf':min_samples_leaf}\n"
   ]
  },
  {
   "cell_type": "code",
   "execution_count": 138,
   "id": "f1597b82",
   "metadata": {},
   "outputs": [],
   "source": [
    "dtc_randomSearch_95 = RandomizedSearchCV(estimator = dtc, param_distributions = dtc_grid, scoring = 'r2', n_iter = 100, cv = 5, verbose = 10, random_state = 42, n_jobs = -1)\n",
    "dtc_randomSearch_99 = RandomizedSearchCV(estimator = dtc, param_distributions = dtc_grid, scoring = 'r2', n_iter = 100, cv = 5, verbose = 10, random_state = 42, n_jobs = -1)"
   ]
  },
  {
   "cell_type": "code",
   "execution_count": 139,
   "id": "776d9fa5",
   "metadata": {},
   "outputs": [
    {
     "name": "stdout",
     "output_type": "stream",
     "text": [
      "Fitting 5 folds for each of 100 candidates, totalling 500 fits\n"
     ]
    },
    {
     "data": {
      "text/plain": [
       "RandomizedSearchCV(cv=5, estimator=DecisionTreeRegressor(), n_iter=100,\n",
       "                   n_jobs=-1,\n",
       "                   param_distributions={'max_depth': [5, 10, 15, 20, 25, 30],\n",
       "                                        'max_features': ['auto', 'sqrt'],\n",
       "                                        'min_samples_leaf': [1, 2, 5, 10],\n",
       "                                        'min_samples_split': [2, 5, 10, 15,\n",
       "                                                              100]},\n",
       "                   random_state=42, scoring='r2', verbose=10)"
      ]
     },
     "execution_count": 139,
     "metadata": {},
     "output_type": "execute_result"
    }
   ],
   "source": [
    "dtc_randomSearch_95.fit(x_train_sc_reduced_95, y_train)"
   ]
  },
  {
   "cell_type": "code",
   "execution_count": 140,
   "id": "fc1496df",
   "metadata": {},
   "outputs": [
    {
     "name": "stdout",
     "output_type": "stream",
     "text": [
      "Fitting 5 folds for each of 100 candidates, totalling 500 fits\n"
     ]
    },
    {
     "data": {
      "text/plain": [
       "RandomizedSearchCV(cv=5, estimator=DecisionTreeRegressor(), n_iter=100,\n",
       "                   n_jobs=-1,\n",
       "                   param_distributions={'max_depth': [5, 10, 15, 20, 25, 30],\n",
       "                                        'max_features': ['auto', 'sqrt'],\n",
       "                                        'min_samples_leaf': [1, 2, 5, 10],\n",
       "                                        'min_samples_split': [2, 5, 10, 15,\n",
       "                                                              100]},\n",
       "                   random_state=42, scoring='r2', verbose=10)"
      ]
     },
     "execution_count": 140,
     "metadata": {},
     "output_type": "execute_result"
    }
   ],
   "source": [
    "dtc_randomSearch_99.fit(x_train_sc_reduced_99, y_train)"
   ]
  },
  {
   "cell_type": "code",
   "execution_count": 141,
   "id": "e4463a44",
   "metadata": {},
   "outputs": [
    {
     "name": "stdout",
     "output_type": "stream",
     "text": [
      "The best R2 score for PCA with 95% of explained variance in data is:  0.4547920324248304\n",
      "The best R2 score for PCA with 99% of explained variance in data is:  0.460593234019508\n"
     ]
    }
   ],
   "source": [
    "print(\"The best R2 score for PCA with 95% of explained variance in data is: \",dtc_randomSearch_95.best_score_)\n",
    "print(\"The best R2 score for PCA with 99% of explained variance in data is: \",dtc_randomSearch_99.best_score_)"
   ]
  },
  {
   "cell_type": "code",
   "execution_count": 142,
   "id": "98eccbc8",
   "metadata": {},
   "outputs": [
    {
     "name": "stdout",
     "output_type": "stream",
     "text": [
      "The best parameters for PCA with 95% of explained variance in data is:  {'min_samples_split': 2, 'min_samples_leaf': 10, 'max_features': 'auto', 'max_depth': 10}\n",
      "The best parameters for PCA with 99% of explained variance in data is:  {'min_samples_split': 10, 'min_samples_leaf': 5, 'max_features': 'auto', 'max_depth': 25}\n"
     ]
    }
   ],
   "source": [
    "print(\"The best parameters for PCA with 95% of explained variance in data is: \",dtc_randomSearch_95.best_params_)\n",
    "print(\"The best parameters for PCA with 99% of explained variance in data is: \",dtc_randomSearch_99.best_params_)"
   ]
  },
  {
   "cell_type": "code",
   "execution_count": 143,
   "id": "a55b6e8f",
   "metadata": {},
   "outputs": [],
   "source": [
    "predictions_95 = dtc_randomSearch_95.predict(x_test_sc_reduced_95)\n",
    "predictions_99 = dtc_randomSearch_99.predict(x_test_sc_reduced_99)"
   ]
  },
  {
   "cell_type": "code",
   "execution_count": 144,
   "id": "6efa39e9",
   "metadata": {},
   "outputs": [
    {
     "data": {
      "text/plain": [
       "array([ 4.45302785, 10.66340385,  5.51283513, ...,  6.74123632,\n",
       "        2.26279599,  4.49480319])"
      ]
     },
     "execution_count": 144,
     "metadata": {},
     "output_type": "execute_result"
    }
   ],
   "source": [
    "predictions_95"
   ]
  },
  {
   "cell_type": "code",
   "execution_count": 145,
   "id": "4876aa11",
   "metadata": {},
   "outputs": [
    {
     "name": "stderr",
     "output_type": "stream",
     "text": [
      "C:\\Users\\moncy\\anaconda3\\lib\\site-packages\\seaborn\\distributions.py:2557: FutureWarning: `distplot` is a deprecated function and will be removed in a future version. Please adapt your code to use either `displot` (a figure-level function with similar flexibility) or `histplot` (an axes-level function for histograms).\n",
      "  warnings.warn(msg, FutureWarning)\n"
     ]
    },
    {
     "data": {
      "text/plain": [
       "<AxesSubplot:xlabel='price', ylabel='Density'>"
      ]
     },
     "execution_count": 145,
     "metadata": {},
     "output_type": "execute_result"
    },
    {
     "data": {
      "image/png": "[encoded data removed]",
      "text/plain": [
       "<Figure size 864x432 with 1 Axes>"
      ]
     },
     "metadata": {
      "needs_background": "light"
     },
     "output_type": "display_data"
    }
   ],
   "source": [
    "sns.distplot(y_test - predictions_95)"
   ]
  },
  {
   "cell_type": "code",
   "execution_count": 146,
   "id": "036192b8",
   "metadata": {},
   "outputs": [
    {
     "data": {
      "text/plain": [
       "Text(0, 0.5, 'Predicted value')"
      ]
     },
     "execution_count": 146,
     "metadata": {},
     "output_type": "execute_result"
    },
    {
     "data": {
      "image/png": "[encoded data removed]",
      "text/plain": [
       "<Figure size 864x432 with 1 Axes>"
      ]
     },
     "metadata": {
      "needs_background": "light"
     },
     "output_type": "display_data"
    }
   ],
   "source": [
    "plt.scatter(y_test, predictions_95)\n",
    "plt.xlabel('actual value')\n",
    "plt.ylabel(\"Predicted value\")"
   ]
  },
  {
   "cell_type": "code",
   "execution_count": 147,
   "id": "29f01efe",
   "metadata": {},
   "outputs": [
    {
     "data": {
      "text/plain": [
       "array([ 1.87333333, 11.1365    ,  4.271875  , ...,  6.96857143,\n",
       "        0.80333333,  8.392     ])"
      ]
     },
     "execution_count": 147,
     "metadata": {},
     "output_type": "execute_result"
    }
   ],
   "source": [
    "predictions_99"
   ]
  },
  {
   "cell_type": "code",
   "execution_count": 148,
   "id": "f2dc255a",
   "metadata": {},
   "outputs": [
    {
     "name": "stderr",
     "output_type": "stream",
     "text": [
      "C:\\Users\\moncy\\anaconda3\\lib\\site-packages\\seaborn\\distributions.py:2557: FutureWarning: `distplot` is a deprecated function and will be removed in a future version. Please adapt your code to use either `displot` (a figure-level function with similar flexibility) or `histplot` (an axes-level function for histograms).\n",
      "  warnings.warn(msg, FutureWarning)\n"
     ]
    },
    {
     "data": {
      "text/plain": [
       "<AxesSubplot:xlabel='price', ylabel='Density'>"
      ]
     },
     "execution_count": 148,
     "metadata": {},
     "output_type": "execute_result"
    },
    {
     "data": {
      "image/png": "[encoded data removed]",
      "text/plain": [
       "<Figure size 864x432 with 1 Axes>"
      ]
     },
     "metadata": {
      "needs_background": "light"
     },
     "output_type": "display_data"
    }
   ],
   "source": [
    "sns.distplot(y_test - predictions_99)"
   ]
  },
  {
   "cell_type": "code",
   "execution_count": 149,
   "id": "9a615d20",
   "metadata": {},
   "outputs": [
    {
     "data": {
      "text/plain": [
       "Text(0, 0.5, 'Predicted value')"
      ]
     },
     "execution_count": 149,
     "metadata": {},
     "output_type": "execute_result"
    },
    {
     "data": {
      "image/png": "[encoded data removed]",
      "text/plain": [
       "<Figure size 864x432 with 1 Axes>"
      ]
     },
     "metadata": {
      "needs_background": "light"
     },
     "output_type": "display_data"
    }
   ],
   "source": [
    "plt.scatter(y_test, predictions_99)\n",
    "plt.xlabel('actual value')\n",
    "plt.ylabel(\"Predicted value\")"
   ]
  },
  {
   "cell_type": "markdown",
   "id": "49772e18",
   "metadata": {},
   "source": [
    "Hyperparameter tuning Random Forest Regressor"
   ]
  },
  {
   "cell_type": "code",
   "execution_count": 90,
   "id": "ca62ea66",
   "metadata": {},
   "outputs": [],
   "source": [
    "from sklearn.ensemble import RandomForestRegressor\n",
    "rf_random = RandomForestRegressor()"
   ]
  },
  {
   "cell_type": "code",
   "execution_count": 91,
   "id": "fa079c2f",
   "metadata": {},
   "outputs": [],
   "source": [
    "###Hyperparameters\n",
    "import numpy as np\n",
    "#nuber of tress to be used in the Random Forest\n",
    "n_estimators = [int(x) for x in np.linspace(start = 100, stop = 1200, num = 12)]\n",
    "#Number of features to consider at every split\n",
    "max_features = ['auto','sqrt']\n",
    "#Maximum number of levels in the tree\n",
    "max_depth = [int(x) for x in np.linspace(5,30, num = 6)]\n",
    "#Maximum number of observations/samples required to do the split\n",
    "min_samples_split = [2,5,10,15,100]\n",
    "#The minimum number of samples required to be at a leaf node.\n",
    "min_samples_leaf = [1,2,5,10]"
   ]
  },
  {
   "cell_type": "code",
   "execution_count": 92,
   "id": "c1c3ce88",
   "metadata": {},
   "outputs": [],
   "source": [
    "random_grid = {'n_estimators':n_estimators,\n",
    "               'max_features': max_features,\n",
    "               'max_depth':max_depth,\n",
    "               'min_samples_split':min_samples_split,\n",
    "               'min_samples_leaf':min_samples_leaf}"
   ]
  },
  {
   "cell_type": "code",
   "execution_count": 93,
   "id": "7b240afb",
   "metadata": {},
   "outputs": [],
   "source": [
    "rf = RandomForestRegressor()"
   ]
  },
  {
   "cell_type": "code",
   "execution_count": 94,
   "id": "a29afe10",
   "metadata": {},
   "outputs": [],
   "source": [
    "rf_randomSearch_95 = RandomizedSearchCV(estimator = rf, param_distributions = random_grid, scoring = 'r2', n_iter = 10, cv = 5, verbose = 10, random_state = 42, n_jobs = -1)\n",
    "rf_randomSearch_99 = RandomizedSearchCV(estimator = rf, param_distributions = random_grid, scoring = 'r2', n_iter = 10, cv = 5, verbose = 10, random_state = 42, n_jobs = -1)"
   ]
  },
  {
   "cell_type": "code",
   "execution_count": 95,
   "id": "a38b24d0",
   "metadata": {},
   "outputs": [
    {
     "name": "stdout",
     "output_type": "stream",
     "text": [
      "Fitting 5 folds for each of 10 candidates, totalling 50 fits\n"
     ]
    },
    {
     "data": {
      "text/plain": [
       "RandomizedSearchCV(cv=5, estimator=RandomForestRegressor(), n_jobs=-1,\n",
       "                   param_distributions={'max_depth': [5, 10, 15, 20, 25, 30],\n",
       "                                        'max_features': ['auto', 'sqrt'],\n",
       "                                        'min_samples_leaf': [1, 2, 5, 10],\n",
       "                                        'min_samples_split': [2, 5, 10, 15,\n",
       "                                                              100],\n",
       "                                        'n_estimators': [100, 200, 300, 400,\n",
       "                                                         500, 600, 700, 800,\n",
       "                                                         900, 1000, 1100,\n",
       "                                                         1200]},\n",
       "                   random_state=42, scoring='r2', verbose=10)"
      ]
     },
     "execution_count": 95,
     "metadata": {},
     "output_type": "execute_result"
    }
   ],
   "source": [
    "rf_randomSearch_95.fit(x_train_sc_reduced_95, y_train)"
   ]
  },
  {
   "cell_type": "code",
   "execution_count": 96,
   "id": "132df332",
   "metadata": {},
   "outputs": [
    {
     "name": "stdout",
     "output_type": "stream",
     "text": [
      "Fitting 5 folds for each of 10 candidates, totalling 50 fits\n"
     ]
    },
    {
     "data": {
      "text/plain": [
       "RandomizedSearchCV(cv=5, estimator=RandomForestRegressor(), n_jobs=-1,\n",
       "                   param_distributions={'max_depth': [5, 10, 15, 20, 25, 30],\n",
       "                                        'max_features': ['auto', 'sqrt'],\n",
       "                                        'min_samples_leaf': [1, 2, 5, 10],\n",
       "                                        'min_samples_split': [2, 5, 10, 15,\n",
       "                                                              100],\n",
       "                                        'n_estimators': [100, 200, 300, 400,\n",
       "                                                         500, 600, 700, 800,\n",
       "                                                         900, 1000, 1100,\n",
       "                                                         1200]},\n",
       "                   random_state=42, scoring='r2', verbose=10)"
      ]
     },
     "execution_count": 96,
     "metadata": {},
     "output_type": "execute_result"
    }
   ],
   "source": [
    "rf_randomSearch_99.fit(x_train_sc_reduced_99, y_train)"
   ]
  },
  {
   "cell_type": "code",
   "execution_count": 97,
   "id": "2c72dc13",
   "metadata": {},
   "outputs": [
    {
     "name": "stdout",
     "output_type": "stream",
     "text": [
      "The best R2 score for data Reduced with PCA to 95% explained variance is:  0.684435102486544\n",
      "The best R2 score for data Reduced with PCA to 99% explained variance is:  0.6797351220256934\n"
     ]
    }
   ],
   "source": [
    "print(\"The best R2 score for data Reduced with PCA to 95% explained variance is: \",rf_randomSearch_95.best_score_)\n",
    "print(\"The best R2 score for data Reduced with PCA to 99% explained variance is: \",rf_randomSearch_99.best_score_)"
   ]
  },
  {
   "cell_type": "code",
   "execution_count": 98,
   "id": "18f34efe",
   "metadata": {},
   "outputs": [
    {
     "name": "stdout",
     "output_type": "stream",
     "text": [
      "The best parameters for data Reduced with PCA to 95% explained variance is:  {'n_estimators': 400, 'min_samples_split': 5, 'min_samples_leaf': 5, 'max_features': 'auto', 'max_depth': 15}\n",
      "The best parameters for data Reduced with PCA to 99% explained variance is:  {'n_estimators': 700, 'min_samples_split': 15, 'min_samples_leaf': 1, 'max_features': 'auto', 'max_depth': 20}\n"
     ]
    }
   ],
   "source": [
    "print(\"The best parameters for data Reduced with PCA to 95% explained variance is: \",rf_randomSearch_95.best_params_)\n",
    "print(\"The best parameters for data Reduced with PCA to 99% explained variance is: \",rf_randomSearch_99.best_params_)"
   ]
  },
  {
   "cell_type": "code",
   "execution_count": 99,
   "id": "6c32ce64",
   "metadata": {},
   "outputs": [],
   "source": [
    "predictions_95 = rf_randomSearch_95.predict(x_test_sc_reduced_95)\n",
    "predictions_99 = rf_randomSearch_99.predict(x_test_sc_reduced_99)"
   ]
  },
  {
   "cell_type": "code",
   "execution_count": 100,
   "id": "19a50990",
   "metadata": {},
   "outputs": [
    {
     "data": {
      "text/plain": [
       "array([4.64805282, 9.65835497, 5.63599499, ..., 6.4510202 , 2.51481639,\n",
       "       6.51411811])"
      ]
     },
     "execution_count": 100,
     "metadata": {},
     "output_type": "execute_result"
    }
   ],
   "source": [
    "predictions_95"
   ]
  },
  {
   "cell_type": "code",
   "execution_count": 101,
   "id": "ad7b1368",
   "metadata": {},
   "outputs": [
    {
     "name": "stderr",
     "output_type": "stream",
     "text": [
      "C:\\Users\\moncy\\anaconda3\\lib\\site-packages\\seaborn\\distributions.py:2557: FutureWarning: `distplot` is a deprecated function and will be removed in a future version. Please adapt your code to use either `displot` (a figure-level function with similar flexibility) or `histplot` (an axes-level function for histograms).\n",
      "  warnings.warn(msg, FutureWarning)\n"
     ]
    },
    {
     "data": {
      "text/plain": [
       "<AxesSubplot:xlabel='price', ylabel='Density'>"
      ]
     },
     "execution_count": 101,
     "metadata": {},
     "output_type": "execute_result"
    },
    {
     "data": {
      "image/png": "[encoded data removed]",
      "text/plain": [
       "<Figure size 864x432 with 1 Axes>"
      ]
     },
     "metadata": {
      "needs_background": "light"
     },
     "output_type": "display_data"
    }
   ],
   "source": [
    "sns.distplot(y_test - predictions_95)"
   ]
  },
  {
   "cell_type": "code",
   "execution_count": 102,
   "id": "2e4900f2",
   "metadata": {
    "scrolled": true
   },
   "outputs": [
    {
     "data": {
      "text/plain": [
       "Text(0, 0.5, 'Predicted value')"
      ]
     },
     "execution_count": 102,
     "metadata": {},
     "output_type": "execute_result"
    },
    {
     "data": {
      "image/png": "[encoded data removed]",
      "text/plain": [
       "<Figure size 864x432 with 1 Axes>"
      ]
     },
     "metadata": {
      "needs_background": "light"
     },
     "output_type": "display_data"
    }
   ],
   "source": [
    "plt.scatter(y_test, predictions_95)\n",
    "plt.xlabel('actual value')\n",
    "plt.ylabel(\"Predicted value\") "
   ]
  },
  {
   "cell_type": "code",
   "execution_count": 103,
   "id": "af769557",
   "metadata": {},
   "outputs": [
    {
     "data": {
      "text/plain": [
       "array([4.57608929, 7.96451089, 5.58596661, ..., 6.20375098, 2.46780195,\n",
       "       6.35335423])"
      ]
     },
     "execution_count": 103,
     "metadata": {},
     "output_type": "execute_result"
    }
   ],
   "source": [
    "predictions_99"
   ]
  },
  {
   "cell_type": "code",
   "execution_count": 104,
   "id": "243fb956",
   "metadata": {},
   "outputs": [
    {
     "name": "stderr",
     "output_type": "stream",
     "text": [
      "C:\\Users\\moncy\\anaconda3\\lib\\site-packages\\seaborn\\distributions.py:2557: FutureWarning: `distplot` is a deprecated function and will be removed in a future version. Please adapt your code to use either `displot` (a figure-level function with similar flexibility) or `histplot` (an axes-level function for histograms).\n",
      "  warnings.warn(msg, FutureWarning)\n"
     ]
    },
    {
     "data": {
      "text/plain": [
       "<AxesSubplot:xlabel='price', ylabel='Density'>"
      ]
     },
     "execution_count": 104,
     "metadata": {},
     "output_type": "execute_result"
    },
    {
     "data": {
      "image/png": "[encoded data removed]",
      "text/plain": [
       "<Figure size 864x432 with 1 Axes>"
      ]
     },
     "metadata": {
      "needs_background": "light"
     },
     "output_type": "display_data"
    }
   ],
   "source": [
    "sns.distplot(y_test - predictions_99)"
   ]
  },
  {
   "cell_type": "code",
   "execution_count": 105,
   "id": "a5b0f090",
   "metadata": {},
   "outputs": [
    {
     "data": {
      "text/plain": [
       "Text(0, 0.5, 'Predicted value')"
      ]
     },
     "execution_count": 105,
     "metadata": {},
     "output_type": "execute_result"
    },
    {
     "data": {
      "image/png": "[encoded data removed]",
      "text/plain": [
       "<Figure size 864x432 with 1 Axes>"
      ]
     },
     "metadata": {
      "needs_background": "light"
     },
     "output_type": "display_data"
    }
   ],
   "source": [
    "plt.scatter(y_test, predictions_99)\n",
    "plt.xlabel('actual value')\n",
    "plt.ylabel(\"Predicted value\")"
   ]
  },
  {
   "cell_type": "markdown",
   "id": "afc33a85",
   "metadata": {},
   "source": [
    "Observations:\n",
    "1. The Ridge model is giving a better score than the RandomForestRegressor model and Decision Tree.\n"
   ]
  },
  {
   "cell_type": "markdown",
   "id": "2fc1bb0d",
   "metadata": {},
   "source": [
    "# Final Model"
   ]
  },
  {
   "cell_type": "code",
   "execution_count": 106,
   "id": "4ef5b4b7",
   "metadata": {},
   "outputs": [],
   "source": [
    "car_price_predictor = Ridge(alpha = 0.99)"
   ]
  },
  {
   "cell_type": "code",
   "execution_count": 107,
   "id": "34f17bf1",
   "metadata": {},
   "outputs": [
    {
     "data": {
      "text/plain": [
       "Ridge(alpha=0.99)"
      ]
     },
     "execution_count": 107,
     "metadata": {},
     "output_type": "execute_result"
    }
   ],
   "source": [
    "#Training with the test data\n",
    "car_price_predictor.fit(x_train_sc_reduced_99, y_train)"
   ]
  },
  {
   "cell_type": "code",
   "execution_count": 108,
   "id": "ac5d5269",
   "metadata": {},
   "outputs": [
    {
     "name": "stdout",
     "output_type": "stream",
     "text": [
      "Training scores:\n",
      "MSE:  10.78498082123144\n",
      "RMSE:  3.2840494547481223\n",
      "R2 score: 0.9348186953558986\n",
      "--------------------\n",
      "Testing scores:\n",
      "MSE:  16.182820363991237\n",
      "RMSE:  4.022787635954853\n",
      "R2 score: 0.8968749350498582\n",
      "====================\n"
     ]
    }
   ],
   "source": [
    "y_train_pred = car_price_predictor.predict(x_train_sc_reduced_99)\n",
    "y_test_pred = car_price_predictor.predict(x_test_sc_reduced_99)\n",
    "print(\"Training scores:\")\n",
    "print(\"MSE: \",mean_squared_error(y_train, y_train_pred))\n",
    "print(\"RMSE: \",mean_squared_error(y_train, y_train_pred, squared=False))\n",
    "print(\"R2 score:\",r2_score(y_train, y_train_pred))\n",
    "print(\"-\"*20)\n",
    "print(\"Testing scores:\")\n",
    "print(\"MSE: \",mean_squared_error(y_test, y_test_pred))\n",
    "print(\"RMSE: \",mean_squared_error(y_test, y_test_pred, squared=False))\n",
    "print(\"R2 score:\",r2_score(y_test, y_test_pred))\n",
    "print(\"=\"*20)"
   ]
  },
  {
   "cell_type": "code",
   "execution_count": 109,
   "id": "0c75c256",
   "metadata": {},
   "outputs": [],
   "source": [
    "#Retraining the final model with the whole data"
   ]
  },
  {
   "cell_type": "code",
   "execution_count": 125,
   "id": "6b6025ab",
   "metadata": {},
   "outputs": [],
   "source": [
    "x['brand'] = x['brand'].astype('str')\n",
    "x['model'] = x['model'].astype('str')\n",
    "x['variant'] = x['variant'].astype('str')\n",
    "x['fuel_type'] = x['fuel_type'].astype('str')\n",
    "x['owners'] = x['owners'].astype('str')\n",
    "x['location'] = x['location'].astype('str')\n",
    "\n",
    "ohe = OneHotEncoder(categories='auto',handle_unknown = 'ignore',sparse=False)\n",
    "sc = MinMaxScaler()\n",
    "\n",
    "x_enc = ohe.fit_transform(x)\n",
    "x_sc = sc.fit_transform(x_enc)\n",
    "\n",
    "pca = PCA(n_components = 0.99)\n",
    "x_sc_reduced_data = pca.fit_transform(x_sc)"
   ]
  },
  {
   "cell_type": "code",
   "execution_count": 129,
   "id": "50f5ec00",
   "metadata": {},
   "outputs": [
    {
     "data": {
      "text/plain": [
       "Ridge(alpha=0.99)"
      ]
     },
     "execution_count": 129,
     "metadata": {},
     "output_type": "execute_result"
    }
   ],
   "source": [
    "car_price_predictor.fit(x_sc_reduced_data, y)"
   ]
  },
  {
   "cell_type": "markdown",
   "id": "bc7d5960",
   "metadata": {},
   "source": [
    "# Pickling the Final model"
   ]
  },
  {
   "cell_type": "code",
   "execution_count": 130,
   "id": "36b51674",
   "metadata": {},
   "outputs": [],
   "source": [
    "import pickle"
   ]
  },
  {
   "cell_type": "code",
   "execution_count": 131,
   "id": "dffda29d",
   "metadata": {},
   "outputs": [],
   "source": [
    "file = open('car_price_predictor_model.pkl','wb')\n",
    "pickle.dump(car_price_predictor,file)"
   ]
  },
  {
   "cell_type": "code",
   "execution_count": null,
   "id": "ce1f9080",
   "metadata": {},
   "outputs": [],
   "source": []
  }
 ],
 "metadata": {
  "kernelspec": {
   "display_name": "Python 3",
   "language": "python",
   "name": "python3"
  },
  "language_info": {
   "codemirror_mode": {
    "name": "ipython",
    "version": 3
   },
   "file_extension": ".py",
   "mimetype": "text/x-python",
   "name": "python",
   "nbconvert_exporter": "python",
   "pygments_lexer": "ipython3",
   "version": "3.8.8"
  }
 },
 "nbformat": 4,
 "nbformat_minor": 5
}
